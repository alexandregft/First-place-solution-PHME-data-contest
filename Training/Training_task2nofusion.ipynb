{
 "cells": [
  {
   "cell_type": "code",
   "execution_count": 1,
   "id": "covered-uncle",
   "metadata": {},
   "outputs": [
    {
     "name": "stderr",
     "output_type": "stream",
     "text": [
      "\n",
      "Bad key \"text.kerning_factor\" on line 4 in\n",
      "/opt/anaconda3/envs/bigdatalab_cpu_202101/lib/python3.7/site-packages/matplotlib/mpl-data/stylelib/_classic_test_patch.mplstyle.\n",
      "You probably need to get an updated matplotlibrc file from\n",
      "https://github.com/matplotlib/matplotlib/blob/v3.1.2/matplotlibrc.template\n",
      "or from the matplotlib source distribution\n"
     ]
    }
   ],
   "source": [
    "import pandas as pd\n",
    "import numpy as np\n",
    "import matplotlib.pyplot as plt\n",
    "from scipy.stats import norm \n",
    "\n",
    "from sklearn.neighbors import KernelDensity\n",
    "import joblib\n",
    "from sklearn.metrics import roc_auc_score\n",
    "import os\n",
    "import random\n",
    "import xgboost\n",
    "import numpy as np\n",
    "import matplotlib.pylab as plt\n",
    "import pandas as pd\n",
    "from sklearn.metrics import accuracy_score, confusion_matrix, recall_score, precision_score, f1_score\n",
    "from sklearn.preprocessing import StandardScaler\n",
    "\n",
    "from sklearn.discriminant_analysis import LinearDiscriminantAnalysis as LDA\n",
    "from sklearn.ensemble import RandomForestClassifier\n",
    "import category_encoders as ce\n"
   ]
  },
  {
   "cell_type": "code",
   "execution_count": 2,
   "id": "amber-density",
   "metadata": {},
   "outputs": [
    {
     "name": "stderr",
     "output_type": "stream",
     "text": [
      "/opt/anaconda3/envs/bigdatalab_cpu_202101/lib/python3.7/site-packages/IPython/core/interactiveshell.py:3156: DtypeWarning: Columns (17) have mixed types.Specify dtype option on import or set low_memory=False.\n",
      "  interactivity=interactivity, compiler=compiler, result=result)\n"
     ]
    }
   ],
   "source": [
    "InputAOI=pd.read_csv('data-challenge-phme/data/AOI_training.csv.zip')\n",
    "InputAOI['PinNumber']=InputAOI['PinNumber'].astype('Int64').astype(str)\n",
    "InputAOI['FigureID2']=InputAOI['FigureID']\n",
    "InputAOI['ComponentID2']=InputAOI['ComponentID']\n",
    "\n",
    "InputAOI['Count_Pin']=InputAOI.groupby([\"PanelID\",\"FigureID2\",\"ComponentID2\"])[\"PinNumber\"].transform('count')\n",
    "InputAOI['Count_Pin_Figure']=InputAOI.groupby([\"PanelID\",\"FigureID2\"])[\"PinNumber\"].transform('count')\n",
    "InputAOI['Count_Panel']=InputAOI.groupby([\"PanelID\"])[\"PinNumber\"].transform('count')\n",
    "\n",
    "InputAOI['Target']=InputAOI['OperatorLabel'].astype('category').cat.codes\n",
    "\n",
    "InputSPI=pd.DataFrame()\n",
    "for item in range(4):\n",
    "    InputSPI=pd.concat([InputSPI,pd.read_csv('data-challenge-phme/data/SPI_training_'+str(item)+'.csv.zip')])\n",
    "InputAOI['key_spi']=(InputAOI['PanelID'].astype(str)+'_'+InputAOI['FigureID'].astype(str)+'_'+InputAOI['ComponentID'].astype(str))\n",
    "InputSPI=InputSPI.dropna(subset=['FigureID'])\n",
    "\n",
    "InputSPI['FigureID2']=InputSPI['FigureID']\n",
    "InputSPI['ComponentID2']=InputSPI['ComponentID']\n",
    "InputSPI['key_spi']=(InputSPI['PanelID'].astype(str)+'_'+InputSPI['FigureID'].astype(int,errors='ignore').astype(str)+'_'+InputSPI['ComponentID'].astype(str))\n",
    "Features_to_bin=['Volume(%)',  'Area(%)', 'OffsetX(%)','OffsetY(%)']\n"
   ]
  },
  {
   "cell_type": "code",
   "execution_count": 3,
   "id": "intense-newport",
   "metadata": {},
   "outputs": [],
   "source": []
  },
  {
   "cell_type": "code",
   "execution_count": 4,
   "id": "synthetic-sterling",
   "metadata": {},
   "outputs": [],
   "source": [
    "InputAOI['PanelID_FigureID_ComponentID']=InputAOI['PanelID'].astype(str)+'_'+InputAOI['FigureID'].astype(str)+'_'+InputAOI['ComponentID'].astype(str)\n",
    "    "
   ]
  },
  {
   "cell_type": "code",
   "execution_count": 6,
   "id": "necessary-assignment",
   "metadata": {},
   "outputs": [],
   "source": [
    "listAOI_Label=InputAOI.AOILabel.unique().tolist()\n",
    "for element in listAOI_Label:\n",
    "    InputAOI.loc[:,element]=0"
   ]
  },
  {
   "cell_type": "code",
   "execution_count": 7,
   "id": "modified-projector",
   "metadata": {},
   "outputs": [],
   "source": [
    "for item in InputAOI['PanelID_FigureID_ComponentID'].unique().tolist():\n",
    "    list_item_aoilabel=[]\n",
    "    df_inter=InputAOI.loc[InputAOI['PanelID_FigureID_ComponentID']==item]\n",
    "    list_item_aoilabel=df_inter.AOILabel.unique()\n",
    "    for element in listAOI_Label:\n",
    "        if element in list_item_aoilabel:\n",
    "            InputAOI.loc[InputAOI['PanelID_FigureID_ComponentID']==item,element]=1\n",
    "        "
   ]
  },
  {
   "cell_type": "code",
   "execution_count": 15,
   "id": "incredible-india",
   "metadata": {},
   "outputs": [],
   "source": [
    "aoi_outter=InputAOI.copy()\n",
    "aoi_outter['FigureID_ComponentID']=(aoi_outter['FigureID'].astype(str)+'_'+aoi_outter['ComponentID'].astype(str)).astype(\"category\").cat.codes\n",
    "    \n",
    "    \n",
    "    "
   ]
  },
  {
   "cell_type": "code",
   "execution_count": 16,
   "id": "fourth-adjustment",
   "metadata": {},
   "outputs": [],
   "source": [
    "InputSPI_grouped=InputSPI.groupby([\"PanelID\",\"FigureID2\",\"ComponentID2\"])[Features_to_bin].mean().reset_index()\n",
    "aoi_outter=aoi_outter.merge(InputSPI_grouped,how=\"left\",left_on=[\"PanelID\",\"FigureID2\",\"ComponentID2\"],right_on=[\"PanelID\",\"FigureID2\",\"ComponentID2\"])"
   ]
  },
  {
   "cell_type": "code",
   "execution_count": null,
   "id": "pleasant-blues",
   "metadata": {},
   "outputs": [],
   "source": []
  },
  {
   "cell_type": "code",
   "execution_count": 17,
   "id": "parallel-greenhouse",
   "metadata": {},
   "outputs": [],
   "source": [
    "aoi_outter=aoi_outter.drop_duplicates(subset=[\"PanelID\",\"FigureID2\",\"ComponentID2\"])"
   ]
  },
  {
   "cell_type": "code",
   "execution_count": 18,
   "id": "satisfactory-lithuania",
   "metadata": {},
   "outputs": [],
   "source": [
    "\n",
    "\n",
    "list_var_to_encode=[\"ComponentID\",\"FigureID_ComponentID\"]\n",
    "\n",
    "for var in list_var_to_encode:\n",
    "    aoi_outter[var]=aoi_outter[var].astype('category').cat.codes\n",
    "    \n",
    "    \n",
    "    "
   ]
  },
  {
   "cell_type": "code",
   "execution_count": 19,
   "id": "cultural-brazilian",
   "metadata": {},
   "outputs": [],
   "source": [
    "Features_to_bin=['Volume(%)',  'Area(%)', 'OffsetX(%)','OffsetY(%)']"
   ]
  },
  {
   "cell_type": "code",
   "execution_count": 32,
   "id": "portuguese-pharmacy",
   "metadata": {},
   "outputs": [
    {
     "name": "stdout",
     "output_type": "stream",
     "text": [
      "0\n",
      "[[  350    60]\n",
      " [    0 27047]]\n",
      "[[  49    3]\n",
      " [   0 5531]]\n",
      "0.9210526315789475\n",
      "0.9702970297029703\n"
     ]
    }
   ],
   "source": [
    "list_panel_id=InputAOI.PanelID.unique().tolist()\n",
    "\n",
    "\n",
    "def cross_validation_panel_id_creation(list_panel_id,n_fold=5):\n",
    "    Fold_list=[]\n",
    "    random.shuffle(list_panel_id)\n",
    "    list_panel_id=joblib.load(\"list_panel_id\")\n",
    "    len_fold=(len(list_panel_id))//n_fold\n",
    "    for fold in range(n_fold):\n",
    "        Fold_list.append(list_panel_id[fold*len_fold:(fold+1)*len_fold])\n",
    "    return(Fold_list)\n",
    "Fold_list=cross_validation_panel_id_creation(list_panel_id)\n",
    "#Final_df=Final_df.loc[Final_df['ComponentID2']!=\"BC1\"]\n",
    "f1_score_list=[]\n",
    "list_confusion_matrix=[]\n",
    "for Test_fold_indice in range(1):\n",
    "    print(Test_fold_indice)\n",
    "    Train_indice=[]\n",
    "    count_indice_fit_pin_training=0\n",
    "    for indices in range(len(Fold_list)):\n",
    "        if indices!=Test_fold_indice:\n",
    "            Train_indice=Train_indice+Fold_list[indices]\n",
    "        else:\n",
    "            Test_indices=Fold_list[indices]\n",
    "            Train_indice=Train_indice+Fold_list[indices]\n",
    "\n",
    "    Train_df=aoi_outter.loc[aoi_outter[\"PanelID\"].isin(Train_indice)].reset_index(drop=True)\n",
    "    Test_df=aoi_outter.loc[aoi_outter[\"PanelID\"].isin(Test_indices)].reset_index(drop=True)\n",
    "    X_train=Train_df\n",
    "    X_val=Test_df\n",
    "    y_train=Train_df['Target']\n",
    "    y_val=Test_df['Target']\n",
    "    y_train=Train_df['Target']\n",
    "    y_train=Train_df['Target']\n",
    "    y_val=Test_df['Target']\n",
    "\n",
    "    encoder=ce.CatBoostEncoder()\n",
    "    \n",
    "\n",
    "    AE_train=encoder.fit_transform(X_train[list_var_to_encode].copy(),y_train)\n",
    "    AE_train.columns=[x+\"_encoded\" for x in AE_train.columns.tolist()]\n",
    "    X_train_final=pd.concat([X_train,AE_train],axis=1)\n",
    "    joblib.dump(encoder,\"Cat_boost_step2_outer\")\n",
    "    \n",
    "    AE_val=encoder.transform(X_val[list_var_to_encode].copy())\n",
    "    AE_val.columns=[x+\"_encoded\" for x in AE_val.columns.tolist()]\n",
    "    X_val_final=pd.concat([X_val,AE_val],axis=1)\n",
    "    \n",
    "    col_features=Features_to_bin+[x+\"_encoded\" for x in list_var_to_encode]+[\"Count_Pin\",\"Count_Pin_Figure\"]+listAOI_Label#+['MachineID_encoded']\n",
    "    \n",
    "    X_train_final=X_train_final.replace(np.nan,0)\n",
    "    X_val_final=X_val_final.replace(np.nan,0)\n",
    "    X_train_final=X_train_final[col_features].to_numpy()\n",
    "    X_val_final=X_val_final[col_features].to_numpy()\n",
    "\n",
    "    ratio=np.sum(y_train==0)/np.sum(y_train==1)\n",
    "    \n",
    "\n",
    "\n",
    "    xgb_cl = xgboost.XGBClassifier(objective=\"binary:logistic\",n_estimators =150,max_depth = 10,scale_pos_weight=1)\n",
    "    #xgb_cl = xgboost.XGBClassifier(**Best_trial)\n",
    "\n",
    "    xgb_cl.fit(X_train_final, y_train)\n",
    "    joblib.dump(xgb_cl,\"xgboost_step2_outter\")\n",
    "\n",
    "    res_train=xgb_cl.predict(X_train_final)\n",
    "    res_test=xgb_cl.predict(X_val_final)\n",
    "\n",
    "    X_train['Pred']=res_train\n",
    "    X_val['Pred']=res_test\n",
    "   \n",
    "    \n",
    "    y_train=X_train.groupby([\"PanelID\",\"FigureID\",\"ComponentID\"])['Target'].min()\n",
    "    y_val=X_val.groupby([\"PanelID\",\"FigureID\",\"ComponentID\"])['Target'].min()\n",
    "\n",
    "\n",
    "    res_train=X_train.groupby([\"PanelID\",\"FigureID\",\"ComponentID\"])['Pred'].min()\n",
    "    res_test=X_val.groupby([\"PanelID\",\"FigureID\",\"ComponentID\"])['Pred'].min()\n",
    "\n",
    "\n",
    "\n",
    "\n",
    "    print(confusion_matrix(y_train, res_train,labels=[0,1]))\n",
    "    print(confusion_matrix(y_val,res_test,labels=[0,1]))\n",
    "\n",
    "    print(f1_score(y_train, res_train,pos_label=0))\n",
    "    print(f1_score(y_val, res_test,pos_label=0))\n",
    "\n",
    "    f1_score_list.append(f1_score(y_val, res_test,pos_label=0))"
   ]
  },
  {
   "cell_type": "code",
   "execution_count": 33,
   "id": "elementary-regard",
   "metadata": {},
   "outputs": [
    {
     "data": {
      "text/plain": [
       "0.9702970297029703"
      ]
     },
     "execution_count": 33,
     "metadata": {},
     "output_type": "execute_result"
    }
   ],
   "source": [
    "np.mean(f1_score_list)"
   ]
  },
  {
   "cell_type": "code",
   "execution_count": 34,
   "id": "fifth-update",
   "metadata": {},
   "outputs": [],
   "source": [
    "import pandas as pd\n",
    "import numpy as np\n",
    "import matplotlib.pyplot as plt\n",
    "from scipy.stats import norm \n",
    "\n",
    "from sklearn.neighbors import KernelDensity\n",
    "import joblib\n",
    "from sklearn.metrics import roc_auc_score\n",
    "import os\n",
    "import random\n",
    "import xgboost\n",
    "import numpy as np\n",
    "import pandas as pd\n",
    "from sklearn.metrics import accuracy_score, confusion_matrix, recall_score, precision_score, f1_score\n",
    "from sklearn.preprocessing import StandardScaler\n",
    "\n",
    "from sklearn.discriminant_analysis import LinearDiscriminantAnalysis as LDA\n",
    "from sklearn.ensemble import RandomForestClassifier\n",
    "\n",
    "\n",
    "import category_encoders as ce\n",
    "import optuna\n",
    "from optuna import Trial, visualization\n",
    "from optuna.samplers import TPESampler\n",
    "import logging\n",
    "from sklearn.model_selection import cross_val_score"
   ]
  },
  {
   "cell_type": "code",
   "execution_count": 40,
   "id": "square-regulation",
   "metadata": {},
   "outputs": [],
   "source": [
    "\n",
    "\n",
    "\n",
    "def objective(trial: Trial,X,y) -> float:\n",
    "    \n",
    "    joblib.dump(study, 'study.pkl')\n",
    "\n",
    "    param = {\n",
    "        'objective': trial.suggest_categorical('objective',['binary:logistic']), \n",
    "        'tree_method': trial.suggest_categorical('tree_method',['hist']),  # 'gpu_hist','hist'\n",
    "        'lambda': trial.suggest_loguniform('lambda',1e-3,10.0),\n",
    "        'alpha': trial.suggest_loguniform('alpha',1e-3,10.0),\n",
    "        'colsample_bytree': trial.suggest_uniform('colsample_bytree', 0.3,1.0),\n",
    "        #'subsample': trial.suggest_uniform('subsample', 0.4, 1.0),\n",
    "        'learning_rate': trial.suggest_loguniform('learning_rate', 0.001,0.1),\n",
    "        'n_estimators': trial.suggest_categorical('n_estimators', [30,40,50,70,100,150,200]),\n",
    "        'max_depth': trial.suggest_categorical('max_depth', [3,5,7,9,10,11,12,13,15,17,20]),\n",
    "        #'random_state': trial.suggest_categorical('random_state', [24,48,2020]),\n",
    "        'min_child_weight': trial.suggest_int('min_child_weight', 1,300),\n",
    "        'nthread' : -1,\n",
    "        #'feval': trial.suggest_categorical('feval',[f1_eval]),\n",
    "        #'scale_pos_weight' : trial.suggest_categorical('scale_pos_weight', [ratio])\n",
    "        \n",
    "\n",
    "    }\n",
    "    \n",
    "    \n",
    "    model = xgboost.XGBClassifier(**param,feval=f1_eval)\n",
    "    \n",
    "    return cross_val_score(model, X_train_final, y_train, cv=5,scoring=make_scorer(f1_score, pos_label=0)).mean()"
   ]
  },
  {
   "cell_type": "code",
   "execution_count": 41,
   "id": "double-xerox",
   "metadata": {
    "scrolled": true
   },
   "outputs": [
    {
     "name": "stderr",
     "output_type": "stream",
     "text": [
      "/home/phme/agaffet/.local/lib/python3.7/site-packages/optuna/samplers/_tpe/parzen_estimator.py:188: RuntimeWarning: divide by zero encountered in true_divide\n",
      "  coefficient = 1 / z / p_accept\n",
      "/home/phme/agaffet/.local/lib/python3.7/site-packages/optuna/samplers/_tpe/parzen_estimator.py:188: RuntimeWarning: divide by zero encountered in true_divide\n",
      "  coefficient = 1 / z / p_accept\n",
      "/home/phme/agaffet/.local/lib/python3.7/site-packages/optuna/samplers/_tpe/parzen_estimator.py:188: RuntimeWarning: divide by zero encountered in true_divide\n",
      "  coefficient = 1 / z / p_accept\n",
      "/home/phme/agaffet/.local/lib/python3.7/site-packages/optuna/samplers/_tpe/parzen_estimator.py:188: RuntimeWarning: divide by zero encountered in true_divide\n",
      "  coefficient = 1 / z / p_accept\n",
      "/home/phme/agaffet/.local/lib/python3.7/site-packages/optuna/samplers/_tpe/parzen_estimator.py:188: RuntimeWarning: divide by zero encountered in true_divide\n",
      "  coefficient = 1 / z / p_accept\n",
      "/home/phme/agaffet/.local/lib/python3.7/site-packages/optuna/samplers/_tpe/parzen_estimator.py:188: RuntimeWarning: divide by zero encountered in true_divide\n",
      "  coefficient = 1 / z / p_accept\n",
      "/home/phme/agaffet/.local/lib/python3.7/site-packages/optuna/samplers/_tpe/parzen_estimator.py:188: RuntimeWarning: divide by zero encountered in true_divide\n",
      "  coefficient = 1 / z / p_accept\n",
      "/home/phme/agaffet/.local/lib/python3.7/site-packages/optuna/samplers/_tpe/parzen_estimator.py:188: RuntimeWarning: divide by zero encountered in true_divide\n",
      "  coefficient = 1 / z / p_accept\n",
      "/home/phme/agaffet/.local/lib/python3.7/site-packages/optuna/samplers/_tpe/parzen_estimator.py:188: RuntimeWarning: divide by zero encountered in true_divide\n",
      "  coefficient = 1 / z / p_accept\n",
      "/home/phme/agaffet/.local/lib/python3.7/site-packages/optuna/samplers/_tpe/parzen_estimator.py:188: RuntimeWarning: divide by zero encountered in true_divide\n",
      "  coefficient = 1 / z / p_accept\n",
      "/home/phme/agaffet/.local/lib/python3.7/site-packages/optuna/samplers/_tpe/parzen_estimator.py:188: RuntimeWarning: divide by zero encountered in true_divide\n",
      "  coefficient = 1 / z / p_accept\n",
      "/home/phme/agaffet/.local/lib/python3.7/site-packages/optuna/samplers/_tpe/parzen_estimator.py:188: RuntimeWarning: divide by zero encountered in true_divide\n",
      "  coefficient = 1 / z / p_accept\n",
      "/home/phme/agaffet/.local/lib/python3.7/site-packages/optuna/samplers/_tpe/parzen_estimator.py:188: RuntimeWarning: divide by zero encountered in true_divide\n",
      "  coefficient = 1 / z / p_accept\n",
      "/home/phme/agaffet/.local/lib/python3.7/site-packages/optuna/samplers/_tpe/parzen_estimator.py:188: RuntimeWarning: divide by zero encountered in true_divide\n",
      "  coefficient = 1 / z / p_accept\n",
      "/home/phme/agaffet/.local/lib/python3.7/site-packages/optuna/samplers/_tpe/parzen_estimator.py:188: RuntimeWarning: divide by zero encountered in true_divide\n",
      "  coefficient = 1 / z / p_accept\n",
      "/home/phme/agaffet/.local/lib/python3.7/site-packages/optuna/samplers/_tpe/parzen_estimator.py:188: RuntimeWarning: divide by zero encountered in true_divide\n",
      "  coefficient = 1 / z / p_accept\n",
      "/home/phme/agaffet/.local/lib/python3.7/site-packages/optuna/samplers/_tpe/parzen_estimator.py:188: RuntimeWarning: divide by zero encountered in true_divide\n",
      "  coefficient = 1 / z / p_accept\n",
      "/home/phme/agaffet/.local/lib/python3.7/site-packages/optuna/samplers/_tpe/parzen_estimator.py:188: RuntimeWarning: divide by zero encountered in true_divide\n",
      "  coefficient = 1 / z / p_accept\n",
      "/home/phme/agaffet/.local/lib/python3.7/site-packages/optuna/samplers/_tpe/parzen_estimator.py:188: RuntimeWarning: divide by zero encountered in true_divide\n",
      "  coefficient = 1 / z / p_accept\n",
      "/home/phme/agaffet/.local/lib/python3.7/site-packages/optuna/samplers/_tpe/parzen_estimator.py:188: RuntimeWarning: divide by zero encountered in true_divide\n",
      "  coefficient = 1 / z / p_accept\n",
      "/home/phme/agaffet/.local/lib/python3.7/site-packages/optuna/samplers/_tpe/parzen_estimator.py:188: RuntimeWarning: divide by zero encountered in true_divide\n",
      "  coefficient = 1 / z / p_accept\n",
      "/home/phme/agaffet/.local/lib/python3.7/site-packages/optuna/samplers/_tpe/parzen_estimator.py:188: RuntimeWarning: divide by zero encountered in true_divide\n",
      "  coefficient = 1 / z / p_accept\n",
      "/home/phme/agaffet/.local/lib/python3.7/site-packages/optuna/samplers/_tpe/parzen_estimator.py:188: RuntimeWarning: divide by zero encountered in true_divide\n",
      "  coefficient = 1 / z / p_accept\n",
      "/home/phme/agaffet/.local/lib/python3.7/site-packages/optuna/samplers/_tpe/parzen_estimator.py:188: RuntimeWarning: divide by zero encountered in true_divide\n",
      "  coefficient = 1 / z / p_accept\n",
      "/home/phme/agaffet/.local/lib/python3.7/site-packages/optuna/samplers/_tpe/parzen_estimator.py:188: RuntimeWarning: divide by zero encountered in true_divide\n",
      "  coefficient = 1 / z / p_accept\n",
      "/home/phme/agaffet/.local/lib/python3.7/site-packages/optuna/samplers/_tpe/parzen_estimator.py:188: RuntimeWarning: divide by zero encountered in true_divide\n",
      "  coefficient = 1 / z / p_accept\n",
      "/home/phme/agaffet/.local/lib/python3.7/site-packages/optuna/samplers/_tpe/parzen_estimator.py:188: RuntimeWarning: divide by zero encountered in true_divide\n",
      "  coefficient = 1 / z / p_accept\n",
      "/home/phme/agaffet/.local/lib/python3.7/site-packages/optuna/samplers/_tpe/parzen_estimator.py:188: RuntimeWarning: divide by zero encountered in true_divide\n",
      "  coefficient = 1 / z / p_accept\n",
      "/home/phme/agaffet/.local/lib/python3.7/site-packages/optuna/samplers/_tpe/parzen_estimator.py:188: RuntimeWarning: divide by zero encountered in true_divide\n",
      "  coefficient = 1 / z / p_accept\n",
      "/home/phme/agaffet/.local/lib/python3.7/site-packages/optuna/samplers/_tpe/parzen_estimator.py:188: RuntimeWarning: divide by zero encountered in true_divide\n",
      "  coefficient = 1 / z / p_accept\n",
      "/home/phme/agaffet/.local/lib/python3.7/site-packages/optuna/samplers/_tpe/parzen_estimator.py:188: RuntimeWarning: divide by zero encountered in true_divide\n",
      "  coefficient = 1 / z / p_accept\n",
      "/home/phme/agaffet/.local/lib/python3.7/site-packages/optuna/samplers/_tpe/parzen_estimator.py:188: RuntimeWarning: divide by zero encountered in true_divide\n",
      "  coefficient = 1 / z / p_accept\n",
      "/home/phme/agaffet/.local/lib/python3.7/site-packages/optuna/samplers/_tpe/parzen_estimator.py:188: RuntimeWarning: divide by zero encountered in true_divide\n",
      "  coefficient = 1 / z / p_accept\n",
      "/home/phme/agaffet/.local/lib/python3.7/site-packages/optuna/samplers/_tpe/parzen_estimator.py:188: RuntimeWarning: divide by zero encountered in true_divide\n",
      "  coefficient = 1 / z / p_accept\n",
      "/home/phme/agaffet/.local/lib/python3.7/site-packages/optuna/samplers/_tpe/parzen_estimator.py:188: RuntimeWarning: divide by zero encountered in true_divide\n",
      "  coefficient = 1 / z / p_accept\n",
      "/home/phme/agaffet/.local/lib/python3.7/site-packages/optuna/samplers/_tpe/parzen_estimator.py:188: RuntimeWarning: divide by zero encountered in true_divide\n",
      "  coefficient = 1 / z / p_accept\n",
      "/home/phme/agaffet/.local/lib/python3.7/site-packages/optuna/samplers/_tpe/parzen_estimator.py:188: RuntimeWarning: divide by zero encountered in true_divide\n",
      "  coefficient = 1 / z / p_accept\n",
      "/home/phme/agaffet/.local/lib/python3.7/site-packages/optuna/samplers/_tpe/parzen_estimator.py:188: RuntimeWarning: divide by zero encountered in true_divide\n",
      "  coefficient = 1 / z / p_accept\n",
      "/home/phme/agaffet/.local/lib/python3.7/site-packages/optuna/samplers/_tpe/parzen_estimator.py:188: RuntimeWarning: divide by zero encountered in true_divide\n",
      "  coefficient = 1 / z / p_accept\n",
      "/home/phme/agaffet/.local/lib/python3.7/site-packages/optuna/samplers/_tpe/parzen_estimator.py:188: RuntimeWarning: divide by zero encountered in true_divide\n",
      "  coefficient = 1 / z / p_accept\n",
      "/home/phme/agaffet/.local/lib/python3.7/site-packages/optuna/samplers/_tpe/parzen_estimator.py:188: RuntimeWarning: divide by zero encountered in true_divide\n",
      "  coefficient = 1 / z / p_accept\n",
      "/home/phme/agaffet/.local/lib/python3.7/site-packages/optuna/samplers/_tpe/parzen_estimator.py:188: RuntimeWarning: divide by zero encountered in true_divide\n",
      "  coefficient = 1 / z / p_accept\n",
      "/home/phme/agaffet/.local/lib/python3.7/site-packages/optuna/samplers/_tpe/parzen_estimator.py:188: RuntimeWarning: divide by zero encountered in true_divide\n",
      "  coefficient = 1 / z / p_accept\n",
      "/home/phme/agaffet/.local/lib/python3.7/site-packages/optuna/samplers/_tpe/parzen_estimator.py:188: RuntimeWarning: divide by zero encountered in true_divide\n",
      "  coefficient = 1 / z / p_accept\n",
      "/home/phme/agaffet/.local/lib/python3.7/site-packages/optuna/samplers/_tpe/parzen_estimator.py:188: RuntimeWarning: divide by zero encountered in true_divide\n",
      "  coefficient = 1 / z / p_accept\n",
      "/home/phme/agaffet/.local/lib/python3.7/site-packages/optuna/samplers/_tpe/parzen_estimator.py:188: RuntimeWarning: divide by zero encountered in true_divide\n",
      "  coefficient = 1 / z / p_accept\n",
      "/home/phme/agaffet/.local/lib/python3.7/site-packages/optuna/samplers/_tpe/parzen_estimator.py:188: RuntimeWarning: divide by zero encountered in true_divide\n",
      "  coefficient = 1 / z / p_accept\n",
      "/home/phme/agaffet/.local/lib/python3.7/site-packages/optuna/samplers/_tpe/parzen_estimator.py:188: RuntimeWarning: divide by zero encountered in true_divide\n",
      "  coefficient = 1 / z / p_accept\n",
      "/home/phme/agaffet/.local/lib/python3.7/site-packages/optuna/samplers/_tpe/parzen_estimator.py:188: RuntimeWarning: divide by zero encountered in true_divide\n",
      "  coefficient = 1 / z / p_accept\n",
      "/home/phme/agaffet/.local/lib/python3.7/site-packages/optuna/samplers/_tpe/parzen_estimator.py:188: RuntimeWarning: divide by zero encountered in true_divide\n",
      "  coefficient = 1 / z / p_accept\n",
      "/home/phme/agaffet/.local/lib/python3.7/site-packages/optuna/samplers/_tpe/parzen_estimator.py:188: RuntimeWarning: divide by zero encountered in true_divide\n",
      "  coefficient = 1 / z / p_accept\n",
      "/home/phme/agaffet/.local/lib/python3.7/site-packages/optuna/samplers/_tpe/parzen_estimator.py:188: RuntimeWarning: divide by zero encountered in true_divide\n",
      "  coefficient = 1 / z / p_accept\n",
      "/home/phme/agaffet/.local/lib/python3.7/site-packages/optuna/samplers/_tpe/parzen_estimator.py:188: RuntimeWarning: divide by zero encountered in true_divide\n",
      "  coefficient = 1 / z / p_accept\n"
     ]
    }
   ],
   "source": [
    "from sklearn.metrics import f1_score\n",
    "import numpy as np\n",
    "from sklearn.metrics import make_scorer\n",
    "\n",
    "def f1_eval(y_pred, y_true):\n",
    "    #y_true = dtrain.get_label()\n",
    "    err = f1_score(y_true,y_pred,pos_label=0)\n",
    "    return 'f1_err', err\n",
    "\n",
    "y_train=Train_df['Target']\n",
    "\n",
    "study = optuna.create_study(direction='maximize')\n",
    "\n",
    "optuna.logging.disable_default_handler()  # Stop showing logs in sys.stderr.\n",
    "\n",
    "#study = optuna.create_study(direction='maximize', storage=\"sqlite:///xgb_optuna_home_credit.db\", study_name=\"optuna_xgb_output_8\")\n",
    "study.optimize(lambda trial : objective(trial,X_train_final,y_train),n_trials= 100)\n",
    "\n"
   ]
  },
  {
   "cell_type": "code",
   "execution_count": 42,
   "id": "federal-popularity",
   "metadata": {},
   "outputs": [
    {
     "name": "stdout",
     "output_type": "stream",
     "text": [
      "[[  271   139]\n",
      " [    0 27047]]\n"
     ]
    },
    {
     "data": {
      "text/plain": [
       "0.6017641345219891"
      ]
     },
     "execution_count": 42,
     "metadata": {},
     "output_type": "execute_result"
    }
   ],
   "source": [
    "Best_trial = study.best_trial.params\n",
    "model = xgboost.XGBClassifier(**Best_trial)\n",
    "model.fit(X_train_final,y_train)\n",
    "print(confusion_matrix(y_train, model.predict(X_train_final),labels=[0,1]))\n",
    "cross_val_score(model, X_train_final, y_train, cv=5,scoring=make_scorer(f1_score, pos_label=0)).mean()"
   ]
  },
  {
   "cell_type": "code",
   "execution_count": 47,
   "id": "derived-revolution",
   "metadata": {},
   "outputs": [
    {
     "data": {
      "text/plain": [
       "0.7958883994126285"
      ]
     },
     "execution_count": 47,
     "metadata": {},
     "output_type": "execute_result"
    }
   ],
   "source": [
    "271/(271+0.5*139)"
   ]
  },
  {
   "cell_type": "code",
   "execution_count": 45,
   "id": "ideal-broadcast",
   "metadata": {},
   "outputs": [],
   "source": [
    "model.get_booster().feature_names = col_features\n"
   ]
  },
  {
   "cell_type": "code",
   "execution_count": 46,
   "id": "spread-youth",
   "metadata": {},
   "outputs": [
    {
     "data": {
      "text/plain": [
       "<matplotlib.axes._subplots.AxesSubplot at 0x7fbf3927eb90>"
      ]
     },
     "execution_count": 46,
     "metadata": {},
     "output_type": "execute_result"
    },
    {
     "data": {
      "image/png": "[encoded data removed]",
      "text/plain": [
       "<Figure size 1008x504 with 1 Axes>"
      ]
     },
     "metadata": {
      "needs_background": "light"
     },
     "output_type": "display_data"
    }
   ],
   "source": [
    "from xgboost import plot_importance\n",
    "import matplotlib.pyplot as plt\n",
    "\n",
    "plt.rcParams[\"figure.figsize\"] = (14, 7)\n",
    "plot_importance(booster=model)"
   ]
  },
  {
   "cell_type": "code",
   "execution_count": 44,
   "id": "precise-project",
   "metadata": {},
   "outputs": [
    {
     "data": {
      "text/plain": [
       "['Volume(%)',\n",
       " 'Area(%)',\n",
       " 'OffsetX(%)',\n",
       " 'OffsetY(%)',\n",
       " 'ComponentID_encoded',\n",
       " 'FigureID_ComponentID_encoded',\n",
       " 'Count_Pin',\n",
       " 'Count_Pin_Figure',\n",
       " 'Coplanarity',\n",
       " 'Translated',\n",
       " 'Soldered',\n",
       " 'UnSoldered',\n",
       " 'Size',\n",
       " 'LeanSoldering',\n",
       " 'Misaligned',\n",
       " 'Missing',\n",
       " 'Jumper',\n",
       " 'Polarity',\n",
       " 'Broken']"
      ]
     },
     "execution_count": 44,
     "metadata": {},
     "output_type": "execute_result"
    }
   ],
   "source": [
    "col_features"
   ]
  },
  {
   "cell_type": "code",
   "execution_count": 30,
   "id": "identical-complex",
   "metadata": {},
   "outputs": [
    {
     "data": {
      "text/plain": [
       "['xgboost_step2_outter']"
      ]
     },
     "execution_count": 30,
     "metadata": {},
     "output_type": "execute_result"
    }
   ],
   "source": [
    "model = xgboost.XGBClassifier(**Best_trial)\n",
    "model.fit(X_train_final,y_train)\n",
    "joblib.dump(model,\"xgboost_step2_outter\")\n"
   ]
  },
  {
   "cell_type": "code",
   "execution_count": 19,
   "id": "inside-variety",
   "metadata": {},
   "outputs": [
    {
     "data": {
      "text/plain": [
       "(9105, 9)"
      ]
     },
     "execution_count": 19,
     "metadata": {},
     "output_type": "execute_result"
    }
   ],
   "source": [
    "X_train_final.shape"
   ]
  },
  {
   "cell_type": "code",
   "execution_count": null,
   "id": "excessive-church",
   "metadata": {},
   "outputs": [],
   "source": [
    "from sklearn.preprocessing import OneHotEncoder\n",
    "encoder = OneHotEncoder(handle_unknown='ignore')\n",
    "AE_train=encoder.fit_transform(X_train[list_var_to_encode].copy())\n",
    "\n",
    "\n",
    "column_names=[x+\"_encoded\" for x in encoder.get_feature_names()]\n",
    "dfint=pd.DataFrame(AE_train.toarray())\n",
    "dfint.columns=column_names\n",
    "X_train_final=pd.concat([X_train,dfint],axis=1)\n",
    "joblib.dump(encoder,\"One_hot_step2_outer\")\n",
    "\n",
    "AE_val=encoder.transform(X_val[list_var_to_encode].copy())\n",
    "AE_val.columns=[x+\"_encoded\" for x in encoder.get_feature_names()]\n",
    "dfint=pd.DataFrame(AE_val.toarray())\n",
    "dfint.columns=column_names\n",
    "X_val_final=pd.concat([X_val,dfint],axis=1)"
   ]
  },
  {
   "cell_type": "code",
   "execution_count": 31,
   "id": "tamil-borough",
   "metadata": {},
   "outputs": [
    {
     "data": {
      "text/plain": [
       "Target\n",
       "0     451\n",
       "1    8654\n",
       "dtype: int64"
      ]
     },
     "execution_count": 31,
     "metadata": {},
     "output_type": "execute_result"
    }
   ],
   "source": [
    "Train_df.groupby('Target').size()"
   ]
  },
  {
   "cell_type": "code",
   "execution_count": null,
   "id": "lyric-mailman",
   "metadata": {},
   "outputs": [],
   "source": []
  }
 ],
 "metadata": {
  "kernelspec": {
   "display_name": "Python 3",
   "language": "python",
   "name": "python3"
  },
  "language_info": {
   "codemirror_mode": {
    "name": "ipython",
    "version": 3
   },
   "file_extension": ".py",
   "mimetype": "text/x-python",
   "name": "python",
   "nbconvert_exporter": "python",
   "pygments_lexer": "ipython3",
   "version": "3.7.9"
  }
 },
 "nbformat": 4,
 "nbformat_minor": 5
}
