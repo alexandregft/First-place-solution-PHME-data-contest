{
 "cells": [
  {
   "cell_type": "code",
   "execution_count": 1,
   "id": "stretch-rabbit",
   "metadata": {},
   "outputs": [
    {
     "name": "stderr",
     "output_type": "stream",
     "text": [
      "\n",
      "Bad key \"text.kerning_factor\" on line 4 in\n",
      "/opt/anaconda3/envs/bigdatalab_cpu_202101/lib/python3.7/site-packages/matplotlib/mpl-data/stylelib/_classic_test_patch.mplstyle.\n",
      "You probably need to get an updated matplotlibrc file from\n",
      "https://github.com/matplotlib/matplotlib/blob/v3.1.2/matplotlibrc.template\n",
      "or from the matplotlib source distribution\n"
     ]
    }
   ],
   "source": [
    "import pandas as pd\n",
    "import numpy as np\n",
    "import matplotlib.pyplot as plt\n",
    "from sklearn.neighbors import KernelDensity\n",
    "import joblib\n",
    "from sklearn.metrics import roc_auc_score\n",
    "import os\n",
    "import random\n",
    "import xgboost\n",
    "import numpy as np\n",
    "import matplotlib.pylab as plt\n",
    "\n",
    "import pandas as pd\n",
    "from sklearn.metrics import accuracy_score, confusion_matrix, recall_score, precision_score, f1_score\n",
    "from sklearn.preprocessing import StandardScaler\n",
    "\n",
    "from sklearn.discriminant_analysis import LinearDiscriminantAnalysis as LDA\n",
    "from sklearn.discriminant_analysis import QuadraticDiscriminantAnalysis as QDA\n",
    "import category_encoders as ce\n"
   ]
  },
  {
   "cell_type": "code",
   "execution_count": 2,
   "id": "analyzed-canyon",
   "metadata": {},
   "outputs": [
    {
     "name": "stderr",
     "output_type": "stream",
     "text": [
      "/opt/anaconda3/envs/bigdatalab_cpu_202101/lib/python3.7/site-packages/IPython/core/interactiveshell.py:3156: DtypeWarning: Columns (17) have mixed types.Specify dtype option on import or set low_memory=False.\n",
      "  interactivity=interactivity, compiler=compiler, result=result)\n"
     ]
    }
   ],
   "source": [
    "\n",
    "InputSPI=pd.DataFrame()\n",
    "for item in range(4):\n",
    "    InputSPI=pd.concat([InputSPI,pd.read_csv('data-challenge-phme/data/SPI_training_'+str(item)+'.csv.zip')])\n",
    "    \n",
    "#InputSPI=cleaning_SPI(InputSPI)\n",
    "\n",
    "InputAOI=pd.read_csv('data-challenge-phme/data/AOI_training.csv.zip')\n",
    "\n",
    "\n"
   ]
  },
  {
   "cell_type": "code",
   "execution_count": 3,
   "id": "fatal-there",
   "metadata": {},
   "outputs": [],
   "source": [
    "spi=InputSPI.copy()\n",
    "aoi=InputAOI.copy()"
   ]
  },
  {
   "cell_type": "code",
   "execution_count": 4,
   "id": "demonstrated-bennett",
   "metadata": {},
   "outputs": [],
   "source": [
    "spi[\"ComponentID2\"]=spi[\"ComponentID\"]\n",
    "spi[\"FigureID2\"]=spi[\"FigureID\"]"
   ]
  },
  {
   "cell_type": "code",
   "execution_count": 5,
   "id": "amateur-clinton",
   "metadata": {},
   "outputs": [],
   "source": [
    "aoi['PinNumber']=aoi['PinNumber'].astype('Int64').astype(str)\n"
   ]
  },
  {
   "cell_type": "code",
   "execution_count": 6,
   "id": "natural-reward",
   "metadata": {},
   "outputs": [],
   "source": [
    "spi_training=spi.merge(aoi,on=['PanelID','FigureID','ComponentID','PinNumber'],how=\"left\")"
   ]
  },
  {
   "cell_type": "code",
   "execution_count": 7,
   "id": "worth-prime",
   "metadata": {},
   "outputs": [],
   "source": [
    "spi_training=spi_training.drop_duplicates(subset=['PanelID','FigureID','ComponentID','PinNumber'])"
   ]
  },
  {
   "cell_type": "code",
   "execution_count": 8,
   "id": "massive-holiday",
   "metadata": {},
   "outputs": [],
   "source": [
    "spi_training_clean=spi.merge(aoi,on=['PanelID','FigureID','ComponentID'],how=\"left\")\n"
   ]
  },
  {
   "cell_type": "code",
   "execution_count": 9,
   "id": "medium-arcade",
   "metadata": {},
   "outputs": [],
   "source": [
    "Num_features_to_cat=['Volume(%)','Area(%)', 'OffsetX(%)','OffsetY(%)']"
   ]
  },
  {
   "cell_type": "code",
   "execution_count": 10,
   "id": "diverse-dallas",
   "metadata": {},
   "outputs": [],
   "source": [
    "Num_features=['Shape(um)',\n",
    "       'PosX(mm)', 'PosY(mm)','SizeX', 'SizeY']"
   ]
  },
  {
   "cell_type": "code",
   "execution_count": 11,
   "id": "finished-louisville",
   "metadata": {},
   "outputs": [],
   "source": [
    "Cat_features=['FigureID','PinNumber','PadID', 'PadType','Result']"
   ]
  },
  {
   "cell_type": "code",
   "execution_count": 12,
   "id": "apart-ozone",
   "metadata": {},
   "outputs": [],
   "source": [
    "spi_training['Target']=spi_training['MachineID'].isna()"
   ]
  },
  {
   "cell_type": "code",
   "execution_count": 13,
   "id": "elementary-underground",
   "metadata": {},
   "outputs": [],
   "source": [
    "spi_training=spi_training.dropna(subset=Num_features)"
   ]
  },
  {
   "cell_type": "code",
   "execution_count": 14,
   "id": "fleet-playback",
   "metadata": {},
   "outputs": [],
   "source": [
    "for feat in Num_features:\n",
    "    spi_training[feat]=spi_training[feat].astype('float')"
   ]
  },
  {
   "cell_type": "code",
   "execution_count": 15,
   "id": "wireless-trace",
   "metadata": {},
   "outputs": [
    {
     "data": {
      "text/plain": [
       "Index(['PanelID', 'FigureID', 'Date', 'Time', 'ComponentID', 'PinNumber',\n",
       "       'PadID', 'PadType', 'Volume(%)', 'Height(um)', 'Area(%)', 'OffsetX(%)',\n",
       "       'OffsetY(%)', 'SizeX', 'SizeY', 'Volume(um3)', 'Area(um2)', 'Shape(um)',\n",
       "       'PosX(mm)', 'PosY(mm)', 'Result', 'ComponentID2', 'FigureID2',\n",
       "       'MachineID', 'AOILabel', 'OperatorLabel', 'RepairLabel', 'Target'],\n",
       "      dtype='object')"
      ]
     },
     "execution_count": 15,
     "metadata": {},
     "output_type": "execute_result"
    }
   ],
   "source": [
    "spi_training.columns"
   ]
  },
  {
   "cell_type": "code",
   "execution_count": 16,
   "id": "molecular-calgary",
   "metadata": {},
   "outputs": [],
   "source": [
    "spi_training[\"ComponentID2\"]=spi_training[\"ComponentID\"].astype('category').cat.codes\n"
   ]
  },
  {
   "cell_type": "code",
   "execution_count": null,
   "id": "indirect-impossible",
   "metadata": {},
   "outputs": [
    {
     "name": "stdout",
     "output_type": "stream",
     "text": [
      "0\n"
     ]
    }
   ],
   "source": [
    "from sklearn.neighbors import LocalOutlierFactor\n",
    "from sklearn.ensemble import IsolationForest\n",
    "\n",
    "list_panel_id=InputAOI.PanelID.unique().tolist()\n",
    "\n",
    "def cross_validation_panel_id_creation(list_panel_id,n_fold=5):\n",
    "    Fold_list=[]\n",
    "    random.shuffle(list_panel_id)\n",
    "    #list_panel_id=joblib.load(\"list_panel_id\")\n",
    "    len_fold=(len(list_panel_id))//n_fold\n",
    "    for fold in range(n_fold):\n",
    "        Fold_list.append(list_panel_id[fold*len_fold:(fold+1)*len_fold])\n",
    "    return(Fold_list)\n",
    "Fold_list=cross_validation_panel_id_creation(list_panel_id)\n",
    "#Final_df=Final_df.loc[Final_df['ComponentID2']!=\"BC1\"]\n",
    "f1_score_list=[]\n",
    "list_confusion_matrix=[]\n",
    "for Test_fold_indice in range(1):\n",
    "    print(Test_fold_indice)\n",
    "    Train_indice=[]\n",
    "    count_indice_fit_pin_training=0\n",
    "    for indices in range(len(Fold_list)):\n",
    "        if indices!=Test_fold_indice:\n",
    "            Train_indice=Train_indice+Fold_list[indices]\n",
    "        else:\n",
    "            Test_indices=Fold_list[indices]\n",
    "            Train_indice=Train_indice+Fold_list[indices]\n",
    "\n",
    "    Train_df=spi_training.loc[spi_training[\"PanelID\"].isin(Train_indice)].reset_index(drop=True)\n",
    "    #Train_df=Train_df.loc[Train_df.ComponentID!=\"BC1\"]\n",
    "    Test_df=spi_training.loc[spi_training[\"PanelID\"].isin(Test_indices)].reset_index(drop=True)\n",
    "    #Test_df=Test_df.loc[Test_df.ComponentID!=\"BC1\"]\n",
    "\n",
    "    X_train=Train_df\n",
    "    X_val=Test_df\n",
    "    y_train=Train_df['Target']\n",
    "    y_val=Test_df['Target']\n",
    "    y_train=Train_df['Target']\n",
    "    y_train=Train_df['Target']\n",
    "    y_val=Test_df['Target']\n",
    "    encoder=ce.CatBoostEncoder(a=0.3)\n",
    "\n",
    "    AE_val=encoder.fit_transform(Train_df[\"ComponentID2\"].copy(),y_train)\n",
    "    AE_val.columns=[x+\"_encoded\" for x in AE_val.columns.tolist()]\n",
    "    Train_df=pd.concat([Train_df,AE_val],axis=1)\n",
    "    features_x=[x for x in Train_df.columns if \"_encoded\" in x]\n",
    "    joblib.dump(encoder,\"Cat_boost_step1\")\n",
    "\n",
    "    AE_val=encoder.transform(Test_df[\"ComponentID2\"].copy())\n",
    "    AE_val.columns=[x+\"_encoded\" for x in AE_val.columns.tolist()]\n",
    "    Test_df=pd.concat([Test_df,AE_val],axis=1)\n",
    "\n",
    "    features_x=[\"ComponentID2_encoded\"]+Num_features_to_cat+Num_features\n",
    "    \n",
    "    X_train_final=Train_df[features_x].to_numpy()\n",
    "    X_val_final=Test_df[features_x].to_numpy()\n",
    "    param={'objective': 'binary:logistic', 'tree_method': 'exact', 'lambda': 0.11275575097549183,\n",
    "           'alpha': 3.2535623683194395, 'colsample_bytree': 0.9508839883642153,\n",
    "           'learning_rate': 0.09972967143751274, 'n_estimators': 150, 'max_depth': 9, 'min_child_weight': 34}\n",
    "    xgb_cl = xgboost.XGBClassifier(**param)\n",
    "    xgb_cl.fit(X_train_final, y_train)\n",
    "\n",
    "\n",
    "    res_train=xgb_cl.predict(X_train_final)\n",
    "    res_test=xgb_cl.predict(X_val_final)\n",
    "\n",
    "    X_train['Pred']=res_train\n",
    "    X_val['Pred']=res_test\n",
    "   \n",
    "    \n",
    "    y_train=X_train.groupby([\"PanelID\",\"FigureID\",\"ComponentID\"])['Target'].min()\n",
    "    y_val=X_val.groupby([\"PanelID\",\"FigureID\",\"ComponentID\"])['Target'].min()\n",
    "\n",
    "\n",
    "    res_train=X_train.groupby([\"PanelID\",\"FigureID\",\"ComponentID\"])['Pred'].min()\n",
    "    res_test=X_val.groupby([\"PanelID\",\"FigureID\",\"ComponentID\"])['Pred'].min()\n",
    "\n",
    "\n",
    "\n",
    "\n",
    "    print(confusion_matrix(y_train, res_train,labels=[0,1]))\n",
    "    print(confusion_matrix(y_val,res_test,labels=[0,1]))\n",
    "\n",
    "    print(f1_score(y_train, res_train,pos_label=0))\n",
    "    print(f1_score(y_val, res_test,pos_label=0))\n",
    "    f1_score_list.append(f1_score(y_val, res_test,pos_label=0))"
   ]
  },
  {
   "cell_type": "code",
   "execution_count": 20,
   "id": "honey-charleston",
   "metadata": {},
   "outputs": [
    {
     "data": {
      "text/plain": [
       "['xgboost_step1']"
      ]
     },
     "execution_count": 20,
     "metadata": {},
     "output_type": "execute_result"
    }
   ],
   "source": [
    "joblib.dump(xgb_cl,\"xgboost_step1\")\n"
   ]
  },
  {
   "cell_type": "code",
   "execution_count": 32,
   "id": "liable-tissue",
   "metadata": {},
   "outputs": [],
   "source": [
    "import pandas as pd\n",
    "import numpy as np\n",
    "import matplotlib.pyplot as plt\n",
    "from scipy.stats import norm \n",
    "\n",
    "from sklearn.neighbors import KernelDensity\n",
    "import joblib\n",
    "from sklearn.metrics import roc_auc_score\n",
    "import os\n",
    "import random\n",
    "import xgboost\n",
    "import numpy as np\n",
    "import pandas as pd\n",
    "from sklearn.metrics import accuracy_score, confusion_matrix, recall_score, precision_score, f1_score\n",
    "from sklearn.preprocessing import StandardScaler\n",
    "\n",
    "from sklearn.discriminant_analysis import LinearDiscriminantAnalysis as LDA\n",
    "from sklearn.ensemble import RandomForestClassifier\n",
    "\n",
    "\n",
    "import category_encoders as ce\n",
    "import optuna\n",
    "from optuna import Trial, visualization\n",
    "from optuna.samplers import TPESampler\n",
    "import logging\n",
    "from sklearn.model_selection import cross_val_score\n",
    "from sklearn.metrics import make_scorer"
   ]
  },
  {
   "cell_type": "code",
   "execution_count": 33,
   "id": "spoken-cooperative",
   "metadata": {},
   "outputs": [],
   "source": [
    "ratio=np.sum(y_train==0)/np.sum(y_train==1)\n"
   ]
  },
  {
   "cell_type": "code",
   "execution_count": 37,
   "id": "english-selection",
   "metadata": {},
   "outputs": [],
   "source": [
    "\n",
    "\n",
    "\n",
    "def objective(trial: Trial,X,y) -> float:\n",
    "    \n",
    "    joblib.dump(study, 'study.pkl')\n",
    "\n",
    "    param = {\n",
    "        'objective': trial.suggest_categorical('objective',['binary:logistic']), \n",
    "        'tree_method': trial.suggest_categorical('tree_method',['exact']),  # 'gpu_hist','hist'\n",
    "        'lambda': trial.suggest_loguniform('lambda',1e-3,10.0),\n",
    "        'alpha': trial.suggest_loguniform('alpha',1e-3,10.0),\n",
    "        'colsample_bytree': trial.suggest_uniform('colsample_bytree', 0.3,1.0),\n",
    "        #'subsample': trial.suggest_uniform('subsample', 0.4, 1.0),\n",
    "        'learning_rate': trial.suggest_loguniform('learning_rate', 0.001,0.1),\n",
    "        'n_estimators': trial.suggest_categorical('n_estimators', [30,40,50,70,100,150,200]),\n",
    "        'max_depth': trial.suggest_categorical('max_depth', [3,5,7,9,11,13,15,17,20]),\n",
    "        #'random_state': trial.suggest_categorical('random_state', [24,48,2020]),\n",
    "        'min_child_weight': trial.suggest_int('min_child_weight', 1,300),\n",
    "        'nthread' : -1,\n",
    "        #0'feval': trial.suggest_categorical('feval',[f1_eval]),\n",
    "        #'scale_pos_weight' : trial.suggest_categorical('scale_pos_weight', [ratio])\n",
    "        \n",
    "    }\n",
    "    \n",
    "    \n",
    "    model = xgboost.XGBClassifier(**param,feval=f1_eval)\n",
    "    \n",
    "    return cross_val_score(model, X_train_final, y_train, cv=5,scoring=make_scorer(f1_score, pos_label=0)).mean()"
   ]
  },
  {
   "cell_type": "code",
   "execution_count": 38,
   "id": "negative-fitting",
   "metadata": {},
   "outputs": [],
   "source": [
    "from sklearn.metrics import f1_score\n",
    "import numpy as np\n",
    "\n",
    "def f1_eval(y_pred, y_true):\n",
    "    #y_true = dtrain.get_label()\n",
    "    err = f1_score(y_true,y_pred,pos_label=0)\n",
    "    return 'f1_err', err"
   ]
  },
  {
   "cell_type": "code",
   "execution_count": null,
   "id": "romantic-greek",
   "metadata": {
    "scrolled": true,
    "tags": []
   },
   "outputs": [
    {
     "name": "stderr",
     "output_type": "stream",
     "text": [
      "\u001b[32m[I 2022-06-03 13:35:40,712]\u001b[0m A new study created in memory with name: no-name-a95154db-afb2-45f1-b085-d923abdbb5e5\u001b[0m\n",
      "\u001b[32m[I 2022-06-03 13:40:22,638]\u001b[0m Trial 0 finished with value: 0.183938875191173 and parameters: {'objective': 'binary:logistic', 'tree_method': 'exact', 'lambda': 0.005361659562872419, 'alpha': 0.0010251243574098264, 'colsample_bytree': 0.8256621455868867, 'learning_rate': 0.01179587763525063, 'n_estimators': 70, 'max_depth': 3, 'min_child_weight': 42}. Best is trial 0 with value: 0.183938875191173.\u001b[0m\n",
      "\u001b[32m[I 2022-06-03 13:43:13,509]\u001b[0m Trial 1 finished with value: 0.22411522747924179 and parameters: {'objective': 'binary:logistic', 'tree_method': 'exact', 'lambda': 0.11547797077546185, 'alpha': 0.03247170121208482, 'colsample_bytree': 0.9524625477765389, 'learning_rate': 0.005052912099433643, 'n_estimators': 40, 'max_depth': 3, 'min_child_weight': 288}. Best is trial 1 with value: 0.22411522747924179.\u001b[0m\n",
      "\u001b[32m[I 2022-06-03 13:56:40,704]\u001b[0m Trial 2 finished with value: 0.0 and parameters: {'objective': 'binary:logistic', 'tree_method': 'exact', 'lambda': 5.10246687621924, 'alpha': 0.03230954717966288, 'colsample_bytree': 0.3303152218068547, 'learning_rate': 0.0012355526631615693, 'n_estimators': 70, 'max_depth': 13, 'min_child_weight': 153}. Best is trial 1 with value: 0.22411522747924179.\u001b[0m\n",
      "\u001b[32m[I 2022-06-03 14:13:32,213]\u001b[0m Trial 3 finished with value: 0.36507786726926056 and parameters: {'objective': 'binary:logistic', 'tree_method': 'exact', 'lambda': 0.06464482624670612, 'alpha': 6.933771826680428, 'colsample_bytree': 0.8075261424376183, 'learning_rate': 0.0025919448623090147, 'n_estimators': 70, 'max_depth': 11, 'min_child_weight': 200}. Best is trial 3 with value: 0.36507786726926056.\u001b[0m\n",
      "\u001b[32m[I 2022-06-03 14:45:56,979]\u001b[0m Trial 4 finished with value: 0.42611830216434016 and parameters: {'objective': 'binary:logistic', 'tree_method': 'exact', 'lambda': 0.15564144621626652, 'alpha': 2.090641559345846, 'colsample_bytree': 0.9660215454340229, 'learning_rate': 0.0558734815153081, 'n_estimators': 150, 'max_depth': 9, 'min_child_weight': 115}. Best is trial 4 with value: 0.42611830216434016.\u001b[0m\n",
      "\u001b[32m[I 2022-06-03 14:53:22,360]\u001b[0m Trial 5 finished with value: 0.10468727598339522 and parameters: {'objective': 'binary:logistic', 'tree_method': 'exact', 'lambda': 0.9189521501725415, 'alpha': 0.003365081432484642, 'colsample_bytree': 0.3183132836225671, 'learning_rate': 0.06545744101021322, 'n_estimators': 30, 'max_depth': 17, 'min_child_weight': 268}. Best is trial 4 with value: 0.42611830216434016.\u001b[0m\n",
      "\u001b[32m[I 2022-06-03 14:59:06,895]\u001b[0m Trial 6 finished with value: 0.06284711867689333 and parameters: {'objective': 'binary:logistic', 'tree_method': 'exact', 'lambda': 0.008371850010042743, 'alpha': 1.2446128416547575, 'colsample_bytree': 0.4914760749130121, 'learning_rate': 0.02370856616638761, 'n_estimators': 100, 'max_depth': 3, 'min_child_weight': 139}. Best is trial 4 with value: 0.42611830216434016.\u001b[0m\n",
      "\u001b[32m[I 2022-06-03 15:01:17,003]\u001b[0m Trial 7 finished with value: 0.21718526222507606 and parameters: {'objective': 'binary:logistic', 'tree_method': 'exact', 'lambda': 0.3466190129230235, 'alpha': 0.0062457404943692205, 'colsample_bytree': 0.9334774262415126, 'learning_rate': 0.04040812154382611, 'n_estimators': 30, 'max_depth': 3, 'min_child_weight': 292}. Best is trial 4 with value: 0.42611830216434016.\u001b[0m\n",
      "\u001b[32m[I 2022-06-03 15:13:20,460]\u001b[0m Trial 8 finished with value: 0.3421527905034815 and parameters: {'objective': 'binary:logistic', 'tree_method': 'exact', 'lambda': 0.20792824150317563, 'alpha': 2.9335298089289608, 'colsample_bytree': 0.6200588981947638, 'learning_rate': 0.07536232598178526, 'n_estimators': 200, 'max_depth': 3, 'min_child_weight': 179}. Best is trial 4 with value: 0.42611830216434016.\u001b[0m\n",
      "\u001b[32m[I 2022-06-03 15:24:17,489]\u001b[0m Trial 9 finished with value: 0.39041467448611855 and parameters: {'objective': 'binary:logistic', 'tree_method': 'exact', 'lambda': 0.017168331969017174, 'alpha': 0.6613639485928218, 'colsample_bytree': 0.8632235888382471, 'learning_rate': 0.012442193358723002, 'n_estimators': 30, 'max_depth': 20, 'min_child_weight': 225}. Best is trial 4 with value: 0.42611830216434016.\u001b[0m\n",
      "\u001b[32m[I 2022-06-03 16:17:14,432]\u001b[0m Trial 10 finished with value: 0.38221588854465616 and parameters: {'objective': 'binary:logistic', 'tree_method': 'exact', 'lambda': 6.122119199414756, 'alpha': 0.26180539132647374, 'colsample_bytree': 0.6821762248479856, 'learning_rate': 0.026468498265366118, 'n_estimators': 150, 'max_depth': 9, 'min_child_weight': 75}. Best is trial 4 with value: 0.42611830216434016.\u001b[0m\n",
      "\u001b[32m[I 2022-06-03 17:21:28,961]\u001b[0m Trial 11 finished with value: 0.4359896289669334 and parameters: {'objective': 'binary:logistic', 'tree_method': 'exact', 'lambda': 0.02375678078352487, 'alpha': 0.4452736669051657, 'colsample_bytree': 0.9977676011066512, 'learning_rate': 0.010235535282189746, 'n_estimators': 150, 'max_depth': 20, 'min_child_weight': 224}. Best is trial 11 with value: 0.4359896289669334.\u001b[0m\n",
      "\u001b[32m[I 2022-06-03 17:45:52,619]\u001b[0m Trial 12 finished with value: 0.2719424517579741 and parameters: {'objective': 'binary:logistic', 'tree_method': 'exact', 'lambda': 0.0012648139315182367, 'alpha': 0.18576533182668126, 'colsample_bytree': 0.9971231481275763, 'learning_rate': 0.0049439322829174515, 'n_estimators': 150, 'max_depth': 7, 'min_child_weight': 90}. Best is trial 11 with value: 0.4359896289669334.\u001b[0m\n",
      "\u001b[32m[I 2022-06-03 18:03:34,665]\u001b[0m Trial 13 finished with value: 0.32089278977658275 and parameters: {'objective': 'binary:logistic', 'tree_method': 'exact', 'lambda': 0.05086389918446809, 'alpha': 1.092777963135641, 'colsample_bytree': 0.7170123084278528, 'learning_rate': 0.00683284503993578, 'n_estimators': 50, 'max_depth': 20, 'min_child_weight': 126}. Best is trial 11 with value: 0.4359896289669334.\u001b[0m\n",
      "\u001b[32m[I 2022-06-03 19:03:18,448]\u001b[0m Trial 14 finished with value: 0.41936800813523095 and parameters: {'objective': 'binary:logistic', 'tree_method': 'exact', 'lambda': 1.4137801550245692, 'alpha': 9.86036051463262, 'colsample_bytree': 0.9985812527331823, 'learning_rate': 0.01906165713066498, 'n_estimators': 150, 'max_depth': 15, 'min_child_weight': 7}. Best is trial 11 with value: 0.4359896289669334.\u001b[0m\n",
      "\u001b[32m[I 2022-06-03 19:31:14,050]\u001b[0m Trial 15 finished with value: 0.38360174640437633 and parameters: {'objective': 'binary:logistic', 'tree_method': 'exact', 'lambda': 0.017614686752596857, 'alpha': 0.07524332449134097, 'colsample_bytree': 0.5389553699713749, 'learning_rate': 0.041790981192816205, 'n_estimators': 150, 'max_depth': 9, 'min_child_weight': 240}. Best is trial 11 with value: 0.4359896289669334.\u001b[0m\n",
      "\u001b[32m[I 2022-06-03 19:47:53,081]\u001b[0m Trial 16 finished with value: 0.19587243180013297 and parameters: {'objective': 'binary:logistic', 'tree_method': 'exact', 'lambda': 0.0018689418903615168, 'alpha': 0.428874755426293, 'colsample_bytree': 0.8894663975579605, 'learning_rate': 0.002518173720466267, 'n_estimators': 150, 'max_depth': 5, 'min_child_weight': 96}. Best is trial 11 with value: 0.4359896289669334.\u001b[0m\n",
      "\u001b[32m[I 2022-06-03 20:25:31,604]\u001b[0m Trial 17 finished with value: 0.4272861705575851 and parameters: {'objective': 'binary:logistic', 'tree_method': 'exact', 'lambda': 0.02973819266815219, 'alpha': 2.2156536484267377, 'colsample_bytree': 0.7639562006429002, 'learning_rate': 0.09914587980348151, 'n_estimators': 200, 'max_depth': 9, 'min_child_weight': 179}. Best is trial 11 with value: 0.4359896289669334.\u001b[0m\n",
      "\u001b[32m[I 2022-06-03 21:30:34,891]\u001b[0m Trial 18 finished with value: 0.3026351889803432 and parameters: {'objective': 'binary:logistic', 'tree_method': 'exact', 'lambda': 0.020793809169799546, 'alpha': 0.08464285253941595, 'colsample_bytree': 0.7592369874755308, 'learning_rate': 0.0012354770456119632, 'n_estimators': 200, 'max_depth': 20, 'min_child_weight': 181}. Best is trial 11 with value: 0.4359896289669334.\u001b[0m\n",
      "\u001b[32m[I 2022-06-03 21:50:21,971]\u001b[0m Trial 19 finished with value: 0.40891379611721634 and parameters: {'objective': 'binary:logistic', 'tree_method': 'exact', 'lambda': 0.004134630171472762, 'alpha': 2.658325443912399, 'colsample_bytree': 0.5993026838216072, 'learning_rate': 0.08893441609998849, 'n_estimators': 200, 'max_depth': 5, 'min_child_weight': 236}. Best is trial 11 with value: 0.4359896289669334.\u001b[0m\n",
      "\u001b[32m[I 2022-06-03 22:07:56,666]\u001b[0m Trial 20 finished with value: 0.0 and parameters: {'objective': 'binary:logistic', 'tree_method': 'exact', 'lambda': 0.05063779934126196, 'alpha': 5.376175773098042, 'colsample_bytree': 0.39730990583850256, 'learning_rate': 0.002637872483668542, 'n_estimators': 100, 'max_depth': 11, 'min_child_weight': 205}. Best is trial 11 with value: 0.4359896289669334.\u001b[0m\n",
      "\u001b[32m[I 2022-06-03 22:16:10,114]\u001b[0m Trial 21 finished with value: 0.41510483538423915 and parameters: {'objective': 'binary:logistic', 'tree_method': 'exact', 'lambda': 0.3751096280714155, 'alpha': 1.862088882029799, 'colsample_bytree': 0.8984950571767445, 'learning_rate': 0.05064215754825178, 'n_estimators': 40, 'max_depth': 9, 'min_child_weight': 158}. Best is trial 11 with value: 0.4359896289669334.\u001b[0m\n",
      "\u001b[32m[I 2022-06-03 22:26:23,686]\u001b[0m Trial 22 finished with value: 0.35777991875878656 and parameters: {'objective': 'binary:logistic', 'tree_method': 'exact', 'lambda': 0.029394710446881068, 'alpha': 0.607266893865013, 'colsample_bytree': 0.7778191126231574, 'learning_rate': 0.03146352051679384, 'n_estimators': 50, 'max_depth': 9, 'min_child_weight': 124}. Best is trial 11 with value: 0.4359896289669334.\u001b[0m\n",
      "\u001b[32m[I 2022-06-03 23:07:01,776]\u001b[0m Trial 23 finished with value: 0.4295342809985547 and parameters: {'objective': 'binary:logistic', 'tree_method': 'exact', 'lambda': 0.17210843184323513, 'alpha': 4.150269188607146, 'colsample_bytree': 0.9425302392526, 'learning_rate': 0.08067010759717967, 'n_estimators': 200, 'max_depth': 9, 'min_child_weight': 176}. Best is trial 11 with value: 0.4359896289669334.\u001b[0m\n",
      "\u001b[32m[I 2022-06-04 00:01:15,592]\u001b[0m Trial 24 finished with value: 0.42580481299888306 and parameters: {'objective': 'binary:logistic', 'tree_method': 'exact', 'lambda': 0.010587107289187428, 'alpha': 5.311067716434589, 'colsample_bytree': 0.842022241242799, 'learning_rate': 0.09828504171925811, 'n_estimators': 200, 'max_depth': 13, 'min_child_weight': 178}. Best is trial 11 with value: 0.4359896289669334.\u001b[0m\n",
      "\u001b[32m[I 2022-06-04 00:33:39,089]\u001b[0m Trial 25 finished with value: 0.3618336579269547 and parameters: {'objective': 'binary:logistic', 'tree_method': 'exact', 'lambda': 0.6737522903580259, 'alpha': 0.2548121830990621, 'colsample_bytree': 0.918228593524675, 'learning_rate': 0.01579802449178872, 'n_estimators': 200, 'max_depth': 7, 'min_child_weight': 211}. Best is trial 11 with value: 0.4359896289669334.\u001b[0m\n",
      "\u001b[32m[I 2022-06-04 01:37:35,291]\u001b[0m Trial 26 finished with value: 0.3764975210110366 and parameters: {'objective': 'binary:logistic', 'tree_method': 'exact', 'lambda': 2.2975569043822373, 'alpha': 3.7910296865958024, 'colsample_bytree': 0.7339530935743683, 'learning_rate': 0.008176772881299033, 'n_estimators': 200, 'max_depth': 15, 'min_child_weight': 166}. Best is trial 11 with value: 0.4359896289669334.\u001b[0m\n",
      "\u001b[32m[I 2022-06-04 02:39:39,334]\u001b[0m Trial 27 finished with value: 0.40534312998218625 and parameters: {'objective': 'binary:logistic', 'tree_method': 'exact', 'lambda': 0.076697263641493, 'alpha': 0.8725905612287198, 'colsample_bytree': 0.684825687305981, 'learning_rate': 0.0361551272249638, 'n_estimators': 200, 'max_depth': 17, 'min_child_weight': 246}. Best is trial 11 with value: 0.4359896289669334.\u001b[0m\n",
      "\u001b[32m[I 2022-06-04 03:50:12,818]\u001b[0m Trial 28 finished with value: 0.42259987520602094 and parameters: {'objective': 'binary:logistic', 'tree_method': 'exact', 'lambda': 0.03557882379642274, 'alpha': 0.3757821654360382, 'colsample_bytree': 0.8787971599483684, 'learning_rate': 0.07193628576873408, 'n_estimators': 200, 'max_depth': 20, 'min_child_weight': 254}. Best is trial 11 with value: 0.4359896289669334.\u001b[0m\n",
      "\u001b[32m[I 2022-06-04 04:00:13,534]\u001b[0m Trial 29 finished with value: 0.3854247921548717 and parameters: {'objective': 'binary:logistic', 'tree_method': 'exact', 'lambda': 0.002841540610569483, 'alpha': 1.442450406330435, 'colsample_bytree': 0.8039385421465657, 'learning_rate': 0.011114362655936995, 'n_estimators': 50, 'max_depth': 9, 'min_child_weight': 196}. Best is trial 11 with value: 0.4359896289669334.\u001b[0m\n",
      "\u001b[32m[I 2022-06-04 04:08:24,350]\u001b[0m Trial 30 finished with value: 0.41905657027032045 and parameters: {'objective': 'binary:logistic', 'tree_method': 'exact', 'lambda': 0.007692271138026011, 'alpha': 0.0011642493595179276, 'colsample_bytree': 0.8364937913880096, 'learning_rate': 0.05281338828621176, 'n_estimators': 40, 'max_depth': 9, 'min_child_weight': 221}. Best is trial 11 with value: 0.4359896289669334.\u001b[0m\n",
      "\u001b[32m[I 2022-06-04 04:41:55,536]\u001b[0m Trial 31 finished with value: 0.4294440037484032 and parameters: {'objective': 'binary:logistic', 'tree_method': 'exact', 'lambda': 0.1456902760758691, 'alpha': 2.3923953153084057, 'colsample_bytree': 0.9604477351164953, 'learning_rate': 0.05513489935303911, 'n_estimators': 150, 'max_depth': 9, 'min_child_weight': 57}. Best is trial 11 with value: 0.4359896289669334.\u001b[0m\n",
      "\u001b[32m[I 2022-06-04 05:14:36,205]\u001b[0m Trial 32 finished with value: 0.43694477418459154 and parameters: {'objective': 'binary:logistic', 'tree_method': 'exact', 'lambda': 0.11275575097549183, 'alpha': 3.2535623683194395, 'colsample_bytree': 0.9508839883642153, 'learning_rate': 0.09972967143751274, 'n_estimators': 150, 'max_depth': 9, 'min_child_weight': 34}. Best is trial 32 with value: 0.43694477418459154.\u001b[0m\n",
      "\u001b[32m[I 2022-06-04 05:47:35,433]\u001b[0m Trial 33 finished with value: 0.43235825096402225 and parameters: {'objective': 'binary:logistic', 'tree_method': 'exact', 'lambda': 0.13431479205439967, 'alpha': 9.222560334448465, 'colsample_bytree': 0.9524064918115942, 'learning_rate': 0.06758292852570838, 'n_estimators': 150, 'max_depth': 9, 'min_child_weight': 36}. Best is trial 32 with value: 0.43694477418459154.\u001b[0m\n",
      "\u001b[32m[I 2022-06-04 06:38:04,421]\u001b[0m Trial 34 finished with value: 0.420020802660099 and parameters: {'objective': 'binary:logistic', 'tree_method': 'exact', 'lambda': 0.30116965447778826, 'alpha': 8.10156153429875, 'colsample_bytree': 0.9425621336984352, 'learning_rate': 0.07314096267648541, 'n_estimators': 150, 'max_depth': 13, 'min_child_weight': 17}. Best is trial 32 with value: 0.43694477418459154.\u001b[0m\n",
      "\u001b[32m[I 2022-06-04 07:19:05,122]\u001b[0m Trial 35 finished with value: 0.43153350313997174 and parameters: {'objective': 'binary:logistic', 'tree_method': 'exact', 'lambda': 0.09301263011707052, 'alpha': 4.275589557458247, 'colsample_bytree': 0.9779750385440512, 'learning_rate': 0.003287687317219359, 'n_estimators': 150, 'max_depth': 11, 'min_child_weight': 29}. Best is trial 32 with value: 0.43694477418459154.\u001b[0m\n",
      "\u001b[32m[I 2022-06-04 08:00:03,974]\u001b[0m Trial 36 finished with value: 0.4299107149163285 and parameters: {'objective': 'binary:logistic', 'tree_method': 'exact', 'lambda': 0.09070296559849338, 'alpha': 0.03921973195953153, 'colsample_bytree': 0.9814277206228192, 'learning_rate': 0.001889835868380103, 'n_estimators': 150, 'max_depth': 11, 'min_child_weight': 22}. Best is trial 32 with value: 0.43694477418459154.\u001b[0m\n",
      "\u001b[32m[I 2022-06-04 08:18:25,876]\u001b[0m Trial 37 finished with value: 0.42093653221475336 and parameters: {'objective': 'binary:logistic', 'tree_method': 'exact', 'lambda': 0.5216183282958472, 'alpha': 9.785459706400758, 'colsample_bytree': 0.9115177165739333, 'learning_rate': 0.0036737701605549953, 'n_estimators': 70, 'max_depth': 11, 'min_child_weight': 52}. Best is trial 32 with value: 0.43694477418459154.\u001b[0m\n",
      "\u001b[32m[I 2022-06-04 08:58:13,332]\u001b[0m Trial 38 finished with value: 0.42835261116830764 and parameters: {'objective': 'binary:logistic', 'tree_method': 'exact', 'lambda': 0.10549109521015564, 'alpha': 0.011868365908230356, 'colsample_bytree': 0.9668692015620292, 'learning_rate': 0.001024354038188267, 'n_estimators': 150, 'max_depth': 11, 'min_child_weight': 36}. Best is trial 32 with value: 0.43694477418459154.\u001b[0m\n",
      "\u001b[32m[I 2022-06-04 09:57:27,726]\u001b[0m Trial 39 finished with value: 0.4069705868226441 and parameters: {'objective': 'binary:logistic', 'tree_method': 'exact', 'lambda': 0.21106065001292848, 'alpha': 5.543229805965389, 'colsample_bytree': 0.8603402616438596, 'learning_rate': 0.005668413093902628, 'n_estimators': 150, 'max_depth': 17, 'min_child_weight': 38}. Best is trial 32 with value: 0.43694477418459154.\u001b[0m\n",
      "\u001b[32m[I 2022-06-04 11:03:26,220]\u001b[0m Trial 40 finished with value: 0.41714873780219647 and parameters: {'objective': 'binary:logistic', 'tree_method': 'exact', 'lambda': 0.06371078279181137, 'alpha': 0.12673860176755475, 'colsample_bytree': 0.8092900510011378, 'learning_rate': 0.01608943024812831, 'n_estimators': 150, 'max_depth': 20, 'min_child_weight': 70}. Best is trial 32 with value: 0.43694477418459154.\u001b[0m\n",
      "\u001b[32m[I 2022-06-04 11:44:38,612]\u001b[0m Trial 41 finished with value: 0.4300512782101268 and parameters: {'objective': 'binary:logistic', 'tree_method': 'exact', 'lambda': 0.10326144373826202, 'alpha': 0.03384238896855373, 'colsample_bytree': 0.9690521722381062, 'learning_rate': 0.0018335172272966203, 'n_estimators': 150, 'max_depth': 11, 'min_child_weight': 25}. Best is trial 32 with value: 0.43694477418459154.\u001b[0m\n",
      "\u001b[32m[I 2022-06-04 12:26:09,167]\u001b[0m Trial 42 finished with value: 0.4308202793402304 and parameters: {'objective': 'binary:logistic', 'tree_method': 'exact', 'lambda': 0.11235448434350843, 'alpha': 0.025179158558360858, 'colsample_bytree': 0.9181841347850335, 'learning_rate': 0.0019508640476925997, 'n_estimators': 150, 'max_depth': 11, 'min_child_weight': 1}. Best is trial 32 with value: 0.43694477418459154.\u001b[0m\n",
      "\u001b[32m[I 2022-06-04 13:07:40,060]\u001b[0m Trial 43 finished with value: 0.4343601787923227 and parameters: {'objective': 'binary:logistic', 'tree_method': 'exact', 'lambda': 0.26622187249605533, 'alpha': 0.01669261213992136, 'colsample_bytree': 0.9257846348362373, 'learning_rate': 0.003599474095929895, 'n_estimators': 150, 'max_depth': 11, 'min_child_weight': 4}. Best is trial 32 with value: 0.43694477418459154.\u001b[0m\n",
      "\u001b[32m[I 2022-06-04 13:26:24,833]\u001b[0m Trial 44 finished with value: 0.42094936020316587 and parameters: {'objective': 'binary:logistic', 'tree_method': 'exact', 'lambda': 0.25590232094220344, 'alpha': 0.013889196590536501, 'colsample_bytree': 0.9357975871165012, 'learning_rate': 0.003739057571898642, 'n_estimators': 70, 'max_depth': 11, 'min_child_weight': 52}. Best is trial 32 with value: 0.43694477418459154.\u001b[0m\n",
      "\u001b[32m[I 2022-06-04 13:42:57,301]\u001b[0m Trial 45 finished with value: 0.2820840654147757 and parameters: {'objective': 'binary:logistic', 'tree_method': 'exact', 'lambda': 0.44779733560109564, 'alpha': 3.444109246472792, 'colsample_bytree': 0.995980059639918, 'learning_rate': 0.0040352066529627945, 'n_estimators': 100, 'max_depth': 7, 'min_child_weight': 76}. Best is trial 32 with value: 0.43694477418459154.\u001b[0m\n",
      "\u001b[32m[I 2022-06-04 13:45:03,391]\u001b[0m Trial 46 finished with value: 0.19407679464260336 and parameters: {'objective': 'binary:logistic', 'tree_method': 'exact', 'lambda': 1.3198340585684656, 'alpha': 0.005886338778611287, 'colsample_bytree': 0.8926443784541105, 'learning_rate': 0.008455813246336446, 'n_estimators': 30, 'max_depth': 3, 'min_child_weight': 274}. Best is trial 32 with value: 0.43694477418459154.\u001b[0m\n",
      "\u001b[32m[I 2022-06-04 14:53:55,765]\u001b[0m Trial 47 finished with value: 0.4044346765718981 and parameters: {'objective': 'binary:logistic', 'tree_method': 'exact', 'lambda': 0.043954424284362935, 'alpha': 1.4986811331866348, 'colsample_bytree': 0.8621541138029036, 'learning_rate': 0.002616403197914382, 'n_estimators': 150, 'max_depth': 20, 'min_child_weight': 12}. Best is trial 32 with value: 0.43694477418459154.\u001b[0m\n"
     ]
    }
   ],
   "source": [
    "study = optuna.create_study(direction='maximize')\n",
    "#study = optuna.create_study(direction='maximize', storage=\"sqlite:///xgb_optuna_home_credit.db\", study_name=\"optuna_xgb_output_8\")\n",
    "study.optimize(lambda trial : objective(trial,X_train_final,y_train),n_trials= 100)"
   ]
  },
  {
   "cell_type": "code",
   "execution_count": null,
   "id": "demonstrated-cargo",
   "metadata": {},
   "outputs": [],
   "source": [
    "Best_trial = study.best_trial.params\n",
    "model = xgboost.XGBClassifier(**Best_trial)\n",
    "model.fit(X_train_final,y_train)\n",
    "confusion_matrix(y_train, model.predict(X_train_final),labels=[0,1])\n",
    "cross_val_score(model, X_train_final, y_train, cv=5,scoring=make_scorer(f1_score, pos_label=0)).mean()"
   ]
  },
  {
   "cell_type": "code",
   "execution_count": 70,
   "id": "regulation-richardson",
   "metadata": {},
   "outputs": [],
   "source": [
    "xgb_cl.save_model('xgboost_step1')"
   ]
  },
  {
   "cell_type": "code",
   "execution_count": 71,
   "id": "graduate-future",
   "metadata": {},
   "outputs": [
    {
     "data": {
      "text/plain": [
       "['xgboost_step1']"
      ]
     },
     "execution_count": 71,
     "metadata": {},
     "output_type": "execute_result"
    }
   ],
   "source": [
    "joblib.dump(xgb_cl, \"xgboost_step1\") \n"
   ]
  },
  {
   "cell_type": "code",
   "execution_count": 62,
   "id": "liquid-japan",
   "metadata": {},
   "outputs": [
    {
     "name": "stdout",
     "output_type": "stream",
     "text": [
      "[[   1528   14607]\n",
      " [    235 1555855]]\n",
      "[[   171   3892]\n",
      " [   169 388970]]\n",
      "0.17074533467426528\n",
      "0.07767431296843061\n"
     ]
    }
   ],
   "source": [
    "print(confusion_matrix(y_train, res_train,labels=[0,1]))\n",
    "print(confusion_matrix(y_val,res_test,labels=[0,1]))\n",
    "\n",
    "print(f1_score(y_train, res_train,pos_label=0))\n",
    "print(f1_score(y_val, res_test,pos_label=0))"
   ]
  },
  {
   "cell_type": "code",
   "execution_count": null,
   "id": "textile-consortium",
   "metadata": {},
   "outputs": [],
   "source": [
    "Train_df[Num_features_to_cat]"
   ]
  },
  {
   "cell_type": "code",
   "execution_count": 39,
   "id": "inclusive-duplicate",
   "metadata": {},
   "outputs": [],
   "source": [
    "X_val_bad_predicted=X_val.loc[X_val['Pred']!=X_val['Target']]"
   ]
  },
  {
   "cell_type": "code",
   "execution_count": 42,
   "id": "waiting-reality",
   "metadata": {},
   "outputs": [
    {
     "data": {
      "text/plain": [
       "ComponentID\n",
       "BC1      6134\n",
       "BC2      6134\n",
       "BC3      6134\n",
       "BC4      6134\n",
       "C1       6134\n",
       "        ...  \n",
       "U2      15330\n",
       "U3     150234\n",
       "U4      15330\n",
       "U5      24528\n",
       "Z1       6132\n",
       "Length: 128, dtype: int64"
      ]
     },
     "execution_count": 42,
     "metadata": {},
     "output_type": "execute_result"
    }
   ],
   "source": [
    "X_val.groupby('ComponentID').size()"
   ]
  },
  {
   "cell_type": "code",
   "execution_count": 46,
   "id": "advised-sponsorship",
   "metadata": {},
   "outputs": [
    {
     "data": {
      "text/plain": [
       "Target\n",
       "False    1807\n",
       "True     4327\n",
       "dtype: int64"
      ]
     },
     "execution_count": 46,
     "metadata": {},
     "output_type": "execute_result"
    }
   ],
   "source": [
    "X_val.loc[X_val.ComponentID==\"BC1\"].groupby('Target').size()"
   ]
  },
  {
   "cell_type": "code",
   "execution_count": 48,
   "id": "super-authority",
   "metadata": {},
   "outputs": [
    {
     "data": {
      "text/plain": [
       "array([[1321,  807],\n",
       "       [ 486, 3520]])"
      ]
     },
     "execution_count": 48,
     "metadata": {},
     "output_type": "execute_result"
    }
   ],
   "source": [
    "\n",
    "\n",
    "confusion_matrix(X_val.loc[X_val.ComponentID==\"BC1\"][\"Pred\"], X_val.loc[X_val.ComponentID==\"BC1\"][\"Target\"],labels=[0,1])"
   ]
  },
  {
   "cell_type": "code",
   "execution_count": 49,
   "id": "numerical-access",
   "metadata": {},
   "outputs": [
    {
     "data": {
      "text/plain": [
       "0.67141041931385"
      ]
     },
     "execution_count": 49,
     "metadata": {},
     "output_type": "execute_result"
    }
   ],
   "source": [
    "1321/(1321+0.5*(486+807))"
   ]
  },
  {
   "cell_type": "code",
   "execution_count": 41,
   "id": "proper-appeal",
   "metadata": {},
   "outputs": [
    {
     "data": {
      "text/plain": [
       "ComponentID\n",
       "BC1     1293\n",
       "BC2      125\n",
       "BC3       39\n",
       "BC4       93\n",
       "C12        1\n",
       "        ... \n",
       "TRB1       3\n",
       "TRB3       3\n",
       "U1        37\n",
       "U2        55\n",
       "U3        36\n",
       "Length: 78, dtype: int64"
      ]
     },
     "execution_count": 41,
     "metadata": {},
     "output_type": "execute_result"
    }
   ],
   "source": [
    "X_val_bad_predicted.groupby('ComponentID').size()"
   ]
  },
  {
   "cell_type": "code",
   "execution_count": 36,
   "id": "stuffed-steering",
   "metadata": {},
   "outputs": [
    {
     "data": {
      "text/plain": [
       "<AxesSubplot:title={'center':'Feature importance'}, xlabel='F score', ylabel='Features'>"
      ]
     },
     "execution_count": 36,
     "metadata": {},
     "output_type": "execute_result"
    },
    {
     "data": {
      "image/png": "[encoded data removed]",
      "text/plain": [
       "<Figure size 1008x504 with 1 Axes>"
      ]
     },
     "metadata": {
      "needs_background": "light"
     },
     "output_type": "display_data"
    }
   ],
   "source": [
    "from xgboost import plot_importance\n",
    "import matplotlib.pyplot as plt\n",
    "\n",
    "plt.rcParams[\"figure.figsize\"] = (14, 7)\n",
    "plot_importance(booster=xgb_cl)"
   ]
  },
  {
   "cell_type": "code",
   "execution_count": 37,
   "id": "alpine-stephen",
   "metadata": {},
   "outputs": [
    {
     "data": {
      "text/plain": [
       "['Volume(%)',\n",
       " 'Area(%)',\n",
       " 'OffsetX(%)',\n",
       " 'OffsetY(%)',\n",
       " 'Shape(um)',\n",
       " 'PosX(mm)',\n",
       " 'PosY(mm)']"
      ]
     },
     "execution_count": 37,
     "metadata": {},
     "output_type": "execute_result"
    }
   ],
   "source": [
    "Num_features_to_cat+Num_features"
   ]
  },
  {
   "cell_type": "code",
   "execution_count": 30,
   "id": "dutch-class",
   "metadata": {},
   "outputs": [],
   "source": [
    "Final_df['Target']=Final_df['MachineID'].isna()"
   ]
  },
  {
   "cell_type": "code",
   "execution_count": 1,
   "id": "dressed-crawford",
   "metadata": {},
   "outputs": [
    {
     "ename": "NameError",
     "evalue": "name 'Final_df' is not defined",
     "output_type": "error",
     "traceback": [
      "\u001b[0;31m---------------------------------------------------------------------------\u001b[0m",
      "\u001b[0;31mNameError\u001b[0m                                 Traceback (most recent call last)",
      "\u001b[0;32m<ipython-input-1-897c0c006bcd>\u001b[0m in \u001b[0;36m<module>\u001b[0;34m\u001b[0m\n\u001b[0;32m----> 1\u001b[0;31m \u001b[0mlist_panel_id\u001b[0m\u001b[0;34m=\u001b[0m\u001b[0mFinal_df\u001b[0m\u001b[0;34m[\u001b[0m\u001b[0;34m\"PanelID\"\u001b[0m\u001b[0;34m]\u001b[0m\u001b[0;34m.\u001b[0m\u001b[0munique\u001b[0m\u001b[0;34m(\u001b[0m\u001b[0;34m)\u001b[0m\u001b[0;34m.\u001b[0m\u001b[0mtolist\u001b[0m\u001b[0;34m(\u001b[0m\u001b[0;34m)\u001b[0m\u001b[0;34m\u001b[0m\u001b[0;34m\u001b[0m\u001b[0m\n\u001b[0m\u001b[1;32m      2\u001b[0m \u001b[0;34m\u001b[0m\u001b[0m\n\u001b[1;32m      3\u001b[0m \u001b[0;32mdef\u001b[0m \u001b[0mcross_validation_panel_id_creation\u001b[0m\u001b[0;34m(\u001b[0m\u001b[0mlist_panel_id\u001b[0m\u001b[0;34m,\u001b[0m\u001b[0mn_fold\u001b[0m\u001b[0;34m=\u001b[0m\u001b[0;36m5\u001b[0m\u001b[0;34m)\u001b[0m\u001b[0;34m:\u001b[0m\u001b[0;34m\u001b[0m\u001b[0;34m\u001b[0m\u001b[0m\n\u001b[1;32m      4\u001b[0m     \u001b[0mFold_list\u001b[0m\u001b[0;34m=\u001b[0m\u001b[0;34m[\u001b[0m\u001b[0;34m]\u001b[0m\u001b[0;34m\u001b[0m\u001b[0;34m\u001b[0m\u001b[0m\n\u001b[1;32m      5\u001b[0m     \u001b[0;31m#list_panel_id=joblib.load(\"list_panel_id\")\u001b[0m\u001b[0;34m\u001b[0m\u001b[0;34m\u001b[0m\u001b[0;34m\u001b[0m\u001b[0m\n",
      "\u001b[0;31mNameError\u001b[0m: name 'Final_df' is not defined"
     ]
    }
   ],
   "source": [
    "list_panel_id=Final_df[\"PanelID\"].unique().tolist()\n",
    "\n",
    "def cross_validation_panel_id_creation(list_panel_id,n_fold=5):\n",
    "    Fold_list=[]\n",
    "    #list_panel_id=joblib.load(\"list_panel_id\")\n",
    "    len_fold=(len(list_panel_id))//n_fold\n",
    "    for fold in range(n_fold):\n",
    "        Fold_list.append(list_panel_id[fold*len_fold:(fold+1)*len_fold])\n",
    "    return(Fold_list)\n",
    "Fold_list=cross_validation_panel_id_creation(list_panel_id)\n",
    "#Final_df=Final_df.loc[Final_df['ComponentID2']!=\"BC1\"]\n",
    "f1_score_list=[]\n",
    "list_confusion_matrix=[]\n",
    "for Test_fold_indice in range(5):\n",
    "    print(Test_fold_indice)\n",
    "    Train_indices_pin_training=[]\n",
    "    Train_indice=[]\n",
    "    for indices in range(len(Fold_list)):\n",
    "        if indices!=Test_fold_indice:\n",
    "            Train_indice=Train_indice+Fold_list[indices]\n",
    "        else:\n",
    "            Test_indices=Fold_list[indices]\n",
    "            Train_indice=Train_indice+Fold_list[indices]\n",
    "\n",
    "    Train_df=Final_df.loc[Final_df[\"PanelID\"].isin(Train_indice)].reset_index(drop=True)\n",
    "    Test_df=Final_df.loc[Final_df[\"PanelID\"].isin(Test_indices)].reset_index(drop=True)\n",
    "    \n",
    "   \n",
    "    \n",
    "    encoder=ce.CatBoostEncoder(cols=list_var_to_encode,a=0.3)\n",
    "    \n",
    "    y_train=Train_df['Target'].to_numpy()\n",
    "\n",
    "    AE_val=encoder.fit_transform(Train_df[list_var_to_encode].copy(),y_train)\n",
    "    AE_val.columns=[x+\"_encoded\" for x in AE_val.columns.tolist()]\n",
    "    Train_df=pd.concat([Train_df,AE_val],axis=1)\n",
    "    features_x=[x for x in Train_df.columns if \"_encoded\" in x]\n",
    "    joblib.dump(encoder,\"Cat_boost_step1\")\n",
    "\n",
    "    AE_val=encoder.transform(Test_df[list_var_to_encode].copy())\n",
    "    AE_val.columns=[x+\"_encoded\" for x in AE_val.columns.tolist()]\n",
    "    Test_df=pd.concat([Test_df,AE_val],axis=1)\n",
    "\n",
    "\n",
    "    X_train=Train_df[features_x].to_numpy()\n",
    "    X_test=Test_df[features_x].to_numpy()\n",
    "    \n",
    "    \n",
    "\n",
    "    clf = xgboost.XGBClassifier(objective=\"binary:logistic\",n_estimators =100,max_depth = 10,scale_pos_weight=1)\n",
    "\n",
    "    clf = LDA(tol=1.0e-4)\n",
    "\n",
    "    clf.fit(X_train,y_train)\n",
    "    \n",
    "    joblib.dump(clf,\"LDA_step1\")\n",
    "\n",
    "    pred_xgboost=clf.predict(X_test)\n",
    "    Test_df['Pred_label']=pred_xgboost\n",
    "\n",
    "    Test_df=Test_df.loc[Test_df['Pred_label']==0]\n",
    "    Test_df[\"FigureID2\"]=Test_df[\"FigureID2\"].astype(int).astype(str)\n",
    "    defects=list(Test_df[[\"PanelID\",\"FigureID2\",\"ComponentID2\"]].itertuples(index=False, name=None))\n",
    "    \n",
    "    AOI=InputAOI.loc[InputAOI[\"PanelID\"].isin(Test_indices)]\n",
    "    \n",
    "    \n",
    "    results_1=set(defects)\n",
    "    groundtruth_1  = {tuple( [str(f) for f in e] ) for e in AOI[[\"PanelID\",\"FigureID\",\"ComponentID\"]].values}\n",
    "    precision_1    = len(results_1&groundtruth_1)/len(results_1) if len(results_1) > 0 else 0\n",
    "    recall_1       = len(results_1&groundtruth_1)/len(groundtruth_1) if len(groundtruth_1) > 0 else 0\n",
    "    f1_1           = 2*precision_1*recall_1/(precision_1+recall_1) if precision_1+recall_1 > 0 else 0\n",
    "    print(f1_1)\n"
   ]
  },
  {
   "cell_type": "code",
   "execution_count": 33,
   "id": "indian-extra",
   "metadata": {},
   "outputs": [
    {
     "name": "stdout",
     "output_type": "stream",
     "text": [
      "0\n",
      "0.45883882149046795\n",
      "1\n"
     ]
    },
    {
     "ename": "KeyboardInterrupt",
     "evalue": "",
     "output_type": "error",
     "traceback": [
      "\u001b[0;31m---------------------------------------------------------------------------\u001b[0m",
      "\u001b[0;31mKeyboardInterrupt\u001b[0m                         Traceback (most recent call last)",
      "\u001b[0;32m<ipython-input-33-917f347639a6>\u001b[0m in \u001b[0;36m<module>\u001b[0;34m\u001b[0m\n\u001b[1;32m     39\u001b[0m     \u001b[0mjoblib\u001b[0m\u001b[0;34m.\u001b[0m\u001b[0mdump\u001b[0m\u001b[0;34m(\u001b[0m\u001b[0mencoder\u001b[0m\u001b[0;34m,\u001b[0m\u001b[0;34m\"Cat_boost_step1\"\u001b[0m\u001b[0;34m)\u001b[0m\u001b[0;34m\u001b[0m\u001b[0;34m\u001b[0m\u001b[0m\n\u001b[1;32m     40\u001b[0m \u001b[0;34m\u001b[0m\u001b[0m\n\u001b[0;32m---> 41\u001b[0;31m     \u001b[0mAE_val\u001b[0m\u001b[0;34m=\u001b[0m\u001b[0mencoder\u001b[0m\u001b[0;34m.\u001b[0m\u001b[0mtransform\u001b[0m\u001b[0;34m(\u001b[0m\u001b[0mTest_df\u001b[0m\u001b[0;34m[\u001b[0m\u001b[0mlist_var_to_encode\u001b[0m\u001b[0;34m]\u001b[0m\u001b[0;34m.\u001b[0m\u001b[0mcopy\u001b[0m\u001b[0;34m(\u001b[0m\u001b[0;34m)\u001b[0m\u001b[0;34m)\u001b[0m\u001b[0;34m\u001b[0m\u001b[0;34m\u001b[0m\u001b[0m\n\u001b[0m\u001b[1;32m     42\u001b[0m     \u001b[0mAE_val\u001b[0m\u001b[0;34m.\u001b[0m\u001b[0mcolumns\u001b[0m\u001b[0;34m=\u001b[0m\u001b[0;34m[\u001b[0m\u001b[0mx\u001b[0m\u001b[0;34m+\u001b[0m\u001b[0;34m\"_encoded\"\u001b[0m \u001b[0;32mfor\u001b[0m \u001b[0mx\u001b[0m \u001b[0;32min\u001b[0m \u001b[0mAE_val\u001b[0m\u001b[0;34m.\u001b[0m\u001b[0mcolumns\u001b[0m\u001b[0;34m.\u001b[0m\u001b[0mtolist\u001b[0m\u001b[0;34m(\u001b[0m\u001b[0;34m)\u001b[0m\u001b[0;34m]\u001b[0m\u001b[0;34m\u001b[0m\u001b[0;34m\u001b[0m\u001b[0m\n\u001b[1;32m     43\u001b[0m     \u001b[0mTest_df\u001b[0m\u001b[0;34m=\u001b[0m\u001b[0mpd\u001b[0m\u001b[0;34m.\u001b[0m\u001b[0mconcat\u001b[0m\u001b[0;34m(\u001b[0m\u001b[0;34m[\u001b[0m\u001b[0mTest_df\u001b[0m\u001b[0;34m,\u001b[0m\u001b[0mAE_val\u001b[0m\u001b[0;34m]\u001b[0m\u001b[0;34m,\u001b[0m\u001b[0maxis\u001b[0m\u001b[0;34m=\u001b[0m\u001b[0;36m1\u001b[0m\u001b[0;34m)\u001b[0m\u001b[0;34m\u001b[0m\u001b[0;34m\u001b[0m\u001b[0m\n",
      "\u001b[0;32m~/.local/lib/python3.7/site-packages/category_encoders/cat_boost.py\u001b[0m in \u001b[0;36mtransform\u001b[0;34m(self, X, y, override_return_df)\u001b[0m\n\u001b[1;32m    205\u001b[0m         X = self._transform(\n\u001b[1;32m    206\u001b[0m             \u001b[0mX\u001b[0m\u001b[0;34m,\u001b[0m \u001b[0my\u001b[0m\u001b[0;34m,\u001b[0m\u001b[0;34m\u001b[0m\u001b[0;34m\u001b[0m\u001b[0m\n\u001b[0;32m--> 207\u001b[0;31m             \u001b[0mmapping\u001b[0m\u001b[0;34m=\u001b[0m\u001b[0mself\u001b[0m\u001b[0;34m.\u001b[0m\u001b[0mmapping\u001b[0m\u001b[0;34m\u001b[0m\u001b[0;34m\u001b[0m\u001b[0m\n\u001b[0m\u001b[1;32m    208\u001b[0m         )\n\u001b[1;32m    209\u001b[0m \u001b[0;34m\u001b[0m\u001b[0m\n",
      "\u001b[0;32m~/.local/lib/python3.7/site-packages/category_encoders/cat_boost.py\u001b[0m in \u001b[0;36m_transform\u001b[0;34m(self, X_in, y, mapping)\u001b[0m\n\u001b[1;32m    256\u001b[0m \u001b[0;34m\u001b[0m\u001b[0m\n\u001b[1;32m    257\u001b[0m             \u001b[0munique_train\u001b[0m \u001b[0;34m=\u001b[0m \u001b[0mcolmap\u001b[0m\u001b[0;34m.\u001b[0m\u001b[0mindex\u001b[0m\u001b[0;34m\u001b[0m\u001b[0;34m\u001b[0m\u001b[0m\n\u001b[0;32m--> 258\u001b[0;31m             \u001b[0munseen_values\u001b[0m \u001b[0;34m=\u001b[0m \u001b[0mpd\u001b[0m\u001b[0;34m.\u001b[0m\u001b[0mSeries\u001b[0m\u001b[0;34m(\u001b[0m\u001b[0;34m[\u001b[0m\u001b[0mx\u001b[0m \u001b[0;32mfor\u001b[0m \u001b[0mx\u001b[0m \u001b[0;32min\u001b[0m \u001b[0mX_in\u001b[0m\u001b[0;34m[\u001b[0m\u001b[0mcol\u001b[0m\u001b[0;34m]\u001b[0m\u001b[0;34m.\u001b[0m\u001b[0munique\u001b[0m\u001b[0;34m(\u001b[0m\u001b[0;34m)\u001b[0m \u001b[0;32mif\u001b[0m \u001b[0mx\u001b[0m \u001b[0;32mnot\u001b[0m \u001b[0;32min\u001b[0m \u001b[0munique_train\u001b[0m\u001b[0;34m]\u001b[0m\u001b[0;34m,\u001b[0m \u001b[0mdtype\u001b[0m\u001b[0;34m=\u001b[0m\u001b[0munique_train\u001b[0m\u001b[0;34m.\u001b[0m\u001b[0mdtype\u001b[0m\u001b[0;34m)\u001b[0m\u001b[0;34m\u001b[0m\u001b[0;34m\u001b[0m\u001b[0m\n\u001b[0m\u001b[1;32m    259\u001b[0m \u001b[0;34m\u001b[0m\u001b[0m\n\u001b[1;32m    260\u001b[0m             \u001b[0mis_nan\u001b[0m \u001b[0;34m=\u001b[0m \u001b[0mX_in\u001b[0m\u001b[0;34m[\u001b[0m\u001b[0mcol\u001b[0m\u001b[0;34m]\u001b[0m\u001b[0;34m.\u001b[0m\u001b[0misnull\u001b[0m\u001b[0;34m(\u001b[0m\u001b[0;34m)\u001b[0m\u001b[0;34m\u001b[0m\u001b[0;34m\u001b[0m\u001b[0m\n",
      "\u001b[0;32m/opt/anaconda3/envs/bigdatalab_cpu_202101/lib/python3.7/site-packages/pandas/core/series.py\u001b[0m in \u001b[0;36munique\u001b[0;34m(self)\u001b[0m\n\u001b[1;32m   1866\u001b[0m         \u001b[0mCategories\u001b[0m \u001b[0;34m(\u001b[0m\u001b[0;36m3\u001b[0m\u001b[0;34m,\u001b[0m \u001b[0mobject\u001b[0m\u001b[0;34m)\u001b[0m\u001b[0;34m:\u001b[0m \u001b[0;34m[\u001b[0m\u001b[0;34m'a'\u001b[0m \u001b[0;34m<\u001b[0m \u001b[0;34m'b'\u001b[0m \u001b[0;34m<\u001b[0m \u001b[0;34m'c'\u001b[0m\u001b[0;34m]\u001b[0m\u001b[0;34m\u001b[0m\u001b[0;34m\u001b[0m\u001b[0m\n\u001b[1;32m   1867\u001b[0m         \"\"\"\n\u001b[0;32m-> 1868\u001b[0;31m         \u001b[0mresult\u001b[0m \u001b[0;34m=\u001b[0m \u001b[0msuper\u001b[0m\u001b[0;34m(\u001b[0m\u001b[0;34m)\u001b[0m\u001b[0;34m.\u001b[0m\u001b[0munique\u001b[0m\u001b[0;34m(\u001b[0m\u001b[0;34m)\u001b[0m\u001b[0;34m\u001b[0m\u001b[0;34m\u001b[0m\u001b[0m\n\u001b[0m\u001b[1;32m   1869\u001b[0m         \u001b[0;32mreturn\u001b[0m \u001b[0mresult\u001b[0m\u001b[0;34m\u001b[0m\u001b[0;34m\u001b[0m\u001b[0m\n\u001b[1;32m   1870\u001b[0m \u001b[0;34m\u001b[0m\u001b[0m\n",
      "\u001b[0;32m/opt/anaconda3/envs/bigdatalab_cpu_202101/lib/python3.7/site-packages/pandas/core/base.py\u001b[0m in \u001b[0;36munique\u001b[0;34m(self)\u001b[0m\n\u001b[1;32m   1263\u001b[0m                     \u001b[0mresult\u001b[0m \u001b[0;34m=\u001b[0m \u001b[0mnp\u001b[0m\u001b[0;34m.\u001b[0m\u001b[0masarray\u001b[0m\u001b[0;34m(\u001b[0m\u001b[0mresult\u001b[0m\u001b[0;34m)\u001b[0m\u001b[0;34m\u001b[0m\u001b[0;34m\u001b[0m\u001b[0m\n\u001b[1;32m   1264\u001b[0m         \u001b[0;32melse\u001b[0m\u001b[0;34m:\u001b[0m\u001b[0;34m\u001b[0m\u001b[0;34m\u001b[0m\u001b[0m\n\u001b[0;32m-> 1265\u001b[0;31m             \u001b[0mresult\u001b[0m \u001b[0;34m=\u001b[0m \u001b[0munique1d\u001b[0m\u001b[0;34m(\u001b[0m\u001b[0mvalues\u001b[0m\u001b[0;34m)\u001b[0m\u001b[0;34m\u001b[0m\u001b[0;34m\u001b[0m\u001b[0m\n\u001b[0m\u001b[1;32m   1266\u001b[0m \u001b[0;34m\u001b[0m\u001b[0m\n\u001b[1;32m   1267\u001b[0m         \u001b[0;32mreturn\u001b[0m \u001b[0mresult\u001b[0m\u001b[0;34m\u001b[0m\u001b[0;34m\u001b[0m\u001b[0m\n",
      "\u001b[0;32m/opt/anaconda3/envs/bigdatalab_cpu_202101/lib/python3.7/site-packages/pandas/core/algorithms.py\u001b[0m in \u001b[0;36munique\u001b[0;34m(values)\u001b[0m\n\u001b[1;32m    387\u001b[0m \u001b[0;34m\u001b[0m\u001b[0m\n\u001b[1;32m    388\u001b[0m     \u001b[0mtable\u001b[0m \u001b[0;34m=\u001b[0m \u001b[0mhtable\u001b[0m\u001b[0;34m(\u001b[0m\u001b[0mlen\u001b[0m\u001b[0;34m(\u001b[0m\u001b[0mvalues\u001b[0m\u001b[0;34m)\u001b[0m\u001b[0;34m)\u001b[0m\u001b[0;34m\u001b[0m\u001b[0;34m\u001b[0m\u001b[0m\n\u001b[0;32m--> 389\u001b[0;31m     \u001b[0muniques\u001b[0m \u001b[0;34m=\u001b[0m \u001b[0mtable\u001b[0m\u001b[0;34m.\u001b[0m\u001b[0munique\u001b[0m\u001b[0;34m(\u001b[0m\u001b[0mvalues\u001b[0m\u001b[0;34m)\u001b[0m\u001b[0;34m\u001b[0m\u001b[0;34m\u001b[0m\u001b[0m\n\u001b[0m\u001b[1;32m    390\u001b[0m     \u001b[0muniques\u001b[0m \u001b[0;34m=\u001b[0m \u001b[0m_reconstruct_data\u001b[0m\u001b[0;34m(\u001b[0m\u001b[0muniques\u001b[0m\u001b[0;34m,\u001b[0m \u001b[0moriginal\u001b[0m\u001b[0;34m.\u001b[0m\u001b[0mdtype\u001b[0m\u001b[0;34m,\u001b[0m \u001b[0moriginal\u001b[0m\u001b[0;34m)\u001b[0m\u001b[0;34m\u001b[0m\u001b[0;34m\u001b[0m\u001b[0m\n\u001b[1;32m    391\u001b[0m     \u001b[0;32mreturn\u001b[0m \u001b[0muniques\u001b[0m\u001b[0;34m\u001b[0m\u001b[0;34m\u001b[0m\u001b[0m\n",
      "\u001b[0;31mKeyboardInterrupt\u001b[0m: "
     ]
    }
   ],
   "source": [
    "list_panel_id=Final_df[\"PanelID\"].unique().tolist()\n",
    "\n",
    "def cross_validation_panel_id_creation(list_panel_id,n_fold=5):\n",
    "    Fold_list=[]\n",
    "    #list_panel_id=joblib.load(\"list_panel_id\")\n",
    "    len_fold=(len(list_panel_id))//n_fold\n",
    "    for fold in range(n_fold):\n",
    "        Fold_list.append(list_panel_id[fold*len_fold:(fold+1)*len_fold])\n",
    "    return(Fold_list)\n",
    "Fold_list=cross_validation_panel_id_creation(list_panel_id)\n",
    "#Final_df=Final_df.loc[Final_df['ComponentID2']!=\"BC1\"]\n",
    "f1_score_list=[]\n",
    "list_confusion_matrix=[]\n",
    "for Test_fold_indice in range(5):\n",
    "    print(Test_fold_indice)\n",
    "    Train_indices_pin_training=[]\n",
    "    Train_indice=[]\n",
    "    for indices in range(len(Fold_list)):\n",
    "        if indices!=Test_fold_indice:\n",
    "            Train_indice=Train_indice+Fold_list[indices]\n",
    "        else:\n",
    "            Test_indices=Fold_list[indices]\n",
    "            Train_indice=Train_indice+Fold_list[indices]\n",
    "\n",
    "    Train_df=Final_df.loc[Final_df[\"PanelID\"].isin(Train_indice)].reset_index(drop=True)\n",
    "    Test_df=Final_df.loc[Final_df[\"PanelID\"].isin(Test_indices)].reset_index(drop=True)\n",
    "    \n",
    "   \n",
    "    \n",
    "    encoder=ce.CatBoostEncoder(cols=list_var_to_encode,a=0.3)\n",
    "    encoder=joblib.load(\"Cat_boost_step1\")\n",
    "\n",
    "    y_train=Train_df['Target'].to_numpy()\n",
    "\n",
    "    AE_val=encoder.fit_transform(Train_df[list_var_to_encode].copy(),y_train)\n",
    "    AE_val.columns=[x+\"_encoded\" for x in AE_val.columns.tolist()]\n",
    "    Train_df=pd.concat([Train_df,AE_val],axis=1)\n",
    "    features_x=[x for x in Train_df.columns if \"_encoded\" in x]\n",
    "    joblib.dump(encoder,\"Cat_boost_step1\")\n",
    "\n",
    "    AE_val=encoder.transform(Test_df[list_var_to_encode].copy())\n",
    "    AE_val.columns=[x+\"_encoded\" for x in AE_val.columns.tolist()]\n",
    "    Test_df=pd.concat([Test_df,AE_val],axis=1)\n",
    "\n",
    "\n",
    "    X_train=Train_df[features_x].to_numpy()\n",
    "    X_test=Test_df[features_x].to_numpy()\n",
    "    \n",
    "    \n",
    "\n",
    "    clf = xgboost.XGBClassifier(objective=\"binary:logistic\",n_estimators =100,max_depth = 10,scale_pos_weight=1)\n",
    "\n",
    "    clf = LDA(tol=1.0e-4)\n",
    "\n",
    "    clf.fit(X_train,y_train)\n",
    "    \n",
    "    clf=joblib.load(\"LDA_step1\")\n",
    "\n",
    "    pred_xgboost=clf.predict(X_train)\n",
    "    Test_df['Pred_label']=pred_xgboost\n",
    "\n",
    "    Train_df=Train_df.loc[Test_df['Pred_label']==0]\n",
    "    Test_df[\"FigureID2\"]=Test_df[\"FigureID2\"].astype(int).astype(str)\n",
    "    defects=list(Test_df[[\"PanelID\",\"FigureID2\",\"ComponentID2\"]].itertuples(index=False, name=None))\n",
    "    \n",
    "    AOI=InputAOI.loc[InputAOI[\"PanelID\"].isin(Test_indices)]\n",
    "    \n",
    "    \n",
    "    results_1=set(defects)\n",
    "    groundtruth_1  = {tuple( [str(f) for f in e] ) for e in AOI[[\"PanelID\",\"FigureID\",\"ComponentID\"]].values}\n",
    "    precision_1    = len(results_1&groundtruth_1)/len(results_1) if len(results_1) > 0 else 0\n",
    "    recall_1       = len(results_1&groundtruth_1)/len(groundtruth_1) if len(groundtruth_1) > 0 else 0\n",
    "    f1_1           = 2*precision_1*recall_1/(precision_1+recall_1) if precision_1+recall_1 > 0 else 0\n",
    "    print(f1_1)\n"
   ]
  },
  {
   "cell_type": "code",
   "execution_count": 32,
   "id": "convenient-commissioner",
   "metadata": {},
   "outputs": [
    {
     "data": {
      "text/plain": [
       "['Result_cat_encoded',\n",
       " 'ComponentID2_encoded',\n",
       " 'FigureID2_encoded',\n",
       " 'PadID_cat_encoded',\n",
       " 'PinNumber_cat_encoded',\n",
       " 'FigureID_ComponentID_encoded',\n",
       " 'FigureID_ComponentID_Result_encoded',\n",
       " 'FigureID_ComponentID_PadID_encoded']"
      ]
     },
     "execution_count": 32,
     "metadata": {},
     "output_type": "execute_result"
    }
   ],
   "source": [
    "features_x"
   ]
  },
  {
   "cell_type": "code",
   "execution_count": 13,
   "id": "helpful-saskatchewan",
   "metadata": {},
   "outputs": [
    {
     "data": {
      "text/html": [
       "<div>\n",
       "<style scoped>\n",
       "    .dataframe tbody tr th:only-of-type {\n",
       "        vertical-align: middle;\n",
       "    }\n",
       "\n",
       "    .dataframe tbody tr th {\n",
       "        vertical-align: top;\n",
       "    }\n",
       "\n",
       "    .dataframe thead th {\n",
       "        text-align: right;\n",
       "    }\n",
       "</style>\n",
       "<table border=\"1\" class=\"dataframe\">\n",
       "  <thead>\n",
       "    <tr style=\"text-align: right;\">\n",
       "      <th></th>\n",
       "      <th>PanelID</th>\n",
       "      <th>FigureID</th>\n",
       "      <th>Date</th>\n",
       "      <th>Time</th>\n",
       "      <th>ComponentID</th>\n",
       "      <th>PinNumber</th>\n",
       "      <th>PadID</th>\n",
       "      <th>PadType</th>\n",
       "      <th>Volume(%)</th>\n",
       "      <th>Height(um)</th>\n",
       "      <th>...</th>\n",
       "      <th>SizeX</th>\n",
       "      <th>SizeY</th>\n",
       "      <th>Volume(um3)</th>\n",
       "      <th>Area(um2)</th>\n",
       "      <th>Shape(um)</th>\n",
       "      <th>PosX(mm)</th>\n",
       "      <th>PosY(mm)</th>\n",
       "      <th>Result</th>\n",
       "      <th>ComponentID2</th>\n",
       "      <th>FigureID2</th>\n",
       "    </tr>\n",
       "  </thead>\n",
       "  <tbody>\n",
       "    <tr>\n",
       "      <th>0</th>\n",
       "      <td>25319088000520102844</td>\n",
       "      <td>0</td>\n",
       "      <td>9/11/2019</td>\n",
       "      <td>00:07:04</td>\n",
       "      <td>0</td>\n",
       "      <td>0</td>\n",
       "      <td>0</td>\n",
       "      <td>0.0</td>\n",
       "      <td>89.873</td>\n",
       "      <td>129.801</td>\n",
       "      <td>...</td>\n",
       "      <td>5.10</td>\n",
       "      <td>5.10</td>\n",
       "      <td>3.506371e+09</td>\n",
       "      <td>27013470.0</td>\n",
       "      <td>0</td>\n",
       "      <td>55.6</td>\n",
       "      <td>23.6</td>\n",
       "      <td>7</td>\n",
       "      <td>BC1</td>\n",
       "      <td>1.0</td>\n",
       "    </tr>\n",
       "    <tr>\n",
       "      <th>1</th>\n",
       "      <td>25319088000520102844</td>\n",
       "      <td>0</td>\n",
       "      <td>9/11/2019</td>\n",
       "      <td>00:07:04</td>\n",
       "      <td>0</td>\n",
       "      <td>11</td>\n",
       "      <td>1</td>\n",
       "      <td>0.0</td>\n",
       "      <td>86.353</td>\n",
       "      <td>124.976</td>\n",
       "      <td>...</td>\n",
       "      <td>5.10</td>\n",
       "      <td>5.10</td>\n",
       "      <td>3.369075e+09</td>\n",
       "      <td>26957750.0</td>\n",
       "      <td>0</td>\n",
       "      <td>48.5</td>\n",
       "      <td>23.6</td>\n",
       "      <td>7</td>\n",
       "      <td>BC1</td>\n",
       "      <td>1.0</td>\n",
       "    </tr>\n",
       "    <tr>\n",
       "      <th>2</th>\n",
       "      <td>25319088000520102844</td>\n",
       "      <td>0</td>\n",
       "      <td>9/11/2019</td>\n",
       "      <td>00:07:04</td>\n",
       "      <td>1</td>\n",
       "      <td>0</td>\n",
       "      <td>2</td>\n",
       "      <td>0.0</td>\n",
       "      <td>94.614</td>\n",
       "      <td>135.764</td>\n",
       "      <td>...</td>\n",
       "      <td>5.10</td>\n",
       "      <td>5.10</td>\n",
       "      <td>3.691364e+09</td>\n",
       "      <td>27189650.0</td>\n",
       "      <td>0</td>\n",
       "      <td>13.4</td>\n",
       "      <td>23.6</td>\n",
       "      <td>7</td>\n",
       "      <td>BC2</td>\n",
       "      <td>1.0</td>\n",
       "    </tr>\n",
       "    <tr>\n",
       "      <th>3</th>\n",
       "      <td>25319088000520102844</td>\n",
       "      <td>0</td>\n",
       "      <td>9/11/2019</td>\n",
       "      <td>00:07:04</td>\n",
       "      <td>1</td>\n",
       "      <td>11</td>\n",
       "      <td>3</td>\n",
       "      <td>0.0</td>\n",
       "      <td>93.434</td>\n",
       "      <td>133.763</td>\n",
       "      <td>...</td>\n",
       "      <td>5.10</td>\n",
       "      <td>5.10</td>\n",
       "      <td>3.645320e+09</td>\n",
       "      <td>27252060.0</td>\n",
       "      <td>0</td>\n",
       "      <td>20.5</td>\n",
       "      <td>23.6</td>\n",
       "      <td>7</td>\n",
       "      <td>BC2</td>\n",
       "      <td>1.0</td>\n",
       "    </tr>\n",
       "    <tr>\n",
       "      <th>4</th>\n",
       "      <td>25319088000520102844</td>\n",
       "      <td>0</td>\n",
       "      <td>9/11/2019</td>\n",
       "      <td>00:07:04</td>\n",
       "      <td>2</td>\n",
       "      <td>0</td>\n",
       "      <td>4</td>\n",
       "      <td>0.0</td>\n",
       "      <td>88.119</td>\n",
       "      <td>127.896</td>\n",
       "      <td>...</td>\n",
       "      <td>5.10</td>\n",
       "      <td>5.10</td>\n",
       "      <td>3.437968e+09</td>\n",
       "      <td>26881040.0</td>\n",
       "      <td>0</td>\n",
       "      <td>55.6</td>\n",
       "      <td>45.6</td>\n",
       "      <td>7</td>\n",
       "      <td>BC3</td>\n",
       "      <td>1.0</td>\n",
       "    </tr>\n",
       "    <tr>\n",
       "      <th>...</th>\n",
       "      <td>...</td>\n",
       "      <td>...</td>\n",
       "      <td>...</td>\n",
       "      <td>...</td>\n",
       "      <td>...</td>\n",
       "      <td>...</td>\n",
       "      <td>...</td>\n",
       "      <td>...</td>\n",
       "      <td>...</td>\n",
       "      <td>...</td>\n",
       "      <td>...</td>\n",
       "      <td>...</td>\n",
       "      <td>...</td>\n",
       "      <td>...</td>\n",
       "      <td>...</td>\n",
       "      <td>...</td>\n",
       "      <td>...</td>\n",
       "      <td>...</td>\n",
       "      <td>...</td>\n",
       "      <td>...</td>\n",
       "      <td>...</td>\n",
       "    </tr>\n",
       "    <tr>\n",
       "      <th>1496342</th>\n",
       "      <td>27219034900520102844</td>\n",
       "      <td>7</td>\n",
       "      <td>7/29/2019</td>\n",
       "      <td>23:26:35</td>\n",
       "      <td>127</td>\n",
       "      <td>44</td>\n",
       "      <td>3155</td>\n",
       "      <td>0.0</td>\n",
       "      <td>103.307</td>\n",
       "      <td>116.562</td>\n",
       "      <td>...</td>\n",
       "      <td>1.88</td>\n",
       "      <td>0.58</td>\n",
       "      <td>1.351708e+08</td>\n",
       "      <td>1159644.0</td>\n",
       "      <td>44.4</td>\n",
       "      <td>43.5</td>\n",
       "      <td>87.9</td>\n",
       "      <td>7</td>\n",
       "      <td>U5</td>\n",
       "      <td>8.0</td>\n",
       "    </tr>\n",
       "    <tr>\n",
       "      <th>1496343</th>\n",
       "      <td>27219034900520102844</td>\n",
       "      <td>7</td>\n",
       "      <td>7/29/2019</td>\n",
       "      <td>23:26:35</td>\n",
       "      <td>127</td>\n",
       "      <td>45</td>\n",
       "      <td>3156</td>\n",
       "      <td>0.0</td>\n",
       "      <td>96.417</td>\n",
       "      <td>110.576</td>\n",
       "      <td>...</td>\n",
       "      <td>1.88</td>\n",
       "      <td>0.58</td>\n",
       "      <td>1.261555e+08</td>\n",
       "      <td>1140890.0</td>\n",
       "      <td>46.7</td>\n",
       "      <td>43.5</td>\n",
       "      <td>86.6</td>\n",
       "      <td>7</td>\n",
       "      <td>U5</td>\n",
       "      <td>8.0</td>\n",
       "    </tr>\n",
       "    <tr>\n",
       "      <th>1496344</th>\n",
       "      <td>27219034900520102844</td>\n",
       "      <td>7</td>\n",
       "      <td>7/29/2019</td>\n",
       "      <td>23:26:35</td>\n",
       "      <td>127</td>\n",
       "      <td>46</td>\n",
       "      <td>3157</td>\n",
       "      <td>0.0</td>\n",
       "      <td>98.385</td>\n",
       "      <td>112.209</td>\n",
       "      <td>...</td>\n",
       "      <td>1.88</td>\n",
       "      <td>0.58</td>\n",
       "      <td>1.287307e+08</td>\n",
       "      <td>1147242.0</td>\n",
       "      <td>44.4</td>\n",
       "      <td>43.5</td>\n",
       "      <td>85.4</td>\n",
       "      <td>7</td>\n",
       "      <td>U5</td>\n",
       "      <td>8.0</td>\n",
       "    </tr>\n",
       "    <tr>\n",
       "      <th>1496345</th>\n",
       "      <td>27219034900520102844</td>\n",
       "      <td>7</td>\n",
       "      <td>7/29/2019</td>\n",
       "      <td>23:26:35</td>\n",
       "      <td>128</td>\n",
       "      <td>0</td>\n",
       "      <td>3158</td>\n",
       "      <td>0.0</td>\n",
       "      <td>84.272</td>\n",
       "      <td>109.335</td>\n",
       "      <td>...</td>\n",
       "      <td>0.77</td>\n",
       "      <td>0.47</td>\n",
       "      <td>3.656671e+07</td>\n",
       "      <td>334447.0</td>\n",
       "      <td>42.6</td>\n",
       "      <td>43.1</td>\n",
       "      <td>82.4</td>\n",
       "      <td>7</td>\n",
       "      <td>Z1</td>\n",
       "      <td>8.0</td>\n",
       "    </tr>\n",
       "    <tr>\n",
       "      <th>1496346</th>\n",
       "      <td>27219034900520102844</td>\n",
       "      <td>7</td>\n",
       "      <td>7/29/2019</td>\n",
       "      <td>23:26:35</td>\n",
       "      <td>128</td>\n",
       "      <td>11</td>\n",
       "      <td>3159</td>\n",
       "      <td>0.0</td>\n",
       "      <td>93.468</td>\n",
       "      <td>126.377</td>\n",
       "      <td>...</td>\n",
       "      <td>0.77</td>\n",
       "      <td>0.47</td>\n",
       "      <td>4.055683e+07</td>\n",
       "      <td>320921.0</td>\n",
       "      <td>53.3</td>\n",
       "      <td>43.1</td>\n",
       "      <td>80.0</td>\n",
       "      <td>7</td>\n",
       "      <td>Z1</td>\n",
       "      <td>8.0</td>\n",
       "    </tr>\n",
       "  </tbody>\n",
       "</table>\n",
       "<p>5985382 rows × 23 columns</p>\n",
       "</div>"
      ],
      "text/plain": [
       "                      PanelID  FigureID       Date      Time  ComponentID  \\\n",
       "0        25319088000520102844         0  9/11/2019  00:07:04            0   \n",
       "1        25319088000520102844         0  9/11/2019  00:07:04            0   \n",
       "2        25319088000520102844         0  9/11/2019  00:07:04            1   \n",
       "3        25319088000520102844         0  9/11/2019  00:07:04            1   \n",
       "4        25319088000520102844         0  9/11/2019  00:07:04            2   \n",
       "...                       ...       ...        ...       ...          ...   \n",
       "1496342  27219034900520102844         7  7/29/2019  23:26:35          127   \n",
       "1496343  27219034900520102844         7  7/29/2019  23:26:35          127   \n",
       "1496344  27219034900520102844         7  7/29/2019  23:26:35          127   \n",
       "1496345  27219034900520102844         7  7/29/2019  23:26:35          128   \n",
       "1496346  27219034900520102844         7  7/29/2019  23:26:35          128   \n",
       "\n",
       "         PinNumber  PadID  PadType  Volume(%)  Height(um)  ...  SizeX  SizeY  \\\n",
       "0                0      0      0.0     89.873     129.801  ...   5.10   5.10   \n",
       "1               11      1      0.0     86.353     124.976  ...   5.10   5.10   \n",
       "2                0      2      0.0     94.614     135.764  ...   5.10   5.10   \n",
       "3               11      3      0.0     93.434     133.763  ...   5.10   5.10   \n",
       "4                0      4      0.0     88.119     127.896  ...   5.10   5.10   \n",
       "...            ...    ...      ...        ...         ...  ...    ...    ...   \n",
       "1496342         44   3155      0.0    103.307     116.562  ...   1.88   0.58   \n",
       "1496343         45   3156      0.0     96.417     110.576  ...   1.88   0.58   \n",
       "1496344         46   3157      0.0     98.385     112.209  ...   1.88   0.58   \n",
       "1496345          0   3158      0.0     84.272     109.335  ...   0.77   0.47   \n",
       "1496346         11   3159      0.0     93.468     126.377  ...   0.77   0.47   \n",
       "\n",
       "          Volume(um3)   Area(um2)  Shape(um)  PosX(mm)  PosY(mm) Result  \\\n",
       "0        3.506371e+09  27013470.0          0      55.6      23.6      7   \n",
       "1        3.369075e+09  26957750.0          0      48.5      23.6      7   \n",
       "2        3.691364e+09  27189650.0          0      13.4      23.6      7   \n",
       "3        3.645320e+09  27252060.0          0      20.5      23.6      7   \n",
       "4        3.437968e+09  26881040.0          0      55.6      45.6      7   \n",
       "...               ...         ...        ...       ...       ...    ...   \n",
       "1496342  1.351708e+08   1159644.0       44.4      43.5      87.9      7   \n",
       "1496343  1.261555e+08   1140890.0       46.7      43.5      86.6      7   \n",
       "1496344  1.287307e+08   1147242.0       44.4      43.5      85.4      7   \n",
       "1496345  3.656671e+07    334447.0       42.6      43.1      82.4      7   \n",
       "1496346  4.055683e+07    320921.0       53.3      43.1      80.0      7   \n",
       "\n",
       "         ComponentID2  FigureID2  \n",
       "0                 BC1        1.0  \n",
       "1                 BC1        1.0  \n",
       "2                 BC2        1.0  \n",
       "3                 BC2        1.0  \n",
       "4                 BC3        1.0  \n",
       "...               ...        ...  \n",
       "1496342            U5        8.0  \n",
       "1496343            U5        8.0  \n",
       "1496344            U5        8.0  \n",
       "1496345            Z1        8.0  \n",
       "1496346            Z1        8.0  \n",
       "\n",
       "[5985382 rows x 23 columns]"
      ]
     },
     "execution_count": 13,
     "metadata": {},
     "output_type": "execute_result"
    }
   ],
   "source": [
    "InputSPI.groupby(\"\")"
   ]
  },
  {
   "cell_type": "code",
   "execution_count": 20,
   "id": "colonial-commons",
   "metadata": {},
   "outputs": [
    {
     "data": {
      "text/plain": [
       "'1.6.1'"
      ]
     },
     "execution_count": 20,
     "metadata": {},
     "output_type": "execute_result"
    }
   ],
   "source": [
    "xgboost.__version__"
   ]
  },
  {
   "cell_type": "code",
   "execution_count": 21,
   "id": "automatic-dealer",
   "metadata": {},
   "outputs": [
    {
     "data": {
      "text/plain": [
       "'1.1.0'"
      ]
     },
     "execution_count": 21,
     "metadata": {},
     "output_type": "execute_result"
    }
   ],
   "source": [
    "joblib.__version__"
   ]
  },
  {
   "cell_type": "code",
   "execution_count": null,
   "id": "unexpected-marine",
   "metadata": {},
   "outputs": [],
   "source": []
  }
 ],
 "metadata": {
  "kernelspec": {
   "display_name": "Python 3",
   "language": "python",
   "name": "python3"
  },
  "language_info": {
   "codemirror_mode": {
    "name": "ipython",
    "version": 3
   },
   "file_extension": ".py",
   "mimetype": "text/x-python",
   "name": "python",
   "nbconvert_exporter": "python",
   "pygments_lexer": "ipython3",
   "version": "3.7.9"
  }
 },
 "nbformat": 4,
 "nbformat_minor": 5
}
