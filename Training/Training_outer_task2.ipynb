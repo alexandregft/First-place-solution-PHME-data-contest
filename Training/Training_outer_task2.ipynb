{
 "cells": [
  {
   "cell_type": "markdown",
   "id": "6bd8bcfa-4bde-42b8-a44e-4eefeae21b9b",
   "metadata": {},
   "source": [
    "# Library import"
   ]
  },
  {
   "cell_type": "code",
   "execution_count": 1,
   "id": "0bdd704a-2a6d-4132-adb0-2df7199d94ca",
   "metadata": {},
   "outputs": [],
   "source": [
    "import pandas as pd\n",
    "from scipy.stats import norm \n",
    "import joblib\n",
    "from sklearn.metrics import roc_auc_score\n",
    "import os\n",
    "import random\n",
    "import xgboost\n",
    "import numpy as np\n",
    "from sklearn.metrics import f1_score\n",
    "import numpy as np\n",
    "import pandas as pd\n",
    "from sklearn.metrics import accuracy_score, confusion_matrix, recall_score, precision_score, f1_score\n",
    "from sklearn.preprocessing import StandardScaler\n",
    "import category_encoders as ce\n",
    "import optuna\n",
    "from optuna import Trial, visualization\n",
    "from optuna.samplers import TPESampler\n",
    "import logging\n",
    "from sklearn.model_selection import cross_val_score\n",
    "from sklearn.metrics import make_scorer"
   ]
  },
  {
   "cell_type": "markdown",
   "id": "198e00be-45f4-47d1-bacf-866142ef2b08",
   "metadata": {},
   "source": [
    "# Data set creation"
   ]
  },
  {
   "cell_type": "code",
   "execution_count": 2,
   "id": "amended-lawrence",
   "metadata": {},
   "outputs": [
    {
     "name": "stderr",
     "output_type": "stream",
     "text": [
      "/opt/anaconda3/lib/python3.9/site-packages/IPython/core/interactiveshell.py:3444: DtypeWarning: Columns (17) have mixed types.Specify dtype option on import or set low_memory=False.\n",
      "  exec(code_obj, self.user_global_ns, self.user_ns)\n"
     ]
    }
   ],
   "source": [
    "InputAOI=pd.read_csv('../data/AOI_training.csv.zip')\n",
    "InputAOI['PinNumber']=InputAOI['PinNumber'].astype('Int64').astype(str)\n",
    "InputAOI['FigureID2']=InputAOI['FigureID']\n",
    "InputAOI['ComponentID2']=InputAOI['ComponentID']\n",
    "\n",
    "\n",
    "#As ComponentID and FigureID are needed in the return file we store a not modified version as FigureID2\n",
    "\n",
    "InputAOI['Count_Pin']=InputAOI.groupby([\"PanelID\",\"FigureID2\",\"ComponentID2\"])[\"PinNumber\"].transform('count')\n",
    "InputAOI['Count_Pin_Figure']=InputAOI.groupby([\"PanelID\",\"FigureID2\"])[\"PinNumber\"].transform('count')\n",
    "\n",
    "InputAOI['Target']=InputAOI['OperatorLabel'].astype('category').cat.codes\n",
    "\n",
    "InputSPI=pd.DataFrame()\n",
    "for item in range(4):\n",
    "    InputSPI=pd.concat([InputSPI,pd.read_csv('../data/SPI_training_'+str(item)+'.csv.zip')])\n",
    "InputAOI['key_spi']=(InputAOI['PanelID'].astype(str)+'_'+InputAOI['FigureID'].astype(str)+'_'+InputAOI['ComponentID'].astype(str))\n",
    "InputSPI=InputSPI.dropna(subset=['FigureID'])\n",
    "\n",
    "InputSPI['FigureID2']=InputSPI['FigureID']\n",
    "InputSPI['ComponentID2']=InputSPI['ComponentID']\n",
    "InputSPI['key_spi']=(InputSPI['PanelID'].astype(str)+'_'+InputSPI['FigureID'].astype(int,errors='ignore').astype(str)+'_'+InputSPI['ComponentID'].astype(str))\n",
    "Features_to_bin=['Volume(%)',  'Area(%)', 'OffsetX(%)','OffsetY(%)']\n"
   ]
  },
  {
   "cell_type": "code",
   "execution_count": 13,
   "id": "statistical-remove",
   "metadata": {},
   "outputs": [
    {
     "name": "stderr",
     "output_type": "stream",
     "text": [
      "/tmp/ipykernel_21583/2689965088.py:4: SettingWithCopyWarning: \n",
      "A value is trying to be set on a copy of a slice from a DataFrame.\n",
      "Try using .loc[row_indexer,col_indexer] = value instead\n",
      "\n",
      "See the caveats in the documentation: https://pandas.pydata.org/pandas-docs/stable/user_guide/indexing.html#returning-a-view-versus-a-copy\n",
      "  aoi_outter['FigureID_ComponentID']=(aoi_outter['FigureID'].astype(str)+'_'+aoi_outter['ComponentID'].astype(str)).astype(\"category\").cat.codes\n",
      "/tmp/ipykernel_21583/2689965088.py:5: SettingWithCopyWarning: \n",
      "A value is trying to be set on a copy of a slice from a DataFrame.\n",
      "Try using .loc[row_indexer,col_indexer] = value instead\n",
      "\n",
      "See the caveats in the documentation: https://pandas.pydata.org/pandas-docs/stable/user_guide/indexing.html#returning-a-view-versus-a-copy\n",
      "  aoi_outter['FigureID_ComponentID_PinNumber']=(aoi_outter['FigureID'].astype(str)+'_'+aoi_outter['ComponentID'].astype(str)+'_'+aoi_outter['PinNumber'].astype(str)).astype(\"category\").cat.codes\n",
      "/tmp/ipykernel_21583/2689965088.py:6: SettingWithCopyWarning: \n",
      "A value is trying to be set on a copy of a slice from a DataFrame.\n",
      "Try using .loc[row_indexer,col_indexer] = value instead\n",
      "\n",
      "See the caveats in the documentation: https://pandas.pydata.org/pandas-docs/stable/user_guide/indexing.html#returning-a-view-versus-a-copy\n",
      "  aoi_outter['FigureID_ComponentID_PinNumber_AOILabel']=(aoi_outter['FigureID'].astype(str)+'_'+aoi_outter['ComponentID'].astype(str)+'_'+aoi_outter['PinNumber'].astype(str)+aoi_outter['AOILabel'].astype(str)).astype(\"category\").cat.codes\n",
      "/tmp/ipykernel_21583/2689965088.py:7: SettingWithCopyWarning: \n",
      "A value is trying to be set on a copy of a slice from a DataFrame.\n",
      "Try using .loc[row_indexer,col_indexer] = value instead\n",
      "\n",
      "See the caveats in the documentation: https://pandas.pydata.org/pandas-docs/stable/user_guide/indexing.html#returning-a-view-versus-a-copy\n",
      "  aoi_outter['FigureID_ComponentID_AOILabel']=(aoi_outter['FigureID'].astype(str)+'_'+aoi_outter['ComponentID'].astype(str)+\"_\"+aoi_outter['AOILabel'].astype(str)).astype(\"category\").cat.codes\n",
      "/tmp/ipykernel_21583/2689965088.py:11: SettingWithCopyWarning: \n",
      "A value is trying to be set on a copy of a slice from a DataFrame.\n",
      "Try using .loc[row_indexer,col_indexer] = value instead\n",
      "\n",
      "See the caveats in the documentation: https://pandas.pydata.org/pandas-docs/stable/user_guide/indexing.html#returning-a-view-versus-a-copy\n",
      "  aoi_outter[var]=aoi_outter[var].astype('category').cat.codes\n"
     ]
    }
   ],
   "source": [
    "# We create a model for the line of AOI files where no PinNumber is associated to the defect\n",
    "\n",
    "aoi_outter=InputAOI.loc[InputAOI.PinNumber=='<NA>']\n",
    "aoi_outter['FigureID_ComponentID']=(aoi_outter['FigureID'].astype(str)+'_'+aoi_outter['ComponentID'].astype(str)).astype(\"category\").cat.codes\n",
    "aoi_outter['FigureID_ComponentID_PinNumber']=(aoi_outter['FigureID'].astype(str)+'_'+aoi_outter['ComponentID'].astype(str)+'_'+aoi_outter['PinNumber'].astype(str)).astype(\"category\").cat.codes\n",
    "aoi_outter['FigureID_ComponentID_PinNumber_AOILabel']=(aoi_outter['FigureID'].astype(str)+'_'+aoi_outter['ComponentID'].astype(str)+'_'+aoi_outter['PinNumber'].astype(str)+aoi_outter['AOILabel'].astype(str)).astype(\"category\").cat.codes\n",
    "aoi_outter['FigureID_ComponentID_AOILabel']=(aoi_outter['FigureID'].astype(str)+'_'+aoi_outter['ComponentID'].astype(str)+\"_\"+aoi_outter['AOILabel'].astype(str)).astype(\"category\").cat.codes\n",
    "list_var_to_encode=['FigureID',\"ComponentID\",\"PinNumber\",\"AOILabel\",\"FigureID_ComponentID\",\"FigureID_ComponentID_PinNumber\",\"FigureID_ComponentID_PinNumber_AOILabel\",\"FigureID_ComponentID_AOILabel\"]\n",
    "\n",
    "for var in list_var_to_encode:\n",
    "    aoi_outter[var]=aoi_outter[var].astype('category').cat.codes\n",
    "    \n",
    "    \n",
    "    "
   ]
  },
  {
   "cell_type": "code",
   "execution_count": 14,
   "id": "billion-batch",
   "metadata": {},
   "outputs": [],
   "source": [
    "InputSPI_grouped=InputSPI.groupby([\"PanelID\",\"FigureID2\",\"ComponentID2\"])[Features_to_bin].mean().reset_index()\n",
    "aoi_outter=aoi_outter.merge(InputSPI_grouped,how=\"left\",left_on=[\"PanelID\",\"FigureID2\",\"ComponentID2\"],right_on=[\"PanelID\",\"FigureID2\",\"ComponentID2\"])"
   ]
  },
  {
   "cell_type": "code",
   "execution_count": 15,
   "id": "intelligent-hampton",
   "metadata": {},
   "outputs": [],
   "source": [
    "list_var_to_encode=[\"AOILabel\",\"ComponentID\",\"FigureID_ComponentID\"]\n",
    "\n",
    "for var in list_var_to_encode:\n",
    "    aoi_outter[var]=aoi_outter[var].astype('category').cat.codes\n"
   ]
  },
  {
   "cell_type": "code",
   "execution_count": 16,
   "id": "cognitive-kidney",
   "metadata": {},
   "outputs": [],
   "source": [
    "Features_to_bin=['Volume(%)',  'Area(%)', 'OffsetX(%)','OffsetY(%)']"
   ]
  },
  {
   "cell_type": "code",
   "execution_count": 17,
   "id": "d8564d7e-e403-431b-a583-7122d981e673",
   "metadata": {},
   "outputs": [],
   "source": [
    "Train_df=aoi_outter.reset_index(drop=True)\n",
    "y_train=Train_df['Target']\n",
    "\n",
    "\n",
    "encoder=ce.CatBoostEncoder()\n",
    "X_train=Train_df\n",
    "\n",
    "AE_train=encoder.fit_transform(X_train[list_var_to_encode].copy(),y_train)\n",
    "AE_train.columns=[x+\"_encoded\" for x in AE_train.columns.tolist()]\n",
    "X_train_final=pd.concat([X_train,AE_train],axis=1)\n",
    "joblib.dump(encoder,\"Cat_boost_step2_outer\")\n",
    "\n",
    "ratio=np.sum(y_train==0)/np.sum(y_train==1)\n",
    "col_features=Features_to_bin+[x+\"_encoded\" for x in list_var_to_encode]+[\"Count_Pin\",\"Count_Pin_Figure\"]\n",
    "\n",
    "X_train_final=X_train_final.replace(np.nan,0)\n",
    "X_train_final=X_train_final[col_features].to_numpy()"
   ]
  },
  {
   "cell_type": "markdown",
   "id": "d910e8e8-43ab-41eb-ae0c-1f7383914313",
   "metadata": {},
   "source": [
    "# Optuna hyperparamétrisation"
   ]
  },
  {
   "cell_type": "code",
   "execution_count": 18,
   "id": "fd70d24e-f1df-4b6a-8960-9876a263256a",
   "metadata": {},
   "outputs": [],
   "source": [
    "\n",
    "def objective(trial: Trial,X,y) -> float:\n",
    "    \n",
    "    joblib.dump(study, 'study.pkl')\n",
    "\n",
    "    param = {\n",
    "        'objective': trial.suggest_categorical('objective',['binary:logistic']), \n",
    "        'tree_method': trial.suggest_categorical('tree_method',['exact']),  # 'gpu_hist','hist'\n",
    "        'lambda': trial.suggest_loguniform('lambda',1e-3,10.0),\n",
    "        'alpha': trial.suggest_loguniform('alpha',1e-3,10.0),\n",
    "        'colsample_bytree': trial.suggest_uniform('colsample_bytree', 0.3,1.0),\n",
    "        #'subsample': trial.suggest_uniform('subsample', 0.4, 1.0),\n",
    "        'learning_rate': trial.suggest_loguniform('learning_rate', 0.001,0.1),\n",
    "        'n_estimators': trial.suggest_categorical('n_estimators', [30,40,50,70,100,150,200]),\n",
    "        'max_depth': trial.suggest_categorical('max_depth', [3,5,7,9,11,13,15,17,20]),\n",
    "        #'random_state': trial.suggest_categorical('random_state', [24,48,2020]),\n",
    "        'min_child_weight': trial.suggest_int('min_child_weight', 1,300),\n",
    "        'nthread' : -1,\n",
    "        #'feval': trial.suggest_categorical('feval',[f1_eval]),\n",
    "        #'scale_pos_weight' : trial.suggest_categorical('scale_pos_weight', [ratio])\n",
    "        \n",
    "\n",
    "    }\n",
    "    \n",
    "    \n",
    "    model = xgboost.XGBClassifier(**param,feval=f1_eval)\n",
    "    \n",
    "    return cross_val_score(model, X_train_final, y_train, cv=5,scoring=make_scorer(f1_score, pos_label=0)).mean()"
   ]
  },
  {
   "cell_type": "code",
   "execution_count": 19,
   "id": "6b116f46-0744-46e0-8e91-85a1fe5b1993",
   "metadata": {},
   "outputs": [],
   "source": [
    "from sklearn.metrics import f1_score\n",
    "import numpy as np\n",
    "from sklearn.metrics import make_scorer\n",
    "\n",
    "def f1_eval(y_pred, y_true):\n",
    "    #y_true = dtrain.get_label()\n",
    "    err = f1_score(y_true,y_pred,pos_label=0)\n",
    "    return 'f1_err', err\n",
    "\n",
    "y_train=Train_df['Target']\n",
    "\n",
    "study = optuna.create_study(direction='maximize')\n",
    "\n",
    "optuna.logging.disable_default_handler()  # Stop showing logs in sys.stderr.\n",
    "\n",
    "#study = optuna.create_study(direction='maximize', storage=\"sqlite:///xgb_optuna_home_credit.db\", study_name=\"optuna_xgb_output_8\")\n",
    "study.optimize(lambda trial : objective(trial,X_train_final,y_train),n_trials= 10)\n",
    "\n"
   ]
  },
  {
   "cell_type": "code",
   "execution_count": 20,
   "id": "d7d9923f-6eaf-48b9-8c3d-4bc870386f26",
   "metadata": {},
   "outputs": [
    {
     "name": "stdout",
     "output_type": "stream",
     "text": [
      "[[ 335  116]\n",
      " [   1 8672]]\n"
     ]
    },
    {
     "data": {
      "text/plain": [
       "0.8174692134918484"
      ]
     },
     "execution_count": 20,
     "metadata": {},
     "output_type": "execute_result"
    }
   ],
   "source": [
    "Best_trial = study.best_trial.params\n",
    "model = xgboost.XGBClassifier(**Best_trial)\n",
    "model.fit(X_train_final,y_train)\n",
    "print(confusion_matrix(y_train, model.predict(X_train_final),labels=[0,1]))\n",
    "cross_val_score(model, X_train_final, y_train, cv=5,scoring=make_scorer(f1_score, pos_label=0)).mean()"
   ]
  },
  {
   "cell_type": "code",
   "execution_count": 21,
   "id": "ebc1a1dd-d4b4-4aa4-a94e-c3c264faa80a",
   "metadata": {},
   "outputs": [
    {
     "data": {
      "text/plain": [
       "['xgboost_step2_outter']"
      ]
     },
     "execution_count": 21,
     "metadata": {},
     "output_type": "execute_result"
    }
   ],
   "source": [
    "model = xgboost.XGBClassifier(**Best_trial)\n",
    "model.fit(X_train_final,y_train)\n",
    "joblib.dump(model,\"xgboost_step2_outter\")\n"
   ]
  },
  {
   "cell_type": "markdown",
   "id": "c626f34b-1aa2-45cc-97c9-894bbc3770af",
   "metadata": {},
   "source": [
    "# Cross validation per panel score"
   ]
  },
  {
   "cell_type": "code",
   "execution_count": 33,
   "id": "comparable-karen",
   "metadata": {},
   "outputs": [
    {
     "name": "stdout",
     "output_type": "stream",
     "text": [
      "0\n",
      "[[ 164   84]\n",
      " [   1 8151]]\n",
      "[[  28   11]\n",
      " [   0 1585]]\n",
      "0.7941888619854721\n",
      "0.835820895522388\n",
      "1\n",
      "[[ 164   84]\n",
      " [   1 8151]]\n",
      "[[  14   13]\n",
      " [   1 1585]]\n",
      "0.7941888619854721\n",
      "0.6666666666666667\n",
      "2\n",
      "[[ 164   84]\n",
      " [   1 8151]]\n",
      "[[  70   16]\n",
      " [   0 1664]]\n",
      "0.7941888619854721\n",
      "0.8974358974358974\n",
      "3\n",
      "[[ 164   84]\n",
      " [   1 8151]]\n",
      "[[  30   28]\n",
      " [   0 1696]]\n",
      "0.7941888619854721\n",
      "0.6818181818181819\n",
      "4\n",
      "[[ 164   84]\n",
      " [   1 8151]]\n",
      "[[  22   16]\n",
      " [   0 1621]]\n",
      "0.7941888619854721\n",
      "0.7333333333333334\n"
     ]
    }
   ],
   "source": [
    "list_panel_id=InputAOI.PanelID.unique().tolist()\n",
    "\n",
    "\n",
    "def cross_validation_panel_id_creation(list_panel_id,n_fold=5):\n",
    "    Fold_list=[]\n",
    "    random.shuffle(list_panel_id)\n",
    "    list_panel_id=joblib.load(\"list_panel_id\")\n",
    "    len_fold=(len(list_panel_id))//n_fold\n",
    "    for fold in range(n_fold):\n",
    "        Fold_list.append(list_panel_id[fold*len_fold:(fold+1)*len_fold])\n",
    "    return(Fold_list)\n",
    "Fold_list=cross_validation_panel_id_creation(list_panel_id)\n",
    "#Final_df=Final_df.loc[Final_df['ComponentID2']!=\"BC1\"]\n",
    "f1_score_list=[]\n",
    "list_confusion_matrix=[]\n",
    "for Test_fold_indice in range(5):\n",
    "    print(Test_fold_indice)\n",
    "    Train_indice=[]\n",
    "    count_indice_fit_pin_training=0\n",
    "    for indices in range(len(Fold_list)):\n",
    "        if indices!=Test_fold_indice:\n",
    "            Train_indice=Train_indice+Fold_list[indices]\n",
    "        else:\n",
    "            Test_indices=Fold_list[indices]\n",
    "            #Train_indice=Train_indice+Fold_list[indices]\n",
    "\n",
    "    Train_df=aoi_outter.loc[aoi_outter[\"PanelID\"].isin(Train_indice)].reset_index(drop=True)\n",
    "    Test_df=aoi_outter.loc[aoi_outter[\"PanelID\"].isin(Test_indices)].reset_index(drop=True)\n",
    "    X_train=Train_df\n",
    "    X_val=Test_df\n",
    "    y_train=Train_df['Target']\n",
    "    y_val=Test_df['Target']\n",
    "    y_train=Train_df['Target']\n",
    "    y_train=Train_df['Target']\n",
    "    y_val=Test_df['Target']\n",
    "\n",
    "    encoder=ce.CatBoostEncoder()\n",
    "    \n",
    "\n",
    "    AE_train=encoder.fit_transform(X_train[list_var_to_encode].copy(),y_train)\n",
    "    AE_train.columns=[x+\"_encoded\" for x in AE_train.columns.tolist()]\n",
    "    X_train_final=pd.concat([X_train,AE_train],axis=1)\n",
    "    joblib.dump(encoder,\"Cat_boost_step2_outer\")\n",
    "    \n",
    "    AE_val=encoder.transform(X_val[list_var_to_encode].copy())\n",
    "    AE_val.columns=[x+\"_encoded\" for x in AE_val.columns.tolist()]\n",
    "    X_val_final=pd.concat([X_val,AE_val],axis=1)\n",
    "    \n",
    "    \n",
    "    col_features=Features_to_bin+[x+\"_encoded\" for x in list_var_to_encode]+[\"Count_Pin\",\"Count_Pin_Figure\"]\n",
    "    \n",
    "    X_train_final=X_train_final.replace(np.nan,0)\n",
    "    X_val_final=X_val_final.replace(np.nan,0)\n",
    "    X_train_final=X_train_final[col_features].to_numpy()\n",
    "    X_val_final=X_val_final[col_features].to_numpy()\n",
    "\n",
    "    ratio=np.sum(y_train==0)/np.sum(y_train==1)\n",
    "    \n",
    "\n",
    "\n",
    "    xgb_cl = xgboost.XGBClassifier(objective=\"binary:logistic\",n_estimators =150,max_depth = 10,scale_pos_weight=1)\n",
    "    xgb_cl = xgboost.XGBClassifier(**Best_trial)\n",
    "\n",
    "    xgb_cl.fit(X_train_final, y_train)\n",
    "    joblib.dump(xgb_cl,\"xgboost_step2_outter\")\n",
    "\n",
    "    res_train=xgb_cl.predict(X_train_final)\n",
    "    res_test=xgb_cl.predict(X_val_final)\n",
    "\n",
    "    X_train['Pred']=res_train\n",
    "    X_val['Pred']=res_test\n",
    "   \n",
    "    \n",
    "    y_train=X_train.groupby([\"PanelID\",\"FigureID\",\"ComponentID\"])['Target'].min()\n",
    "    y_val=X_val.groupby([\"PanelID\",\"FigureID\",\"ComponentID\"])['Target'].min()\n",
    "\n",
    "\n",
    "    res_train=X_train.groupby([\"PanelID\",\"FigureID\",\"ComponentID\"])['Pred'].min()\n",
    "    res_test=X_val.groupby([\"PanelID\",\"FigureID\",\"ComponentID\"])['Pred'].min()\n",
    "\n",
    "\n",
    "\n",
    "\n",
    "    print(confusion_matrix(y_train, res_train,labels=[0,1]))\n",
    "    print(confusion_matrix(y_val,res_test,labels=[0,1]))\n",
    "\n",
    "    print(f1_score(y_train, res_train,pos_label=0))\n",
    "    print(f1_score(y_val, res_test,pos_label=0))\n",
    "\n",
    "    f1_score_list.append(f1_score(y_val, res_test,pos_label=0))"
   ]
  },
  {
   "cell_type": "code",
   "execution_count": 34,
   "id": "ruled-document",
   "metadata": {},
   "outputs": [
    {
     "data": {
      "text/plain": [
       "0.7630149949552936"
      ]
     },
     "execution_count": 34,
     "metadata": {},
     "output_type": "execute_result"
    }
   ],
   "source": [
    "np.mean(f1_score_list)"
   ]
  },
  {
   "cell_type": "code",
   "execution_count": 28,
   "id": "amazing-funds",
   "metadata": {},
   "outputs": [],
   "source": [
    "\n",
    "\n"
   ]
  },
  {
   "cell_type": "code",
   "execution_count": 29,
   "id": "still-fever",
   "metadata": {
    "scrolled": true
   },
   "outputs": [
    {
     "name": "stderr",
     "output_type": "stream",
     "text": [
      "/home/phme/agaffet/.local/lib/python3.7/site-packages/optuna/samplers/_tpe/parzen_estimator.py:188: RuntimeWarning: divide by zero encountered in true_divide\n",
      "  coefficient = 1 / z / p_accept\n",
      "/home/phme/agaffet/.local/lib/python3.7/site-packages/optuna/samplers/_tpe/parzen_estimator.py:188: RuntimeWarning: divide by zero encountered in true_divide\n",
      "  coefficient = 1 / z / p_accept\n",
      "/home/phme/agaffet/.local/lib/python3.7/site-packages/optuna/samplers/_tpe/parzen_estimator.py:188: RuntimeWarning: divide by zero encountered in true_divide\n",
      "  coefficient = 1 / z / p_accept\n",
      "/home/phme/agaffet/.local/lib/python3.7/site-packages/optuna/samplers/_tpe/parzen_estimator.py:188: RuntimeWarning: divide by zero encountered in true_divide\n",
      "  coefficient = 1 / z / p_accept\n",
      "/home/phme/agaffet/.local/lib/python3.7/site-packages/optuna/samplers/_tpe/parzen_estimator.py:188: RuntimeWarning: divide by zero encountered in true_divide\n",
      "  coefficient = 1 / z / p_accept\n",
      "/home/phme/agaffet/.local/lib/python3.7/site-packages/optuna/samplers/_tpe/parzen_estimator.py:188: RuntimeWarning: divide by zero encountered in true_divide\n",
      "  coefficient = 1 / z / p_accept\n",
      "/home/phme/agaffet/.local/lib/python3.7/site-packages/optuna/samplers/_tpe/parzen_estimator.py:188: RuntimeWarning: divide by zero encountered in true_divide\n",
      "  coefficient = 1 / z / p_accept\n",
      "/home/phme/agaffet/.local/lib/python3.7/site-packages/optuna/samplers/_tpe/parzen_estimator.py:188: RuntimeWarning: divide by zero encountered in true_divide\n",
      "  coefficient = 1 / z / p_accept\n",
      "/home/phme/agaffet/.local/lib/python3.7/site-packages/optuna/samplers/_tpe/parzen_estimator.py:188: RuntimeWarning: divide by zero encountered in true_divide\n",
      "  coefficient = 1 / z / p_accept\n",
      "/home/phme/agaffet/.local/lib/python3.7/site-packages/optuna/samplers/_tpe/parzen_estimator.py:188: RuntimeWarning: divide by zero encountered in true_divide\n",
      "  coefficient = 1 / z / p_accept\n",
      "/home/phme/agaffet/.local/lib/python3.7/site-packages/optuna/samplers/_tpe/parzen_estimator.py:188: RuntimeWarning: divide by zero encountered in true_divide\n",
      "  coefficient = 1 / z / p_accept\n",
      "/home/phme/agaffet/.local/lib/python3.7/site-packages/optuna/samplers/_tpe/parzen_estimator.py:188: RuntimeWarning: divide by zero encountered in true_divide\n",
      "  coefficient = 1 / z / p_accept\n",
      "/home/phme/agaffet/.local/lib/python3.7/site-packages/optuna/samplers/_tpe/parzen_estimator.py:188: RuntimeWarning: divide by zero encountered in true_divide\n",
      "  coefficient = 1 / z / p_accept\n",
      "/home/phme/agaffet/.local/lib/python3.7/site-packages/optuna/samplers/_tpe/parzen_estimator.py:188: RuntimeWarning: divide by zero encountered in true_divide\n",
      "  coefficient = 1 / z / p_accept\n",
      "/home/phme/agaffet/.local/lib/python3.7/site-packages/optuna/samplers/_tpe/parzen_estimator.py:188: RuntimeWarning: divide by zero encountered in true_divide\n",
      "  coefficient = 1 / z / p_accept\n",
      "/home/phme/agaffet/.local/lib/python3.7/site-packages/optuna/samplers/_tpe/parzen_estimator.py:188: RuntimeWarning: divide by zero encountered in true_divide\n",
      "  coefficient = 1 / z / p_accept\n",
      "/home/phme/agaffet/.local/lib/python3.7/site-packages/optuna/samplers/_tpe/parzen_estimator.py:188: RuntimeWarning: divide by zero encountered in true_divide\n",
      "  coefficient = 1 / z / p_accept\n",
      "/home/phme/agaffet/.local/lib/python3.7/site-packages/optuna/samplers/_tpe/parzen_estimator.py:188: RuntimeWarning: divide by zero encountered in true_divide\n",
      "  coefficient = 1 / z / p_accept\n",
      "/home/phme/agaffet/.local/lib/python3.7/site-packages/optuna/samplers/_tpe/parzen_estimator.py:188: RuntimeWarning: divide by zero encountered in true_divide\n",
      "  coefficient = 1 / z / p_accept\n",
      "/home/phme/agaffet/.local/lib/python3.7/site-packages/optuna/samplers/_tpe/parzen_estimator.py:188: RuntimeWarning: divide by zero encountered in true_divide\n",
      "  coefficient = 1 / z / p_accept\n",
      "/home/phme/agaffet/.local/lib/python3.7/site-packages/optuna/samplers/_tpe/parzen_estimator.py:188: RuntimeWarning: divide by zero encountered in true_divide\n",
      "  coefficient = 1 / z / p_accept\n",
      "/home/phme/agaffet/.local/lib/python3.7/site-packages/optuna/samplers/_tpe/parzen_estimator.py:188: RuntimeWarning: divide by zero encountered in true_divide\n",
      "  coefficient = 1 / z / p_accept\n",
      "/home/phme/agaffet/.local/lib/python3.7/site-packages/optuna/samplers/_tpe/parzen_estimator.py:188: RuntimeWarning: divide by zero encountered in true_divide\n",
      "  coefficient = 1 / z / p_accept\n",
      "/home/phme/agaffet/.local/lib/python3.7/site-packages/optuna/samplers/_tpe/parzen_estimator.py:188: RuntimeWarning: divide by zero encountered in true_divide\n",
      "  coefficient = 1 / z / p_accept\n",
      "/home/phme/agaffet/.local/lib/python3.7/site-packages/optuna/samplers/_tpe/parzen_estimator.py:188: RuntimeWarning: divide by zero encountered in true_divide\n",
      "  coefficient = 1 / z / p_accept\n",
      "/home/phme/agaffet/.local/lib/python3.7/site-packages/optuna/samplers/_tpe/parzen_estimator.py:188: RuntimeWarning: divide by zero encountered in true_divide\n",
      "  coefficient = 1 / z / p_accept\n",
      "/home/phme/agaffet/.local/lib/python3.7/site-packages/optuna/samplers/_tpe/parzen_estimator.py:188: RuntimeWarning: divide by zero encountered in true_divide\n",
      "  coefficient = 1 / z / p_accept\n",
      "/home/phme/agaffet/.local/lib/python3.7/site-packages/optuna/samplers/_tpe/parzen_estimator.py:188: RuntimeWarning: divide by zero encountered in true_divide\n",
      "  coefficient = 1 / z / p_accept\n",
      "/home/phme/agaffet/.local/lib/python3.7/site-packages/optuna/samplers/_tpe/parzen_estimator.py:188: RuntimeWarning: divide by zero encountered in true_divide\n",
      "  coefficient = 1 / z / p_accept\n",
      "/home/phme/agaffet/.local/lib/python3.7/site-packages/optuna/samplers/_tpe/parzen_estimator.py:188: RuntimeWarning: divide by zero encountered in true_divide\n",
      "  coefficient = 1 / z / p_accept\n",
      "/home/phme/agaffet/.local/lib/python3.7/site-packages/optuna/samplers/_tpe/parzen_estimator.py:188: RuntimeWarning: divide by zero encountered in true_divide\n",
      "  coefficient = 1 / z / p_accept\n",
      "/home/phme/agaffet/.local/lib/python3.7/site-packages/optuna/samplers/_tpe/parzen_estimator.py:188: RuntimeWarning: divide by zero encountered in true_divide\n",
      "  coefficient = 1 / z / p_accept\n",
      "/home/phme/agaffet/.local/lib/python3.7/site-packages/optuna/samplers/_tpe/parzen_estimator.py:188: RuntimeWarning: divide by zero encountered in true_divide\n",
      "  coefficient = 1 / z / p_accept\n",
      "/home/phme/agaffet/.local/lib/python3.7/site-packages/optuna/samplers/_tpe/parzen_estimator.py:188: RuntimeWarning: divide by zero encountered in true_divide\n",
      "  coefficient = 1 / z / p_accept\n",
      "/home/phme/agaffet/.local/lib/python3.7/site-packages/optuna/samplers/_tpe/parzen_estimator.py:188: RuntimeWarning: divide by zero encountered in true_divide\n",
      "  coefficient = 1 / z / p_accept\n",
      "/home/phme/agaffet/.local/lib/python3.7/site-packages/optuna/samplers/_tpe/parzen_estimator.py:188: RuntimeWarning: divide by zero encountered in true_divide\n",
      "  coefficient = 1 / z / p_accept\n",
      "/home/phme/agaffet/.local/lib/python3.7/site-packages/optuna/samplers/_tpe/parzen_estimator.py:188: RuntimeWarning: divide by zero encountered in true_divide\n",
      "  coefficient = 1 / z / p_accept\n",
      "/home/phme/agaffet/.local/lib/python3.7/site-packages/optuna/samplers/_tpe/parzen_estimator.py:188: RuntimeWarning: divide by zero encountered in true_divide\n",
      "  coefficient = 1 / z / p_accept\n",
      "/home/phme/agaffet/.local/lib/python3.7/site-packages/optuna/samplers/_tpe/parzen_estimator.py:188: RuntimeWarning: divide by zero encountered in true_divide\n",
      "  coefficient = 1 / z / p_accept\n",
      "/home/phme/agaffet/.local/lib/python3.7/site-packages/optuna/samplers/_tpe/parzen_estimator.py:188: RuntimeWarning: divide by zero encountered in true_divide\n",
      "  coefficient = 1 / z / p_accept\n",
      "/home/phme/agaffet/.local/lib/python3.7/site-packages/optuna/samplers/_tpe/parzen_estimator.py:188: RuntimeWarning: divide by zero encountered in true_divide\n",
      "  coefficient = 1 / z / p_accept\n",
      "/home/phme/agaffet/.local/lib/python3.7/site-packages/optuna/samplers/_tpe/parzen_estimator.py:188: RuntimeWarning: divide by zero encountered in true_divide\n",
      "  coefficient = 1 / z / p_accept\n",
      "/home/phme/agaffet/.local/lib/python3.7/site-packages/optuna/samplers/_tpe/parzen_estimator.py:188: RuntimeWarning: divide by zero encountered in true_divide\n",
      "  coefficient = 1 / z / p_accept\n",
      "/home/phme/agaffet/.local/lib/python3.7/site-packages/optuna/samplers/_tpe/parzen_estimator.py:188: RuntimeWarning: divide by zero encountered in true_divide\n",
      "  coefficient = 1 / z / p_accept\n",
      "/home/phme/agaffet/.local/lib/python3.7/site-packages/optuna/samplers/_tpe/parzen_estimator.py:188: RuntimeWarning: divide by zero encountered in true_divide\n",
      "  coefficient = 1 / z / p_accept\n",
      "/home/phme/agaffet/.local/lib/python3.7/site-packages/optuna/samplers/_tpe/parzen_estimator.py:188: RuntimeWarning: divide by zero encountered in true_divide\n",
      "  coefficient = 1 / z / p_accept\n",
      "/home/phme/agaffet/.local/lib/python3.7/site-packages/optuna/samplers/_tpe/parzen_estimator.py:188: RuntimeWarning: divide by zero encountered in true_divide\n",
      "  coefficient = 1 / z / p_accept\n",
      "/home/phme/agaffet/.local/lib/python3.7/site-packages/optuna/samplers/_tpe/parzen_estimator.py:188: RuntimeWarning: divide by zero encountered in true_divide\n",
      "  coefficient = 1 / z / p_accept\n",
      "/home/phme/agaffet/.local/lib/python3.7/site-packages/optuna/samplers/_tpe/parzen_estimator.py:188: RuntimeWarning: divide by zero encountered in true_divide\n",
      "  coefficient = 1 / z / p_accept\n",
      "/home/phme/agaffet/.local/lib/python3.7/site-packages/optuna/samplers/_tpe/parzen_estimator.py:188: RuntimeWarning: divide by zero encountered in true_divide\n",
      "  coefficient = 1 / z / p_accept\n",
      "/home/phme/agaffet/.local/lib/python3.7/site-packages/optuna/samplers/_tpe/parzen_estimator.py:188: RuntimeWarning: divide by zero encountered in true_divide\n",
      "  coefficient = 1 / z / p_accept\n",
      "/home/phme/agaffet/.local/lib/python3.7/site-packages/optuna/samplers/_tpe/parzen_estimator.py:188: RuntimeWarning: divide by zero encountered in true_divide\n",
      "  coefficient = 1 / z / p_accept\n",
      "/home/phme/agaffet/.local/lib/python3.7/site-packages/optuna/samplers/_tpe/parzen_estimator.py:188: RuntimeWarning: divide by zero encountered in true_divide\n",
      "  coefficient = 1 / z / p_accept\n",
      "/home/phme/agaffet/.local/lib/python3.7/site-packages/optuna/samplers/_tpe/parzen_estimator.py:188: RuntimeWarning: divide by zero encountered in true_divide\n",
      "  coefficient = 1 / z / p_accept\n",
      "/home/phme/agaffet/.local/lib/python3.7/site-packages/optuna/samplers/_tpe/parzen_estimator.py:188: RuntimeWarning: divide by zero encountered in true_divide\n",
      "  coefficient = 1 / z / p_accept\n",
      "/home/phme/agaffet/.local/lib/python3.7/site-packages/optuna/samplers/_tpe/parzen_estimator.py:188: RuntimeWarning: divide by zero encountered in true_divide\n",
      "  coefficient = 1 / z / p_accept\n",
      "/home/phme/agaffet/.local/lib/python3.7/site-packages/optuna/samplers/_tpe/parzen_estimator.py:188: RuntimeWarning: divide by zero encountered in true_divide\n",
      "  coefficient = 1 / z / p_accept\n",
      "/home/phme/agaffet/.local/lib/python3.7/site-packages/optuna/samplers/_tpe/parzen_estimator.py:188: RuntimeWarning: divide by zero encountered in true_divide\n",
      "  coefficient = 1 / z / p_accept\n",
      "/home/phme/agaffet/.local/lib/python3.7/site-packages/optuna/samplers/_tpe/parzen_estimator.py:188: RuntimeWarning: divide by zero encountered in true_divide\n",
      "  coefficient = 1 / z / p_accept\n",
      "/home/phme/agaffet/.local/lib/python3.7/site-packages/optuna/samplers/_tpe/parzen_estimator.py:188: RuntimeWarning: divide by zero encountered in true_divide\n",
      "  coefficient = 1 / z / p_accept\n",
      "/home/phme/agaffet/.local/lib/python3.7/site-packages/optuna/samplers/_tpe/parzen_estimator.py:188: RuntimeWarning: divide by zero encountered in true_divide\n",
      "  coefficient = 1 / z / p_accept\n",
      "/home/phme/agaffet/.local/lib/python3.7/site-packages/optuna/samplers/_tpe/parzen_estimator.py:188: RuntimeWarning: divide by zero encountered in true_divide\n",
      "  coefficient = 1 / z / p_accept\n"
     ]
    }
   ],
   "source": []
  },
  {
   "cell_type": "code",
   "execution_count": 15,
   "id": "combined-image",
   "metadata": {},
   "outputs": [
    {
     "name": "stdout",
     "output_type": "stream",
     "text": [
      "[[ 356   95]\n",
      " [   1 8653]]\n"
     ]
    },
    {
     "data": {
      "text/plain": [
       "0.8439646064237593"
      ]
     },
     "execution_count": 15,
     "metadata": {},
     "output_type": "execute_result"
    }
   ],
   "source": []
  },
  {
   "cell_type": "code",
   "execution_count": 32,
   "id": "changed-sharing",
   "metadata": {},
   "outputs": [
    {
     "data": {
      "text/plain": [
       "0.8811881188118812"
      ]
     },
     "execution_count": 32,
     "metadata": {},
     "output_type": "execute_result"
    }
   ],
   "source": [
    "356/(356+0.5*(95+1))"
   ]
  },
  {
   "cell_type": "code",
   "execution_count": 30,
   "id": "organic-senator",
   "metadata": {},
   "outputs": [
    {
     "data": {
      "text/plain": [
       "['xgboost_step2_outter']"
      ]
     },
     "execution_count": 30,
     "metadata": {},
     "output_type": "execute_result"
    }
   ],
   "source": []
  },
  {
   "cell_type": "code",
   "execution_count": 19,
   "id": "connected-meaning",
   "metadata": {},
   "outputs": [
    {
     "data": {
      "text/plain": [
       "(9105, 9)"
      ]
     },
     "execution_count": 19,
     "metadata": {},
     "output_type": "execute_result"
    }
   ],
   "source": [
    "X_train_final.shape"
   ]
  },
  {
   "cell_type": "code",
   "execution_count": null,
   "id": "differential-holly",
   "metadata": {},
   "outputs": [],
   "source": [
    "from sklearn.preprocessing import OneHotEncoder\n",
    "encoder = OneHotEncoder(handle_unknown='ignore')\n",
    "AE_train=encoder.fit_transform(X_train[list_var_to_encode].copy())\n",
    "\n",
    "\n",
    "column_names=[x+\"_encoded\" for x in encoder.get_feature_names()]\n",
    "dfint=pd.DataFrame(AE_train.toarray())\n",
    "dfint.columns=column_names\n",
    "X_train_final=pd.concat([X_train,dfint],axis=1)\n",
    "joblib.dump(encoder,\"One_hot_step2_outer\")\n",
    "\n",
    "AE_val=encoder.transform(X_val[list_var_to_encode].copy())\n",
    "AE_val.columns=[x+\"_encoded\" for x in encoder.get_feature_names()]\n",
    "dfint=pd.DataFrame(AE_val.toarray())\n",
    "dfint.columns=column_names\n",
    "X_val_final=pd.concat([X_val,dfint],axis=1)"
   ]
  },
  {
   "cell_type": "code",
   "execution_count": 31,
   "id": "applicable-dynamics",
   "metadata": {},
   "outputs": [
    {
     "data": {
      "text/plain": [
       "Target\n",
       "0     451\n",
       "1    8654\n",
       "dtype: int64"
      ]
     },
     "execution_count": 31,
     "metadata": {},
     "output_type": "execute_result"
    }
   ],
   "source": [
    "Train_df.groupby('Target').size()"
   ]
  },
  {
   "cell_type": "code",
   "execution_count": null,
   "id": "worthy-syracuse",
   "metadata": {},
   "outputs": [],
   "source": []
  }
 ],
 "metadata": {
  "kernelspec": {
   "display_name": "Python 3 (ipykernel)",
   "language": "python",
   "name": "python3"
  },
  "language_info": {
   "codemirror_mode": {
    "name": "ipython",
    "version": 3
   },
   "file_extension": ".py",
   "mimetype": "text/x-python",
   "name": "python",
   "nbconvert_exporter": "python",
   "pygments_lexer": "ipython3",
   "version": "3.9.7"
  }
 },
 "nbformat": 4,
 "nbformat_minor": 5
}
