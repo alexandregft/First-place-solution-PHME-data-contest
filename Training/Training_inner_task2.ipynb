{
 "cells": [
  {
   "cell_type": "markdown",
   "id": "c8349547-6922-4350-8a44-17c43e4b695d",
   "metadata": {},
   "source": [
    "# Library importation"
   ]
  },
  {
   "cell_type": "code",
   "execution_count": 1,
   "id": "aed8c31b-d330-49f6-9678-6e930c2773dd",
   "metadata": {},
   "outputs": [],
   "source": [
    "import pandas as pd\n",
    "from scipy.stats import norm \n",
    "import joblib\n",
    "from sklearn.metrics import roc_auc_score\n",
    "import os\n",
    "import random\n",
    "import xgboost\n",
    "import numpy as np\n",
    "from sklearn.metrics import f1_score\n",
    "import numpy as np\n",
    "import pandas as pd\n",
    "from sklearn.metrics import accuracy_score, confusion_matrix, recall_score, precision_score, f1_score\n",
    "from sklearn.preprocessing import StandardScaler\n",
    "import category_encoders as ce\n",
    "import optuna\n",
    "from optuna import Trial, visualization\n",
    "from optuna.samplers import TPESampler\n",
    "import logging\n",
    "from sklearn.model_selection import cross_val_score\n",
    "from sklearn.metrics import make_scorer"
   ]
  },
  {
   "cell_type": "markdown",
   "id": "a57ef8d7-d3df-43c6-9e0d-a0e1f7ed4d27",
   "metadata": {},
   "source": [
    "# Data Importation"
   ]
  },
  {
   "cell_type": "code",
   "execution_count": 2,
   "id": "prepared-connecticut",
   "metadata": {},
   "outputs": [
    {
     "name": "stderr",
     "output_type": "stream",
     "text": [
      "/opt/anaconda3/lib/python3.9/site-packages/IPython/core/interactiveshell.py:3444: DtypeWarning: Columns (17) have mixed types.Specify dtype option on import or set low_memory=False.\n",
      "  exec(code_obj, self.user_global_ns, self.user_ns)\n"
     ]
    }
   ],
   "source": [
    "\n",
    "InputSPI=pd.DataFrame()\n",
    "for item in range(4):\n",
    "    InputSPI=pd.concat([InputSPI,pd.read_csv('../data/SPI_training_'+str(item)+'.csv.zip')])\n",
    "    \n",
    "#InputSPI=cleaning_SPI(InputSPI)\n",
    "\n",
    "InputAOI=pd.read_csv('../data/AOI_training.csv.zip')\n",
    "InputSPI['PinNumber']=InputSPI['PinNumber']\n",
    "InputAOI['PinNumber']=InputAOI['PinNumber'].astype('Int64').astype(str)\n",
    "\n",
    "\n",
    "\n",
    "\n"
   ]
  },
  {
   "cell_type": "markdown",
   "id": "42662a4e-ac0d-4b35-bb0d-7682cc2997e5",
   "metadata": {},
   "source": [
    "# Training set creation"
   ]
  },
  {
   "cell_type": "markdown",
   "id": "competitive-banana",
   "metadata": {},
   "source": [
    "dict_var_info=joblib.load(\"dict_var_bin_info\")\n",
    "for var in Features_to_bin[:]:\n",
    "    mean_=dict_var_info[var+'_mean']\n",
    "    std_=dict_var_info[var+'_std']\n",
    "    InputSPI[var]=norm.cdf(InputSPI[var], loc=mean_, scale=std_)"
   ]
  },
  {
   "cell_type": "code",
   "execution_count": 3,
   "id": "alpine-connectivity",
   "metadata": {},
   "outputs": [
    {
     "data": {
      "text/plain": [
       "array(['Translated', 'Soldered', 'UnSoldered', 'LeanSoldering',\n",
       "       'Misaligned', 'Coplanarity', 'Jumper', 'Broken'], dtype=object)"
      ]
     },
     "execution_count": 3,
     "metadata": {},
     "output_type": "execute_result"
    }
   ],
   "source": [
    "Features_to_bin=['Volume(%)',  'Area(%)', 'OffsetX(%)','OffsetY(%)']\n",
    "\n",
    "\n",
    "\n",
    "InputAOI['AOILabel2']=InputAOI['AOILabel']\n",
    "InputAOI['ComponentID2']=InputAOI['ComponentID']\n",
    "InputAOI['FigureID2']=InputAOI['FigureID']\n",
    "\n",
    "\n",
    "InputAOI['Count_Pin']=InputAOI.groupby([\"PanelID\",\"FigureID2\",\"ComponentID2\"])[\"PinNumber\"].transform('count')\n",
    "InputAOI['Count_Pin_Figure']=InputAOI.groupby([\"PanelID\",\"FigureID2\"])[\"PinNumber\"].transform('count')\n",
    "InputAOI=InputAOI.merge(InputSPI,on=['PanelID','FigureID',\"ComponentID\",\"PinNumber\"],how=\"inner\")\n",
    "\n",
    "\n",
    "InputAOI.columns\n",
    "\n",
    "num_features=['Volume(%)','Area(%)', 'OffsetX(%)','OffsetY(%)']\n",
    "\n",
    "InputAOI['FigureID_ComponentID']=(InputAOI['FigureID'].astype(str)+'_'+InputAOI['ComponentID'].astype(str)).astype(\"category\").cat.codes\n",
    "InputAOI['FigureID_ComponentID_PinNumber']=(InputAOI['FigureID'].astype(str)+'_'+InputAOI['ComponentID'].astype(str)+'_'+InputAOI['PinNumber'].astype(str)).astype(\"category\").cat.codes\n",
    "InputAOI['FigureID_ComponentID_PinNumber_AOILabel']=(InputAOI['FigureID'].astype(str)+'_'+InputAOI['ComponentID'].astype(str)+'_'+InputAOI['PinNumber'].astype(str)+InputAOI['AOILabel'].astype(str)).astype(\"category\").cat.codes\n",
    "InputAOI['FigureID_ComponentID_AOILabel']=(InputAOI['FigureID'].astype(str)+'_'+InputAOI['ComponentID'].astype(str)+\"_\"+InputAOI['AOILabel'].astype(str)).astype(\"category\").cat.codes\n",
    "\n",
    "list_var_to_encode=[\"FigureID\",\"ComponentID\",\"AOILabel\",\"FigureID_ComponentID\",\"FigureID_ComponentID_PinNumber\",\n",
    "                    \"FigureID_ComponentID_PinNumber_AOILabel\",\"FigureID_ComponentID_AOILabel\",'PinNumber']\n",
    "\n",
    "\n",
    "\n",
    "for var in list_var_to_encode:\n",
    "    InputAOI[var]=InputAOI[var].astype('category').cat.codes\n",
    "    \n",
    "InputAOI['AOILabel2'].unique()"
   ]
  },
  {
   "cell_type": "code",
   "execution_count": 4,
   "id": "statutory-earthquake",
   "metadata": {},
   "outputs": [],
   "source": [
    "InputAOI['Target']=InputAOI['OperatorLabel'].astype('category').cat.codes\n"
   ]
  },
  {
   "cell_type": "code",
   "execution_count": 5,
   "id": "plain-scout",
   "metadata": {},
   "outputs": [],
   "source": [
    "list_var_to_encode=[\"AOILabel\",\"ComponentID\",\"FigureID_ComponentID\"]\n",
    "\n",
    "Num_features_to_cat=['Volume(%)','Area(%)', 'OffsetX(%)','OffsetY(%)']\n",
    "Num_features=['Shape(um)',\n",
    "   'PosX(mm)', 'PosY(mm)','SizeX', 'SizeY']"
   ]
  },
  {
   "cell_type": "markdown",
   "id": "49dccaed-b2a7-45e3-b6e2-4dce32661437",
   "metadata": {},
   "source": [
    "# Training set Creation + Encoding with Catboost"
   ]
  },
  {
   "cell_type": "code",
   "execution_count": 6,
   "id": "ba281fec-8ed4-4b5e-b15b-08ca94d015c1",
   "metadata": {},
   "outputs": [],
   "source": [
    "Train_df=InputAOI.reset_index(drop=True)\n",
    "X_train=Train_df\n",
    "y_train=Train_df['Target']\n",
    "\n",
    "\n",
    "encoder=ce.CatBoostEncoder()\n",
    "\n",
    "AE_train=encoder.fit_transform(X_train[list_var_to_encode].copy(),y_train)\n",
    "AE_train.columns=[x+\"_encoded\" for x in AE_train.columns.tolist()]\n",
    "X_train_final=pd.concat([X_train,AE_train],axis=1)\n",
    "joblib.dump(encoder,\"Cat_boost_step2_inner\")\n",
    "\n",
    "col_features=[x+\"_encoded\" for x in list_var_to_encode]+Num_features+Num_features_to_cat+[\"Count_Pin\",\"Count_Pin_Figure\"]\n",
    "\n",
    "\n",
    "X_train_final=X_train_final[col_features].to_numpy()\n",
    "\n",
    "\n",
    "ratio=np.sum(y_train==0)/np.sum(y_train==1)\n"
   ]
  },
  {
   "cell_type": "markdown",
   "id": "03dbf771-9558-4ebd-b249-2e5d4c0057f1",
   "metadata": {},
   "source": [
    "# Optuna hyperparametrisation"
   ]
  },
  {
   "cell_type": "code",
   "execution_count": 7,
   "id": "c0f6cd28-0c9e-4eee-9db0-dec92e81f897",
   "metadata": {},
   "outputs": [],
   "source": [
    "\n",
    "def objective(trial: Trial,X,y) -> float:\n",
    "    \n",
    "    joblib.dump(study, 'study.pkl')\n",
    "\n",
    "    param = {\n",
    "        'objective': trial.suggest_categorical('objective',['binary:logistic']), \n",
    "        'tree_method': trial.suggest_categorical('tree_method',['exact']),  # 'gpu_hist','hist'\n",
    "        'lambda': trial.suggest_loguniform('lambda',1e-3,10.0),\n",
    "        'alpha': trial.suggest_loguniform('alpha',1e-3,10.0),\n",
    "        'colsample_bytree': trial.suggest_uniform('colsample_bytree', 0.3,1.0),\n",
    "        #'subsample': trial.suggest_uniform('subsample', 0.4, 1.0),\n",
    "        'learning_rate': trial.suggest_loguniform('learning_rate', 0.001,0.1),\n",
    "        'n_estimators': trial.suggest_categorical('n_estimators', [30,40,50,70,100,150,200]),\n",
    "        'max_depth': trial.suggest_categorical('max_depth', [3,5,7,9,11,13,15,17,20]),\n",
    "        #'random_state': trial.suggest_categorical('random_state', [24,48,2020]),\n",
    "        'min_child_weight': trial.suggest_int('min_child_weight', 1,300),\n",
    "        'nthread' : -1,\n",
    "        #'feval': trial.suggest_categorical('feval',[f1_eval]),\n",
    "        #'scale_pos_weight' : trial.suggest_categorical('scale_pos_weight', [ratio])\n",
    "        \n",
    "\n",
    "    }\n",
    "    \n",
    "    \n",
    "    model = xgboost.XGBClassifier(**param,feval=f1_eval)\n",
    "    \n",
    "    return cross_val_score(model, X_train_final, y_train, cv=5,scoring=make_scorer(f1_score, pos_label=0)).mean()"
   ]
  },
  {
   "cell_type": "code",
   "execution_count": 8,
   "id": "5cc18073-d9a4-4f8f-ae53-6ce60e1d06ca",
   "metadata": {},
   "outputs": [],
   "source": [
    "\n",
    "\n",
    "def f1_eval(y_pred, y_true):\n",
    "    #y_true = dtrain.get_label()\n",
    "    err = f1_score(y_true,y_pred,pos_label=0)\n",
    "    return 'f1_err', err"
   ]
  },
  {
   "cell_type": "code",
   "execution_count": 12,
   "id": "c7188958-111d-4c6f-8c81-512cc6e84ae9",
   "metadata": {},
   "outputs": [],
   "source": [
    "y_train=Train_df['Target']\n",
    "\n",
    "study = optuna.create_study(direction='maximize')\n",
    "\n",
    "optuna.logging.disable_default_handler()  # Stop showing logs in sys.stderr.\n",
    "\n",
    "study.optimize(lambda trial : objective(trial,X_train_final,y_train),n_trials= 100)\n",
    "\n"
   ]
  },
  {
   "cell_type": "code",
   "execution_count": 13,
   "id": "1f1fc66b-f97c-4c5f-b737-8c825e9f1e6b",
   "metadata": {},
   "outputs": [
    {
     "name": "stdout",
     "output_type": "stream",
     "text": [
      "[[  670   235]\n",
      " [   20 21564]]\n"
     ]
    },
    {
     "data": {
      "text/plain": [
       "0.7289535634000828"
      ]
     },
     "execution_count": 13,
     "metadata": {},
     "output_type": "execute_result"
    }
   ],
   "source": [
    "Best_trial = study.best_trial.params\n",
    "model = xgboost.XGBClassifier(**Best_trial)\n",
    "model.fit(X_train_final,y_train)\n",
    "print(confusion_matrix(y_train, model.predict(X_train_final),labels=[0,1]))\n",
    "cross_val_score(model, X_train_final, y_train, cv=5,scoring=make_scorer(f1_score, pos_label=0)).mean()"
   ]
  },
  {
   "cell_type": "code",
   "execution_count": 14,
   "id": "3a7d5b3d-a46d-47e9-8e17-dcc62ba91112",
   "metadata": {},
   "outputs": [
    {
     "data": {
      "text/plain": [
       "['xgboost_step2_inner']"
      ]
     },
     "execution_count": 14,
     "metadata": {},
     "output_type": "execute_result"
    }
   ],
   "source": [
    "model = xgboost.XGBClassifier(**Best_trial)\n",
    "model.fit(X_train_final,y_train)\n",
    "joblib.dump(model,\"xgboost_step2_inner\")\n"
   ]
  },
  {
   "cell_type": "markdown",
   "id": "cda06b31-fc70-45a7-af5c-91e250e021aa",
   "metadata": {},
   "source": [
    "# Cross validation per panel score"
   ]
  },
  {
   "cell_type": "code",
   "execution_count": 51,
   "id": "protecting-immunology",
   "metadata": {},
   "outputs": [
    {
     "name": "stdout",
     "output_type": "stream",
     "text": [
      "0\n",
      "[[  258    80]\n",
      " [    0 19843]]\n",
      "[[  39    4]\n",
      " [   0 4145]]\n",
      "0.8657718120805369\n",
      "0.951219512195122\n",
      "1\n",
      "[[  258    80]\n",
      " [    0 19843]]\n",
      "[[  28   13]\n",
      " [   0 3887]]\n",
      "0.8657718120805369\n",
      "0.8115942028985507\n",
      "2\n",
      "[[  258    80]\n",
      " [    0 19843]]\n",
      "[[ 105   13]\n",
      " [   0 3996]]\n",
      "0.8657718120805369\n",
      "0.9417040358744395\n",
      "3\n",
      "[[  258    80]\n",
      " [    0 19843]]\n",
      "[[  50   39]\n",
      " [   0 3810]]\n",
      "0.8657718120805369\n",
      "0.7194244604316548\n",
      "4\n",
      "[[  258    80]\n",
      " [    0 19843]]\n",
      "[[  36   11]\n",
      " [   0 4005]]\n",
      "0.8657718120805369\n",
      "0.8674698795180723\n"
     ]
    }
   ],
   "source": [
    "list_panel_id=InputAOI.PanelID.unique().tolist()\n",
    "\n",
    "def cross_validation_panel_id_creation(list_panel_id,n_fold=5):\n",
    "    Fold_list=[]\n",
    "    random.shuffle(list_panel_id)\n",
    "    list_panel_id=joblib.load(\"list_panel_id\")\n",
    "    len_fold=(len(list_panel_id))//n_fold\n",
    "    for fold in range(n_fold):\n",
    "        Fold_list.append(list_panel_id[fold*len_fold:(fold+1)*len_fold])\n",
    "    return(Fold_list)\n",
    "Fold_list=cross_validation_panel_id_creation(list_panel_id)\n",
    "#Final_df=Final_df.loc[Final_df['ComponentID2']!=\"BC1\"]\n",
    "f1_score_list=[]\n",
    "list_confusion_matrix=[]\n",
    "for Test_fold_indice in range(5):\n",
    "    print(Test_fold_indice)\n",
    "    Train_indice=[]\n",
    "    count_indice_fit_pin_training=0\n",
    "    for indices in range(len(Fold_list)):\n",
    "        if indices!=Test_fold_indice:\n",
    "            Train_indice=Train_indice+Fold_list[indices]\n",
    "        else:\n",
    "            Test_indices=Fold_list[indices]\n",
    "            #Train_indice=Train_indice+Fold_list[indices]\n",
    "\n",
    "    Train_df=InputAOI.loc[InputAOI[\"PanelID\"].isin(Train_indice)].reset_index(drop=True)\n",
    "    Test_df=InputAOI.loc[InputAOI[\"PanelID\"].isin(Test_indices)].reset_index(drop=True)\n",
    "    X_train=Train_df\n",
    "    X_val=Test_df\n",
    "    y_train=Train_df['Target']\n",
    "    y_val=Test_df['Target']\n",
    "    y_train=Train_df['Target']\n",
    "    y_train=Train_df['Target']\n",
    "    y_val=Test_df['Target']\n",
    "\n",
    "    encoder=ce.CatBoostEncoder()\n",
    "\n",
    "    AE_train=encoder.fit_transform(X_train[list_var_to_encode].copy(),y_train)\n",
    "    AE_train.columns=[x+\"_encoded\" for x in AE_train.columns.tolist()]\n",
    "    X_train_final=pd.concat([X_train,AE_train],axis=1)\n",
    "    joblib.dump(encoder,\"Cat_boost_step2_inner\")\n",
    "\n",
    "    AE_val=encoder.transform(X_val[list_var_to_encode].copy())\n",
    "    AE_val.columns=[x+\"_encoded\" for x in AE_val.columns.tolist()]\n",
    "    X_val_final=pd.concat([X_val,AE_val],axis=1)\n",
    "\n",
    "    \n",
    "    #col_features=[\"AOILabel_encoded\"]+Features_to_bin\n",
    "    col_features=[x+\"_encoded\" for x in list_var_to_encode]+Num_features+Num_features_to_cat+[\"Count_Pin\",\"Count_Pin_Figure\"]\n",
    "    \n",
    "    \n",
    "    X_train_final=X_train_final[col_features].to_numpy()\n",
    "    X_val_final=X_val_final[col_features].to_numpy()\n",
    "    ratio=np.sum(y_train==0)/np.sum(y_train==1)\n",
    "    \n",
    "    \n",
    "\n",
    "    xgb_cl = model\n",
    "    xgb_cl.fit(X_train_final, y_train)\n",
    "    joblib.dump(xgb_cl,\"xgboost_step2_inner\")\n",
    "\n",
    "    res_train=xgb_cl.predict(X_train_final)\n",
    "    res_test=xgb_cl.predict(X_val_final)\n",
    "\n",
    "    X_train['Pred']=res_train\n",
    "    X_val['Pred']=res_test\n",
    "   \n",
    "    \n",
    "    y_train=X_train.groupby([\"PanelID\",\"FigureID\",\"ComponentID\"])['Target'].min()\n",
    "    y_val=X_val.groupby([\"PanelID\",\"FigureID\",\"ComponentID\"])['Target'].min()\n",
    "\n",
    "\n",
    "    res_train=X_train.groupby([\"PanelID\",\"FigureID\",\"ComponentID\"])['Pred'].min()\n",
    "    res_test=X_val.groupby([\"PanelID\",\"FigureID\",\"ComponentID\"])['Pred'].min()\n",
    "\n",
    "\n",
    "\n",
    "\n",
    "    print(confusion_matrix(y_train, res_train,labels=[0,1]))\n",
    "    print(confusion_matrix(y_val,res_test,labels=[0,1]))\n",
    "\n",
    "    print(f1_score(y_train, res_train,pos_label=0))\n",
    "    print(f1_score(y_val, res_test,pos_label=0))\n",
    "    f1_score_list.append(f1_score(y_val, res_test,pos_label=0))"
   ]
  },
  {
   "cell_type": "code",
   "execution_count": 32,
   "id": "hundred-palestinian",
   "metadata": {},
   "outputs": [
    {
     "data": {
      "text/plain": [
       "<matplotlib.axes._subplots.AxesSubplot at 0x7fe5e959a890>"
      ]
     },
     "execution_count": 32,
     "metadata": {},
     "output_type": "execute_result"
    },
    {
     "data": {
      "image/png": "[encoded data removed]",
      "text/plain": [
       "<Figure size 1008x504 with 1 Axes>"
      ]
     },
     "metadata": {
      "needs_background": "light"
     },
     "output_type": "display_data"
    }
   ],
   "source": [
    "from xgboost import plot_importance\n",
    "import matplotlib.pyplot as plt\n",
    "\n",
    "plt.rcParams[\"figure.figsize\"] = (14, 7)\n",
    "plot_importance(booster=model)"
   ]
  }
 ],
 "metadata": {
  "kernelspec": {
   "display_name": "Python 3 (ipykernel)",
   "language": "python",
   "name": "python3"
  },
  "language_info": {
   "codemirror_mode": {
    "name": "ipython",
    "version": 3
   },
   "file_extension": ".py",
   "mimetype": "text/x-python",
   "name": "python",
   "nbconvert_exporter": "python",
   "pygments_lexer": "ipython3",
   "version": "3.9.7"
  }
 },
 "nbformat": 4,
 "nbformat_minor": 5
}
