{
 "cells": [
  {
   "cell_type": "markdown",
   "id": "dee85042-f74b-4e1c-aed9-af539983d87f",
   "metadata": {},
   "source": [
    "# Import Library"
   ]
  },
  {
   "cell_type": "code",
   "execution_count": 25,
   "id": "d8bf9802-857c-49b7-8df9-2da8dd153c00",
   "metadata": {},
   "outputs": [],
   "source": [
    "import pandas as pd\n",
    "from scipy.stats import norm \n",
    "import joblib\n",
    "from sklearn.metrics import roc_auc_score\n",
    "import os\n",
    "import random\n",
    "import xgboost\n",
    "import numpy as np\n",
    "from sklearn.metrics import f1_score\n",
    "import numpy as np\n",
    "import pandas as pd\n",
    "from sklearn.metrics import accuracy_score, confusion_matrix, recall_score, precision_score, f1_score\n",
    "from sklearn.preprocessing import StandardScaler\n",
    "import category_encoders as ce\n",
    "import optuna\n",
    "from optuna import Trial, visualization\n",
    "from optuna.samplers import TPESampler\n",
    "import logging\n",
    "from sklearn.model_selection import cross_val_score\n",
    "from sklearn.metrics import make_scorer"
   ]
  },
  {
   "cell_type": "markdown",
   "id": "2a66f75e-3666-44ab-902e-30ac830297cc",
   "metadata": {},
   "source": [
    "# Dataset creation"
   ]
  },
  {
   "cell_type": "code",
   "execution_count": 2,
   "id": "reliable-homeless",
   "metadata": {},
   "outputs": [
    {
     "name": "stderr",
     "output_type": "stream",
     "text": [
      "/opt/anaconda3/lib/python3.9/site-packages/IPython/core/interactiveshell.py:3444: DtypeWarning: Columns (17) have mixed types.Specify dtype option on import or set low_memory=False.\n",
      "  exec(code_obj, self.user_global_ns, self.user_ns)\n"
     ]
    }
   ],
   "source": [
    "InputAOI=pd.read_csv('../data/AOI_training.csv.zip')\n",
    "InputAOI['PinNumber']=InputAOI['PinNumber'].astype('Int64').astype(str)\n",
    "InputAOI['FigureID2']=InputAOI['FigureID']\n",
    "InputAOI['ComponentID2']=InputAOI['ComponentID']\n",
    "InputAOI['Count_Pin']=InputAOI.groupby([\"PanelID\",\"FigureID2\",\"ComponentID2\"])[\"PinNumber\"].transform('count')\n",
    "InputAOI['Count_Pin_Figure']=InputAOI.groupby([\"PanelID\",\"FigureID2\"])[\"PinNumber\"].transform('count')\n",
    "InputAOI['Count_Pin_Panel']=InputAOI.groupby([\"PanelID\"])[\"PinNumber\"].transform('count')\n",
    "\n",
    "\n",
    "InputAOI['Target']=InputAOI['OperatorLabel'].astype('category').cat.codes\n",
    "\n",
    "InputSPI=pd.DataFrame()\n",
    "for item in range(4):\n",
    "    InputSPI=pd.concat([InputSPI,pd.read_csv('../data/SPI_training_'+str(item)+'.csv.zip')])\n",
    "InputAOI['key_spi']=(InputAOI['PanelID'].astype(str)+'_'+InputAOI['FigureID'].astype(str)+'_'+InputAOI['ComponentID'].astype(str))\n",
    "\n",
    "InputSPI['FigureID2']=InputSPI['FigureID']\n",
    "InputSPI['ComponentID2']=InputSPI['ComponentID']\n",
    "InputSPI['key_spi']=(InputSPI['PanelID'].astype(str)+'_'+InputSPI['FigureID'].astype(int,errors='ignore').astype(str)+'_'+InputSPI['ComponentID'].astype(str))\n",
    "Features_to_bin=['Volume(%)',  'Area(%)', 'OffsetX(%)','OffsetY(%)',]\n"
   ]
  },
  {
   "cell_type": "code",
   "execution_count": 3,
   "id": "expressed-dinner",
   "metadata": {},
   "outputs": [],
   "source": [
    "InputAOI['PanelID_FigureID_ComponentID']=InputAOI['PanelID'].astype(str)+'_'+InputAOI['FigureID'].astype(str)+'_'+InputAOI['ComponentID'].astype(str)\n"
   ]
  },
  {
   "cell_type": "code",
   "execution_count": 4,
   "id": "thermal-vitamin",
   "metadata": {},
   "outputs": [
    {
     "data": {
      "text/plain": [
       "['listAOI_Label']"
      ]
     },
     "execution_count": 4,
     "metadata": {},
     "output_type": "execute_result"
    }
   ],
   "source": [
    "listAOI_Label=InputAOI.AOILabel.unique().tolist()\n",
    "joblib.dump(listAOI_Label,'listAOI_Label')"
   ]
  },
  {
   "cell_type": "code",
   "execution_count": 5,
   "id": "approximate-testimony",
   "metadata": {},
   "outputs": [],
   "source": [
    "listAOI_Label=InputAOI.AOILabel.unique().tolist()\n",
    "for element in listAOI_Label:\n",
    "    InputAOI.loc[:,element]=0"
   ]
  },
  {
   "cell_type": "code",
   "execution_count": 7,
   "id": "992c25ca-5721-46c4-8155-bcc9ab7dbba6",
   "metadata": {},
   "outputs": [],
   "source": [
    "InputAOI=InputAOI.loc[~InputAOI.RepairLabel.isna()]\n",
    "InputAOI=InputAOI.loc[~(InputAOI.RepairLabel=='NotYetClassified')]"
   ]
  },
  {
   "cell_type": "code",
   "execution_count": 8,
   "id": "adjusted-filename",
   "metadata": {},
   "outputs": [],
   "source": [
    "for item in InputAOI['PanelID_FigureID_ComponentID'].unique().tolist():\n",
    "    list_item_aoilabel=[]\n",
    "    df_inter=InputAOI.loc[InputAOI['PanelID_FigureID_ComponentID']==item]\n",
    "    list_item_aoilabel=df_inter.AOILabel.unique()\n",
    "    for element in listAOI_Label:\n",
    "        if element in list_item_aoilabel:\n",
    "            InputAOI.loc[InputAOI['PanelID_FigureID_ComponentID']==item,element]=1\n",
    "InputSPI=InputSPI.dropna(subset=['FigureID'])\n"
   ]
  },
  {
   "cell_type": "code",
   "execution_count": 9,
   "id": "abroad-syracuse",
   "metadata": {},
   "outputs": [],
   "source": [
    "aoi_outter=InputAOI.copy()\n",
    "aoi_outter['FigureID_ComponentID']=(aoi_outter['FigureID'].astype(str)+'_'+aoi_outter['ComponentID'].astype(str)).astype(\"category\").cat.codes\n",
    "    "
   ]
  },
  {
   "cell_type": "code",
   "execution_count": null,
   "id": "authentic-monroe",
   "metadata": {},
   "outputs": [],
   "source": []
  },
  {
   "cell_type": "code",
   "execution_count": 10,
   "id": "radical-tulsa",
   "metadata": {},
   "outputs": [],
   "source": [
    "\n",
    "Num_features=['Shape(um)',\n",
    "   'PosX(mm)', 'PosY(mm)','SizeX', 'SizeY']"
   ]
  },
  {
   "cell_type": "code",
   "execution_count": 11,
   "id": "expressed-hamilton",
   "metadata": {},
   "outputs": [],
   "source": [
    "InputSPI['Shape(um)']=pd.to_numeric(InputSPI['Shape(um)'])"
   ]
  },
  {
   "cell_type": "code",
   "execution_count": 12,
   "id": "ambient-colleague",
   "metadata": {},
   "outputs": [],
   "source": [
    "InputSPI=InputSPI.loc[InputSPI['key_spi'].isin(aoi_outter['key_spi'].unique().tolist())]"
   ]
  },
  {
   "cell_type": "code",
   "execution_count": 13,
   "id": "limited-jesus",
   "metadata": {},
   "outputs": [],
   "source": [
    "InputSPI_grouped=InputSPI.groupby([\"PanelID\",\"FigureID2\",\"ComponentID2\"])[Features_to_bin+Num_features].mean().reset_index()"
   ]
  },
  {
   "cell_type": "code",
   "execution_count": 14,
   "id": "headed-metallic",
   "metadata": {},
   "outputs": [],
   "source": [
    "aoi_outter=aoi_outter.merge(InputSPI_grouped,how=\"left\",left_on=[\"PanelID\",\"FigureID2\",\"ComponentID2\"],right_on=[\"PanelID\",\"FigureID2\",\"ComponentID2\"])"
   ]
  },
  {
   "cell_type": "code",
   "execution_count": 15,
   "id": "celtic-bubble",
   "metadata": {},
   "outputs": [],
   "source": [
    "aoi_outter=aoi_outter.drop_duplicates(subset=[\"PanelID\",\"FigureID2\",\"ComponentID2\"])"
   ]
  },
  {
   "cell_type": "code",
   "execution_count": 16,
   "id": "stunning-reset",
   "metadata": {},
   "outputs": [],
   "source": [
    "Features_to_bin=['Volume(%)',  'Area(%)', 'OffsetX(%)','OffsetY(%)']"
   ]
  },
  {
   "cell_type": "code",
   "execution_count": 17,
   "id": "smoking-killing",
   "metadata": {},
   "outputs": [],
   "source": [
    "list_var_to_encode=[\"ComponentID\",\"FigureID_ComponentID\"]#+Features_alpha\n",
    "\n",
    "\n",
    "for var in list_var_to_encode:\n",
    "    aoi_outter[var]=aoi_outter[var].astype('category').cat\n",
    "    \n",
    "aoi_outter[\"MachineID\"]=aoi_outter[\"MachineID\"].astype('category').cat.codes\n",
    "\n",
    "    "
   ]
  },
  {
   "cell_type": "code",
   "execution_count": 18,
   "id": "focused-meter",
   "metadata": {},
   "outputs": [],
   "source": [
    "aoi_outter['Target']=aoi_outter['RepairLabel'].astype('category').cat.codes\n",
    " "
   ]
  },
  {
   "cell_type": "markdown",
   "id": "8995a179-331b-4e9d-981a-3bcf30fa203c",
   "metadata": {},
   "source": [
    "# Training set creation"
   ]
  },
  {
   "cell_type": "code",
   "execution_count": 21,
   "id": "cb643785-99ef-4dde-ab41-b22a8d952e13",
   "metadata": {},
   "outputs": [],
   "source": [
    "Train_df=aoi_outter.reset_index(drop=True)\n",
    "X_train=Train_df\n",
    "y_train=Train_df['Target']\n",
    "\n",
    "encoder=ce.CatBoostEncoder()\n",
    "\n",
    "AE_train=encoder.fit_transform(X_train[list_var_to_encode].copy(),y_train)\n",
    "AE_train.columns=[x+\"_encoded\" for x in AE_train.columns.tolist()]\n",
    "X_train_final=pd.concat([X_train,AE_train],axis=1)\n",
    "joblib.dump(encoder,\"Cat_boost_step3_no_fusion\")\n",
    "\n",
    "\n",
    "col_features=Num_features+[x+\"_encoded\" for x in list_var_to_encode]+[\"Count_Pin\",\"Count_Pin_Figure\",\"Count_Pin_Panel\"]+listAOI_Label+Features_to_bin+[\"MachineID\"]\n",
    "X_train_final=X_train_final.replace(np.nan,0)\n",
    "X_train_final=X_train_final[col_features].to_numpy()\n",
    "\n",
    "ratio=np.sum(y_train==0)/np.sum(y_train==1)\n",
    "    "
   ]
  },
  {
   "cell_type": "code",
   "execution_count": 30,
   "id": "be4e62c9-880a-448d-9b79-cb85ae07ca64",
   "metadata": {},
   "outputs": [],
   "source": [
    "\n",
    "\n",
    "\n",
    "def objective(trial: Trial,X,y) -> float:\n",
    "    \n",
    "    joblib.dump(study, 'study.pkl')\n",
    "\n",
    "    param = {\n",
    "        'objective': trial.suggest_categorical('objective',['binary:logistic']), \n",
    "        'tree_method': trial.suggest_categorical('tree_method',['exact']),  # 'gpu_hist','hist'\n",
    "        'lambda': trial.suggest_loguniform('lambda',1e-3,10.0),\n",
    "        'alpha': trial.suggest_loguniform('alpha',1e-3,10.0),\n",
    "        'colsample_bytree': trial.suggest_uniform('colsample_bytree', 0.3,1.0),\n",
    "        #'subsample': trial.suggest_uniform('subsample', 0.4, 1.0),\n",
    "        'learning_rate': trial.suggest_loguniform('learning_rate', 0.001,0.1),\n",
    "        'n_estimators': trial.suggest_categorical('n_estimators', [30,40,50,70,100,150,200]),\n",
    "        'max_depth': trial.suggest_categorical('max_depth', [3,5,7,8,9,10,11,13,15,17,20]),\n",
    "        #'random_state': trial.suggest_categorical('random_state', [24,48,2020]),\n",
    "        'min_child_weight': trial.suggest_int('min_child_weight', 1,300),\n",
    "        'nthread' : -1,\n",
    "        #'feval': trial.suggest_categorical('feval',[f1_eval]),\n",
    "        'scale_pos_weight' : trial.suggest_categorical('scale_pos_weight', [ratio])\n",
    "        \n",
    "\n",
    "    }\n",
    "    \n",
    "    \n",
    "    model = xgboost.XGBClassifier(**param,feval=f1_eval)\n",
    "    \n",
    "    return cross_val_score(model, X_train_final, y_train, cv=5,scoring=make_scorer(f1_score, pos_label=0)).mean()"
   ]
  },
  {
   "cell_type": "code",
   "execution_count": 31,
   "id": "50ab94db-acd4-461d-9f55-26cc1ab8a689",
   "metadata": {},
   "outputs": [],
   "source": [
    "\n",
    "\n",
    "def f1_eval(y_pred, y_true):\n",
    "    #y_true = dtrain.get_label()\n",
    "    err = f1_score(y_true,y_pred,pos_label=0)\n",
    "    return 'f1_err', err"
   ]
  },
  {
   "cell_type": "code",
   "execution_count": 32,
   "id": "5371735d-dd8b-486b-8d9a-a96df72e0f61",
   "metadata": {},
   "outputs": [],
   "source": [
    "optuna.logging.disable_default_handler()  # Stop showing logs in sys.stderr.\n"
   ]
  },
  {
   "cell_type": "code",
   "execution_count": null,
   "id": "5e033d4d-1378-403d-bbc6-5bb72f8dae36",
   "metadata": {},
   "outputs": [],
   "source": [
    "study = optuna.create_study(direction='maximize')\n",
    "study.optimize(lambda trial : objective(trial,X_train_final,y_train),n_trials= 100)\n"
   ]
  },
  {
   "cell_type": "code",
   "execution_count": null,
   "id": "9f2be069-1187-446c-82cd-a0c0606febb3",
   "metadata": {},
   "outputs": [],
   "source": [
    "Best_trial = study.best_trial.params\n",
    "model = xgboost.XGBClassifier(**Best_trial)\n",
    "model.fit(X_train_final,y_train)\n",
    "print(confusion_matrix(y_train, model.predict(X_train_final),labels=[0,1]))\n",
    "cross_val_score(model, X_train_final, y_train, cv=5,scoring=make_scorer(f1_score, pos_label=0)).mean()\n",
    "model = xgboost.XGBClassifier(**Best_trial)\n",
    "model.fit(X_train_final,y_train)\n",
    "joblib.dump(model,\"xgboost_step3_no_fusion\")\n",
    "\n"
   ]
  },
  {
   "cell_type": "code",
   "execution_count": null,
   "id": "posted-promise",
   "metadata": {},
   "outputs": [],
   "source": [
    "list_panel_id=InputAOI.PanelID.unique().tolist()\n",
    "\n",
    "\n",
    "def cross_validation_panel_id_creation(list_panel_id,n_fold=5):\n",
    "    Fold_list=[]\n",
    "    random.shuffle(list_panel_id)\n",
    "    list_panel_id=joblib.load(\"list_panel_id\")\n",
    "    len_fold=(len(list_panel_id))//n_fold\n",
    "    for fold in range(n_fold):\n",
    "        Fold_list.append(list_panel_id[fold*len_fold:(fold+1)*len_fold])\n",
    "    return(Fold_list)\n",
    "Fold_list=cross_validation_panel_id_creation(list_panel_id)\n",
    "#Final_df=Final_df.loc[Final_df['ComponentID2']!=\"BC1\"]\n",
    "f1_score_list=[]\n",
    "list_confusion_matrix=[]\n",
    "for Test_fold_indice in range(5):\n",
    "    print(Test_fold_indice)\n",
    "    Train_indice=[]\n",
    "    count_indice_fit_pin_training=0\n",
    "    for indices in range(len(Fold_list)):\n",
    "        if indices!=Test_fold_indice:\n",
    "            Train_indice=Train_indice+Fold_list[indices]\n",
    "        else:\n",
    "            Test_indices=Fold_list[indices]\n",
    "            #Train_indice=Train_indice+Fold_list[indices]\n",
    "\n",
    "    Train_df=aoi_outter.loc[aoi_outter[\"PanelID\"].isin(Train_indice)].reset_index(drop=True)\n",
    "    Test_df=aoi_outter.loc[aoi_outter[\"PanelID\"].isin(Test_indices)].reset_index(drop=True)\n",
    "    X_train=Train_df\n",
    "    X_val=Test_df\n",
    "    y_train=Train_df['Target']\n",
    "    y_val=Test_df['Target']\n",
    "    y_train=Train_df['Target']\n",
    "    y_train=Train_df['Target']\n",
    "    y_val=Test_df['Target']\n",
    "    \n",
    "    \n",
    "    encoder=ce.CatBoostEncoder()\n",
    "\n",
    "    AE_train=encoder.fit_transform(X_train[list_var_to_encode].copy(),y_train)\n",
    "    AE_train.columns=[x+\"_encoded\" for x in AE_train.columns.tolist()]\n",
    "    X_train_final=pd.concat([X_train,AE_train],axis=1)\n",
    "    joblib.dump(encoder,\"Cat_boost_step3_no_fusion\")\n",
    "\n",
    "    AE_val=encoder.transform(X_val[list_var_to_encode].copy())\n",
    "    AE_val.columns=[x+\"_encoded\" for x in AE_val.columns.tolist()]\n",
    "    X_val_final=pd.concat([X_val,AE_val],axis=1)\n",
    "    #col_features=[x for x in X_train_final.columns.tolist() if \"_encoded\" in str(x)]#+[x for x in X_train_final.columns.tolist() if \"_is_in_panel\" in str(x)]\n",
    "    #col_features=col_features#+[x for x in X_train_final.columns.tolist() if '_is_in_figure' in str(x)]\n",
    "    col_features=Num_features+[x+\"_encoded\" for x in list_var_to_encode]+[\"Count_Pin\",\"Count_Pin_Figure\",\"Count_Pin_Panel\"]+listAOI_Label+Features_to_bin+[\"MachineID\"]#+[x for x in X_val_final.columns.tolist() if \"_counts\" in x]#\n",
    "    X_train_final=X_train_final.replace(np.nan,0)\n",
    "    X_val_final=X_val_final.replace(np.nan,0)\n",
    "    X_train_final=X_train_final[col_features].to_numpy()\n",
    "    X_val_final=X_val_final[col_features].to_numpy()\n",
    "\n",
    "    ratio=np.sum(y_train==0)/np.sum(y_train==1)\n",
    "    \n",
    "\n",
    "\n",
    "    xgb_cl = model\n",
    "    #xgb_cl = xgboost.XGBClassifier(**Best_trial)\n",
    "    xgb_cl.fit(X_train_final, y_train)\n",
    "    joblib.dump(xgb_cl,\"xgboost_step3_outter\")\n",
    "\n",
    "    res_train=xgb_cl.predict(X_train_final)\n",
    "    res_test=xgb_cl.predict(X_val_final)\n",
    "\n",
    "    X_train['Pred']=res_train\n",
    "    X_val['Pred']=res_test\n",
    "   \n",
    "    \n",
    "    y_train=X_train.groupby([\"PanelID\",\"FigureID\",\"ComponentID\"])['Target'].min()\n",
    "    y_val=X_val.groupby([\"PanelID\",\"FigureID\",\"ComponentID\"])['Target'].min()\n",
    "\n",
    "\n",
    "    res_train=X_train.groupby([\"PanelID\",\"FigureID\",\"ComponentID\"])['Pred'].min()\n",
    "    res_test=X_val.groupby([\"PanelID\",\"FigureID\",\"ComponentID\"])['Pred'].min()\n",
    "\n",
    "\n",
    "\n",
    "\n",
    "    print(confusion_matrix(y_train, res_train,labels=[0,1]))\n",
    "    print(confusion_matrix(y_val,res_test,labels=[0,1]))\n",
    "\n",
    "    print(f1_score(y_train, res_train,pos_label=0))\n",
    "    print(f1_score(y_val, res_test,pos_label=0))\n",
    "\n",
    "    f1_score_list.append(f1_score(y_val, res_test,pos_label=0))"
   ]
  },
  {
   "cell_type": "code",
   "execution_count": null,
   "id": "photographic-healing",
   "metadata": {},
   "outputs": [],
   "source": [
    "from xgboost import plot_importance\n",
    "import matplotlib.pyplot as plt\n",
    "\n",
    "plt.rcParams[\"figure.figsize\"] = (14, 7)\n",
    "plot_importance(booster=model)\n",
    "plt.xticks(fontsize=18)\n",
    "plt.yticks(fontsize=18)\n",
    "plt.title(\"Feature importance\", fontsize=16)\n",
    "plt.xlabel(\"F score\", fontsize=16)\n",
    "plt.ylabel(\"Features\", fontsize=16)\n",
    "plt.savefig(\"features_imp_step2_outter3\", dpi=200,bbox_inches=\"tight\")"
   ]
  },
  {
   "cell_type": "code",
   "execution_count": null,
   "id": "7bbaa995-71f3-444b-834d-cf62beaa05b6",
   "metadata": {},
   "outputs": [],
   "source": []
  }
 ],
 "metadata": {
  "kernelspec": {
   "display_name": "Python 3 (ipykernel)",
   "language": "python",
   "name": "python3"
  },
  "language_info": {
   "codemirror_mode": {
    "name": "ipython",
    "version": 3
   },
   "file_extension": ".py",
   "mimetype": "text/x-python",
   "name": "python",
   "nbconvert_exporter": "python",
   "pygments_lexer": "ipython3",
   "version": "3.9.7"
  }
 },
 "nbformat": 4,
 "nbformat_minor": 5
}
