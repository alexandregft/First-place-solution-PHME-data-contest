{
 "cells": [
  {
   "cell_type": "code",
   "execution_count": 1,
   "id": "satisfied-demand",
   "metadata": {},
   "outputs": [
    {
     "name": "stderr",
     "output_type": "stream",
     "text": [
      "\n",
      "Bad key \"text.kerning_factor\" on line 4 in\n",
      "/opt/anaconda3/envs/bigdatalab_cpu_202101/lib/python3.7/site-packages/matplotlib/mpl-data/stylelib/_classic_test_patch.mplstyle.\n",
      "You probably need to get an updated matplotlibrc file from\n",
      "https://github.com/matplotlib/matplotlib/blob/v3.1.2/matplotlibrc.template\n",
      "or from the matplotlib source distribution\n"
     ]
    }
   ],
   "source": [
    "import pandas as pd\n",
    "import numpy as np\n",
    "import matplotlib.pyplot as plt\n",
    "from scipy.stats import norm \n",
    "\n",
    "from sklearn.neighbors import KernelDensity\n",
    "import joblib\n",
    "from sklearn.metrics import roc_auc_score\n",
    "import os\n",
    "import random\n",
    "import xgboost\n",
    "import numpy as np\n",
    "import matplotlib.pylab as plt\n",
    "import pandas as pd\n",
    "from sklearn.metrics import accuracy_score, confusion_matrix, recall_score, precision_score, f1_score\n",
    "from sklearn.preprocessing import StandardScaler\n",
    "\n",
    "from sklearn.discriminant_analysis import LinearDiscriminantAnalysis as LDA\n",
    "from sklearn.ensemble import RandomForestClassifier\n",
    "import category_encoders as ce\n"
   ]
  },
  {
   "cell_type": "code",
   "execution_count": 2,
   "id": "reliable-homeless",
   "metadata": {},
   "outputs": [
    {
     "name": "stderr",
     "output_type": "stream",
     "text": [
      "/opt/anaconda3/envs/bigdatalab_cpu_202101/lib/python3.7/site-packages/IPython/core/interactiveshell.py:3156: DtypeWarning: Columns (17) have mixed types.Specify dtype option on import or set low_memory=False.\n",
      "  interactivity=interactivity, compiler=compiler, result=result)\n"
     ]
    }
   ],
   "source": [
    "InputAOI=pd.read_csv('data-challenge-phme/data/AOI_training.csv.zip')\n",
    "InputAOI['PinNumber']=InputAOI['PinNumber'].astype('Int64').astype(str)\n",
    "InputAOI['FigureID2']=InputAOI['FigureID']\n",
    "InputAOI['ComponentID2']=InputAOI['ComponentID']\n",
    "InputAOI['Count_Pin']=InputAOI.groupby([\"PanelID\",\"FigureID2\",\"ComponentID2\"])[\"PinNumber\"].transform('count')\n",
    "InputAOI['Count_Pin_Figure']=InputAOI.groupby([\"PanelID\",\"FigureID2\"])[\"PinNumber\"].transform('count')\n",
    "InputAOI['Count_Pin_Panel']=InputAOI.groupby([\"PanelID\"])[\"PinNumber\"].transform('count')\n",
    "\n",
    "\n",
    "InputAOI['Target']=InputAOI['OperatorLabel'].astype('category').cat.codes\n",
    "\n",
    "InputSPI=pd.DataFrame()\n",
    "for item in range(4):\n",
    "    InputSPI=pd.concat([InputSPI,pd.read_csv('data-challenge-phme/data/SPI_training_'+str(item)+'.csv.zip')])\n",
    "InputAOI['key_spi']=(InputAOI['PanelID'].astype(str)+'_'+InputAOI['FigureID'].astype(str)+'_'+InputAOI['ComponentID'].astype(str))\n",
    "\n",
    "InputSPI['FigureID2']=InputSPI['FigureID']\n",
    "InputSPI['ComponentID2']=InputSPI['ComponentID']\n",
    "InputSPI['key_spi']=(InputSPI['PanelID'].astype(str)+'_'+InputSPI['FigureID'].astype(int,errors='ignore').astype(str)+'_'+InputSPI['ComponentID'].astype(str))\n",
    "Features_to_bin=['Volume(%)',  'Area(%)', 'OffsetX(%)','OffsetY(%)',]\n"
   ]
  },
  {
   "cell_type": "code",
   "execution_count": 3,
   "id": "expressed-dinner",
   "metadata": {},
   "outputs": [],
   "source": [
    "InputAOI['PanelID_FigureID_ComponentID']=InputAOI['PanelID'].astype(str)+'_'+InputAOI['FigureID'].astype(str)+'_'+InputAOI['ComponentID'].astype(str)\n"
   ]
  },
  {
   "cell_type": "code",
   "execution_count": 4,
   "id": "thermal-vitamin",
   "metadata": {},
   "outputs": [
    {
     "data": {
      "text/plain": [
       "['listAOI_Label']"
      ]
     },
     "execution_count": 4,
     "metadata": {},
     "output_type": "execute_result"
    }
   ],
   "source": [
    "listAOI_Label=InputAOI.AOILabel.unique().tolist()\n",
    "joblib.dump(listAOI_Label,'listAOI_Label')"
   ]
  },
  {
   "cell_type": "code",
   "execution_count": 5,
   "id": "approximate-testimony",
   "metadata": {},
   "outputs": [],
   "source": [
    "listAOI_Label=InputAOI.AOILabel.unique().tolist()\n",
    "for element in listAOI_Label:\n",
    "    InputAOI.loc[:,element]=0"
   ]
  },
  {
   "cell_type": "code",
   "execution_count": 6,
   "id": "adjusted-filename",
   "metadata": {},
   "outputs": [],
   "source": [
    "for item in InputAOI['PanelID_FigureID_ComponentID'].unique().tolist():\n",
    "    list_item_aoilabel=[]\n",
    "    df_inter=InputAOI.loc[InputAOI['PanelID_FigureID_ComponentID']==item]\n",
    "    list_item_aoilabel=df_inter.AOILabel.unique()\n",
    "    for element in listAOI_Label:\n",
    "        if element in list_item_aoilabel:\n",
    "            InputAOI.loc[InputAOI['PanelID_FigureID_ComponentID']==item,element]=1\n",
    "InputSPI=InputSPI.dropna(subset=['FigureID'])\n"
   ]
  },
  {
   "cell_type": "code",
   "execution_count": 7,
   "id": "abroad-syracuse",
   "metadata": {},
   "outputs": [],
   "source": [
    "aoi_outter=InputAOI.copy()\n",
    "aoi_outter['FigureID_ComponentID']=(aoi_outter['FigureID'].astype(str)+'_'+aoi_outter['ComponentID'].astype(str)).astype(\"category\").cat.codes\n",
    "    "
   ]
  },
  {
   "cell_type": "code",
   "execution_count": 8,
   "id": "authentic-monroe",
   "metadata": {},
   "outputs": [],
   "source": [
    "aoi_outter=aoi_outter.loc[~aoi_outter.RepairLabel.isna()]\n",
    "aoi_outter=aoi_outter.loc[~(aoi_outter.RepairLabel=='NotYetClassified')]"
   ]
  },
  {
   "cell_type": "code",
   "execution_count": 9,
   "id": "radical-tulsa",
   "metadata": {},
   "outputs": [],
   "source": [
    "\n",
    "Num_features=['Shape(um)',\n",
    "   'PosX(mm)', 'PosY(mm)','SizeX', 'SizeY']"
   ]
  },
  {
   "cell_type": "code",
   "execution_count": 10,
   "id": "expressed-hamilton",
   "metadata": {},
   "outputs": [],
   "source": [
    "InputSPI['Shape(um)']=pd.to_numeric(InputSPI['Shape(um)'])"
   ]
  },
  {
   "cell_type": "code",
   "execution_count": 11,
   "id": "ambient-colleague",
   "metadata": {},
   "outputs": [],
   "source": [
    "InputSPI=InputSPI.loc[InputSPI['key_spi'].isin(aoi_outter['key_spi'].unique().tolist())]"
   ]
  },
  {
   "cell_type": "code",
   "execution_count": 12,
   "id": "limited-jesus",
   "metadata": {},
   "outputs": [],
   "source": [
    "InputSPI_grouped=InputSPI.groupby([\"PanelID\",\"FigureID2\",\"ComponentID2\"])[Features_to_bin+Num_features].mean().reset_index()"
   ]
  },
  {
   "cell_type": "code",
   "execution_count": 13,
   "id": "headed-metallic",
   "metadata": {},
   "outputs": [],
   "source": [
    "aoi_outter=aoi_outter.merge(InputSPI_grouped,how=\"left\",left_on=[\"PanelID\",\"FigureID2\",\"ComponentID2\"],right_on=[\"PanelID\",\"FigureID2\",\"ComponentID2\"])"
   ]
  },
  {
   "cell_type": "code",
   "execution_count": 14,
   "id": "celtic-bubble",
   "metadata": {},
   "outputs": [],
   "source": [
    "aoi_outter=aoi_outter.drop_duplicates(subset=[\"PanelID\",\"FigureID2\",\"ComponentID2\"])"
   ]
  },
  {
   "cell_type": "code",
   "execution_count": 15,
   "id": "original-color",
   "metadata": {},
   "outputs": [
    {
     "data": {
      "text/plain": [
       "Index(['PanelID', 'FigureID', 'MachineID', 'ComponentID', 'PinNumber',\n",
       "       'AOILabel', 'OperatorLabel', 'RepairLabel', 'FigureID2', 'ComponentID2',\n",
       "       'Count_Pin', 'Count_Pin_Figure', 'Count_Pin_Panel', 'Target', 'key_spi',\n",
       "       'PanelID_FigureID_ComponentID', 'Coplanarity', 'Translated', 'Soldered',\n",
       "       'UnSoldered', 'Size', 'LeanSoldering', 'Misaligned', 'Missing',\n",
       "       'Jumper', 'Polarity', 'Broken', 'FigureID_ComponentID', 'Volume(%)',\n",
       "       'Area(%)', 'OffsetX(%)', 'OffsetY(%)', 'Shape(um)', 'PosX(mm)',\n",
       "       'PosY(mm)', 'SizeX', 'SizeY'],\n",
       "      dtype='object')"
      ]
     },
     "execution_count": 15,
     "metadata": {},
     "output_type": "execute_result"
    }
   ],
   "source": [
    "aoi_outter.columns"
   ]
  },
  {
   "cell_type": "code",
   "execution_count": 16,
   "id": "stunning-reset",
   "metadata": {},
   "outputs": [],
   "source": [
    "Features_to_bin=['Volume(%)',  'Area(%)', 'OffsetX(%)','OffsetY(%)']"
   ]
  },
  {
   "cell_type": "code",
   "execution_count": 17,
   "id": "signed-brush",
   "metadata": {},
   "outputs": [
    {
     "data": {
      "text/plain": [
       "Index(['PanelID', 'FigureID', 'MachineID', 'ComponentID', 'PinNumber',\n",
       "       'AOILabel', 'OperatorLabel', 'RepairLabel', 'FigureID2', 'ComponentID2',\n",
       "       'Count_Pin', 'Count_Pin_Figure', 'Count_Pin_Panel', 'Target', 'key_spi',\n",
       "       'PanelID_FigureID_ComponentID', 'Coplanarity', 'Translated', 'Soldered',\n",
       "       'UnSoldered', 'Size', 'LeanSoldering', 'Misaligned', 'Missing',\n",
       "       'Jumper', 'Polarity', 'Broken', 'FigureID_ComponentID', 'Volume(%)',\n",
       "       'Area(%)', 'OffsetX(%)', 'OffsetY(%)', 'Shape(um)', 'PosX(mm)',\n",
       "       'PosY(mm)', 'SizeX', 'SizeY'],\n",
       "      dtype='object')"
      ]
     },
     "execution_count": 17,
     "metadata": {},
     "output_type": "execute_result"
    }
   ],
   "source": [
    "aoi_outter.columns"
   ]
  },
  {
   "cell_type": "code",
   "execution_count": 18,
   "id": "smoking-killing",
   "metadata": {},
   "outputs": [],
   "source": [
    "list_var_to_encode=[\"ComponentID\",\"FigureID_ComponentID\"]#+Features_alpha\n",
    "\n",
    "\n",
    "for var in list_var_to_encode:\n",
    "    aoi_outter[var]=aoi_outter[var].astype('category').cat.codes\n",
    "    \n",
    "aoi_outter[\"MachineID\"]=aoi_outter[\"MachineID\"].astype('category').cat.codes\n",
    "\n",
    "    "
   ]
  },
  {
   "cell_type": "code",
   "execution_count": 20,
   "id": "younger-northeast",
   "metadata": {},
   "outputs": [
    {
     "data": {
      "text/html": [
       "<div>\n",
       "<style scoped>\n",
       "    .dataframe tbody tr th:only-of-type {\n",
       "        vertical-align: middle;\n",
       "    }\n",
       "\n",
       "    .dataframe tbody tr th {\n",
       "        vertical-align: top;\n",
       "    }\n",
       "\n",
       "    .dataframe thead th {\n",
       "        text-align: right;\n",
       "    }\n",
       "</style>\n",
       "<table border=\"1\" class=\"dataframe\">\n",
       "  <thead>\n",
       "    <tr style=\"text-align: right;\">\n",
       "      <th></th>\n",
       "      <th>PanelID</th>\n",
       "      <th>FigureID</th>\n",
       "      <th>MachineID</th>\n",
       "      <th>ComponentID</th>\n",
       "      <th>PinNumber</th>\n",
       "      <th>AOILabel</th>\n",
       "      <th>OperatorLabel</th>\n",
       "      <th>RepairLabel</th>\n",
       "      <th>FigureID2</th>\n",
       "      <th>ComponentID2</th>\n",
       "      <th>...</th>\n",
       "      <th>Translated</th>\n",
       "      <th>Soldered</th>\n",
       "      <th>UnSoldered</th>\n",
       "      <th>Size</th>\n",
       "      <th>LeanSoldering</th>\n",
       "      <th>Misaligned</th>\n",
       "      <th>Missing</th>\n",
       "      <th>Jumper</th>\n",
       "      <th>Polarity</th>\n",
       "      <th>Broken</th>\n",
       "    </tr>\n",
       "  </thead>\n",
       "  <tbody>\n",
       "    <tr>\n",
       "      <th>0</th>\n",
       "      <td>26319044800520102844</td>\n",
       "      <td>2</td>\n",
       "      <td>A</td>\n",
       "      <td>C31</td>\n",
       "      <td>&lt;NA&gt;</td>\n",
       "      <td>Coplanarity</td>\n",
       "      <td>Good</td>\n",
       "      <td>NaN</td>\n",
       "      <td>2</td>\n",
       "      <td>C31</td>\n",
       "      <td>...</td>\n",
       "      <td>0</td>\n",
       "      <td>0</td>\n",
       "      <td>0</td>\n",
       "      <td>0</td>\n",
       "      <td>0</td>\n",
       "      <td>0</td>\n",
       "      <td>0</td>\n",
       "      <td>0</td>\n",
       "      <td>0</td>\n",
       "      <td>0</td>\n",
       "    </tr>\n",
       "    <tr>\n",
       "      <th>1</th>\n",
       "      <td>26319044800520102844</td>\n",
       "      <td>2</td>\n",
       "      <td>A</td>\n",
       "      <td>D1</td>\n",
       "      <td>1</td>\n",
       "      <td>Translated</td>\n",
       "      <td>Good</td>\n",
       "      <td>NaN</td>\n",
       "      <td>2</td>\n",
       "      <td>D1</td>\n",
       "      <td>...</td>\n",
       "      <td>1</td>\n",
       "      <td>1</td>\n",
       "      <td>0</td>\n",
       "      <td>0</td>\n",
       "      <td>0</td>\n",
       "      <td>0</td>\n",
       "      <td>0</td>\n",
       "      <td>0</td>\n",
       "      <td>0</td>\n",
       "      <td>0</td>\n",
       "    </tr>\n",
       "    <tr>\n",
       "      <th>2</th>\n",
       "      <td>26319044800520102844</td>\n",
       "      <td>2</td>\n",
       "      <td>A</td>\n",
       "      <td>D1</td>\n",
       "      <td>1</td>\n",
       "      <td>Soldered</td>\n",
       "      <td>Good</td>\n",
       "      <td>NaN</td>\n",
       "      <td>2</td>\n",
       "      <td>D1</td>\n",
       "      <td>...</td>\n",
       "      <td>1</td>\n",
       "      <td>1</td>\n",
       "      <td>0</td>\n",
       "      <td>0</td>\n",
       "      <td>0</td>\n",
       "      <td>0</td>\n",
       "      <td>0</td>\n",
       "      <td>0</td>\n",
       "      <td>0</td>\n",
       "      <td>0</td>\n",
       "    </tr>\n",
       "    <tr>\n",
       "      <th>3</th>\n",
       "      <td>26319044900520102844</td>\n",
       "      <td>6</td>\n",
       "      <td>B</td>\n",
       "      <td>BC1</td>\n",
       "      <td>2</td>\n",
       "      <td>UnSoldered</td>\n",
       "      <td>Good</td>\n",
       "      <td>NaN</td>\n",
       "      <td>6</td>\n",
       "      <td>BC1</td>\n",
       "      <td>...</td>\n",
       "      <td>0</td>\n",
       "      <td>0</td>\n",
       "      <td>1</td>\n",
       "      <td>0</td>\n",
       "      <td>0</td>\n",
       "      <td>0</td>\n",
       "      <td>0</td>\n",
       "      <td>0</td>\n",
       "      <td>0</td>\n",
       "      <td>0</td>\n",
       "    </tr>\n",
       "    <tr>\n",
       "      <th>4</th>\n",
       "      <td>26319044900520102844</td>\n",
       "      <td>7</td>\n",
       "      <td>B</td>\n",
       "      <td>BC1</td>\n",
       "      <td>2</td>\n",
       "      <td>UnSoldered</td>\n",
       "      <td>Good</td>\n",
       "      <td>NaN</td>\n",
       "      <td>7</td>\n",
       "      <td>BC1</td>\n",
       "      <td>...</td>\n",
       "      <td>0</td>\n",
       "      <td>0</td>\n",
       "      <td>1</td>\n",
       "      <td>0</td>\n",
       "      <td>0</td>\n",
       "      <td>0</td>\n",
       "      <td>0</td>\n",
       "      <td>0</td>\n",
       "      <td>0</td>\n",
       "      <td>0</td>\n",
       "    </tr>\n",
       "    <tr>\n",
       "      <th>...</th>\n",
       "      <td>...</td>\n",
       "      <td>...</td>\n",
       "      <td>...</td>\n",
       "      <td>...</td>\n",
       "      <td>...</td>\n",
       "      <td>...</td>\n",
       "      <td>...</td>\n",
       "      <td>...</td>\n",
       "      <td>...</td>\n",
       "      <td>...</td>\n",
       "      <td>...</td>\n",
       "      <td>...</td>\n",
       "      <td>...</td>\n",
       "      <td>...</td>\n",
       "      <td>...</td>\n",
       "      <td>...</td>\n",
       "      <td>...</td>\n",
       "      <td>...</td>\n",
       "      <td>...</td>\n",
       "      <td>...</td>\n",
       "      <td>...</td>\n",
       "    </tr>\n",
       "    <tr>\n",
       "      <th>31612</th>\n",
       "      <td>27219026400520102844</td>\n",
       "      <td>3</td>\n",
       "      <td>B</td>\n",
       "      <td>BC1</td>\n",
       "      <td>2</td>\n",
       "      <td>UnSoldered</td>\n",
       "      <td>Good</td>\n",
       "      <td>NaN</td>\n",
       "      <td>3</td>\n",
       "      <td>BC1</td>\n",
       "      <td>...</td>\n",
       "      <td>0</td>\n",
       "      <td>0</td>\n",
       "      <td>1</td>\n",
       "      <td>0</td>\n",
       "      <td>0</td>\n",
       "      <td>0</td>\n",
       "      <td>0</td>\n",
       "      <td>0</td>\n",
       "      <td>0</td>\n",
       "      <td>0</td>\n",
       "    </tr>\n",
       "    <tr>\n",
       "      <th>31613</th>\n",
       "      <td>27219026400520102844</td>\n",
       "      <td>4</td>\n",
       "      <td>B</td>\n",
       "      <td>BC1</td>\n",
       "      <td>2</td>\n",
       "      <td>UnSoldered</td>\n",
       "      <td>Good</td>\n",
       "      <td>NaN</td>\n",
       "      <td>4</td>\n",
       "      <td>BC1</td>\n",
       "      <td>...</td>\n",
       "      <td>0</td>\n",
       "      <td>0</td>\n",
       "      <td>1</td>\n",
       "      <td>0</td>\n",
       "      <td>0</td>\n",
       "      <td>0</td>\n",
       "      <td>0</td>\n",
       "      <td>0</td>\n",
       "      <td>0</td>\n",
       "      <td>0</td>\n",
       "    </tr>\n",
       "    <tr>\n",
       "      <th>31614</th>\n",
       "      <td>27219026400520102844</td>\n",
       "      <td>5</td>\n",
       "      <td>B</td>\n",
       "      <td>BC1</td>\n",
       "      <td>2</td>\n",
       "      <td>UnSoldered</td>\n",
       "      <td>Good</td>\n",
       "      <td>NaN</td>\n",
       "      <td>5</td>\n",
       "      <td>BC1</td>\n",
       "      <td>...</td>\n",
       "      <td>0</td>\n",
       "      <td>0</td>\n",
       "      <td>1</td>\n",
       "      <td>0</td>\n",
       "      <td>0</td>\n",
       "      <td>0</td>\n",
       "      <td>0</td>\n",
       "      <td>0</td>\n",
       "      <td>0</td>\n",
       "      <td>0</td>\n",
       "    </tr>\n",
       "    <tr>\n",
       "      <th>31615</th>\n",
       "      <td>27219026400520102844</td>\n",
       "      <td>7</td>\n",
       "      <td>B</td>\n",
       "      <td>BC1</td>\n",
       "      <td>2</td>\n",
       "      <td>UnSoldered</td>\n",
       "      <td>Good</td>\n",
       "      <td>NaN</td>\n",
       "      <td>7</td>\n",
       "      <td>BC1</td>\n",
       "      <td>...</td>\n",
       "      <td>0</td>\n",
       "      <td>0</td>\n",
       "      <td>1</td>\n",
       "      <td>0</td>\n",
       "      <td>0</td>\n",
       "      <td>0</td>\n",
       "      <td>0</td>\n",
       "      <td>0</td>\n",
       "      <td>0</td>\n",
       "      <td>0</td>\n",
       "    </tr>\n",
       "    <tr>\n",
       "      <th>31616</th>\n",
       "      <td>27219026400520102844</td>\n",
       "      <td>8</td>\n",
       "      <td>B</td>\n",
       "      <td>BC1</td>\n",
       "      <td>2</td>\n",
       "      <td>LeanSoldering</td>\n",
       "      <td>Good</td>\n",
       "      <td>NaN</td>\n",
       "      <td>8</td>\n",
       "      <td>BC1</td>\n",
       "      <td>...</td>\n",
       "      <td>0</td>\n",
       "      <td>0</td>\n",
       "      <td>0</td>\n",
       "      <td>0</td>\n",
       "      <td>1</td>\n",
       "      <td>0</td>\n",
       "      <td>0</td>\n",
       "      <td>0</td>\n",
       "      <td>0</td>\n",
       "      <td>0</td>\n",
       "    </tr>\n",
       "  </tbody>\n",
       "</table>\n",
       "<p>31617 rows × 27 columns</p>\n",
       "</div>"
      ],
      "text/plain": [
       "                    PanelID  FigureID MachineID ComponentID PinNumber  \\\n",
       "0      26319044800520102844         2         A         C31      <NA>   \n",
       "1      26319044800520102844         2         A          D1         1   \n",
       "2      26319044800520102844         2         A          D1         1   \n",
       "3      26319044900520102844         6         B         BC1         2   \n",
       "4      26319044900520102844         7         B         BC1         2   \n",
       "...                     ...       ...       ...         ...       ...   \n",
       "31612  27219026400520102844         3         B         BC1         2   \n",
       "31613  27219026400520102844         4         B         BC1         2   \n",
       "31614  27219026400520102844         5         B         BC1         2   \n",
       "31615  27219026400520102844         7         B         BC1         2   \n",
       "31616  27219026400520102844         8         B         BC1         2   \n",
       "\n",
       "            AOILabel OperatorLabel RepairLabel  FigureID2 ComponentID2  ...  \\\n",
       "0        Coplanarity          Good         NaN          2          C31  ...   \n",
       "1         Translated          Good         NaN          2           D1  ...   \n",
       "2           Soldered          Good         NaN          2           D1  ...   \n",
       "3         UnSoldered          Good         NaN          6          BC1  ...   \n",
       "4         UnSoldered          Good         NaN          7          BC1  ...   \n",
       "...              ...           ...         ...        ...          ...  ...   \n",
       "31612     UnSoldered          Good         NaN          3          BC1  ...   \n",
       "31613     UnSoldered          Good         NaN          4          BC1  ...   \n",
       "31614     UnSoldered          Good         NaN          5          BC1  ...   \n",
       "31615     UnSoldered          Good         NaN          7          BC1  ...   \n",
       "31616  LeanSoldering          Good         NaN          8          BC1  ...   \n",
       "\n",
       "       Translated  Soldered  UnSoldered  Size LeanSoldering Misaligned  \\\n",
       "0               0         0           0     0             0          0   \n",
       "1               1         1           0     0             0          0   \n",
       "2               1         1           0     0             0          0   \n",
       "3               0         0           1     0             0          0   \n",
       "4               0         0           1     0             0          0   \n",
       "...           ...       ...         ...   ...           ...        ...   \n",
       "31612           0         0           1     0             0          0   \n",
       "31613           0         0           1     0             0          0   \n",
       "31614           0         0           1     0             0          0   \n",
       "31615           0         0           1     0             0          0   \n",
       "31616           0         0           0     0             1          0   \n",
       "\n",
       "       Missing  Jumper  Polarity  Broken  \n",
       "0            0       0         0       0  \n",
       "1            0       0         0       0  \n",
       "2            0       0         0       0  \n",
       "3            0       0         0       0  \n",
       "4            0       0         0       0  \n",
       "...        ...     ...       ...     ...  \n",
       "31612        0       0         0       0  \n",
       "31613        0       0         0       0  \n",
       "31614        0       0         0       0  \n",
       "31615        0       0         0       0  \n",
       "31616        0       0         0       0  \n",
       "\n",
       "[31617 rows x 27 columns]"
      ]
     },
     "execution_count": 20,
     "metadata": {},
     "output_type": "execute_result"
    }
   ],
   "source": [
    "InputAOI"
   ]
  },
  {
   "cell_type": "code",
   "execution_count": 21,
   "id": "focused-meter",
   "metadata": {},
   "outputs": [],
   "source": [
    "aoi_outter['Target']=aoi_outter['RepairLabel'].astype('category').cat.codes\n",
    " "
   ]
  },
  {
   "cell_type": "code",
   "execution_count": 22,
   "id": "cross-arcade",
   "metadata": {},
   "outputs": [],
   "source": [
    "def frequency_encoding(column, df, df_test=None):\n",
    "    frequencies = df[column].value_counts().reset_index()\n",
    "    df_values = df[[column]].merge(frequencies, how='left', \n",
    "                                   left_on=column, right_on='index').iloc[:,-1].values\n",
    "    if df_test is not None:\n",
    "        df_test_values = df_test[[column]].merge(frequencies, how='left', \n",
    "                                                 left_on=column, right_on='index').fillna(1).iloc[:,-1].values\n",
    "    else:\n",
    "        df_test_values = None\n",
    "    return df_values, df_test_values"
   ]
  },
  {
   "cell_type": "code",
   "execution_count": null,
   "id": "lightweight-brush",
   "metadata": {},
   "outputs": [],
   "source": []
  },
  {
   "cell_type": "code",
   "execution_count": 23,
   "id": "posted-promise",
   "metadata": {},
   "outputs": [
    {
     "name": "stdout",
     "output_type": "stream",
     "text": [
      "0\n",
      "[[120   0]\n",
      " [  0 225]]\n",
      "[[ 7  0]\n",
      " [ 0 43]]\n",
      "1.0\n",
      "1.0\n",
      "1\n",
      "[[120   0]\n",
      " [  0 225]]\n",
      "[[17  0]\n",
      " [ 0 32]]\n",
      "1.0\n",
      "1.0\n",
      "2\n",
      "[[120   0]\n",
      " [  0 225]]\n",
      "[[22  0]\n",
      " [ 0 55]]\n",
      "1.0\n",
      "1.0\n",
      "3\n",
      "[[120   0]\n",
      " [  0 225]]\n",
      "[[54  0]\n",
      " [ 0 56]]\n",
      "1.0\n",
      "1.0\n",
      "4\n",
      "[[120   0]\n",
      " [  0 225]]\n",
      "[[20  0]\n",
      " [ 0 39]]\n",
      "1.0\n",
      "1.0\n"
     ]
    }
   ],
   "source": [
    "list_panel_id=InputAOI.PanelID.unique().tolist()\n",
    "\n",
    "\n",
    "def cross_validation_panel_id_creation(list_panel_id,n_fold=5):\n",
    "    Fold_list=[]\n",
    "    random.shuffle(list_panel_id)\n",
    "    list_panel_id=joblib.load(\"list_panel_id\")\n",
    "    len_fold=(len(list_panel_id))//n_fold\n",
    "    for fold in range(n_fold):\n",
    "        Fold_list.append(list_panel_id[fold*len_fold:(fold+1)*len_fold])\n",
    "    return(Fold_list)\n",
    "Fold_list=cross_validation_panel_id_creation(list_panel_id)\n",
    "#Final_df=Final_df.loc[Final_df['ComponentID2']!=\"BC1\"]\n",
    "f1_score_list=[]\n",
    "list_confusion_matrix=[]\n",
    "for Test_fold_indice in range(5):\n",
    "    print(Test_fold_indice)\n",
    "    Train_indice=[]\n",
    "    count_indice_fit_pin_training=0\n",
    "    for indices in range(len(Fold_list)):\n",
    "        if indices!=Test_fold_indice:\n",
    "            Train_indice=Train_indice+Fold_list[indices]\n",
    "        else:\n",
    "            Test_indices=Fold_list[indices]\n",
    "            Train_indice=Train_indice+Fold_list[indices]\n",
    "\n",
    "    Train_df=aoi_outter.loc[aoi_outter[\"PanelID\"].isin(Train_indice)].reset_index(drop=True)\n",
    "    Test_df=aoi_outter.loc[aoi_outter[\"PanelID\"].isin(Test_indices)].reset_index(drop=True)\n",
    "    X_train=Train_df\n",
    "    X_val=Test_df\n",
    "    y_train=Train_df['Target']\n",
    "    y_val=Test_df['Target']\n",
    "    y_train=Train_df['Target']\n",
    "    y_train=Train_df['Target']\n",
    "    y_val=Test_df['Target']\n",
    "    \n",
    "    \n",
    "    encoder=ce.CatBoostEncoder()\n",
    "\n",
    "    AE_train=encoder.fit_transform(X_train[list_var_to_encode].copy(),y_train)\n",
    "    AE_train.columns=[x+\"_encoded\" for x in AE_train.columns.tolist()]\n",
    "    X_train_final=pd.concat([X_train,AE_train],axis=1)\n",
    "    joblib.dump(encoder,\"Cat_boost_step3_no_fusion\")\n",
    "\n",
    "    AE_val=encoder.transform(X_val[list_var_to_encode].copy())\n",
    "    AE_val.columns=[x+\"_encoded\" for x in AE_val.columns.tolist()]\n",
    "    X_val_final=pd.concat([X_val,AE_val],axis=1)\n",
    "    #col_features=[x for x in X_train_final.columns.tolist() if \"_encoded\" in str(x)]#+[x for x in X_train_final.columns.tolist() if \"_is_in_panel\" in str(x)]\n",
    "    #col_features=col_features#+[x for x in X_train_final.columns.tolist() if '_is_in_figure' in str(x)]\n",
    "    col_features=Num_features+[x+\"_encoded\" for x in list_var_to_encode]+[\"Count_Pin\",\"Count_Pin_Figure\",\"Count_Pin_Panel\"]+listAOI_Label+Features_to_bin+[\"MachineID\"]#+[x for x in X_val_final.columns.tolist() if \"_counts\" in x]#\n",
    "    X_train_final=X_train_final.replace(np.nan,0)\n",
    "    X_val_final=X_val_final.replace(np.nan,0)\n",
    "    X_train_final=X_train_final[col_features].to_numpy()\n",
    "    X_val_final=X_val_final[col_features].to_numpy()\n",
    "\n",
    "    ratio=np.sum(y_train==0)/np.sum(y_train==1)\n",
    "    \n",
    "\n",
    "\n",
    "    xgb_cl = xgboost.XGBClassifier(objective=\"binary:logistic\",n_estimators =200,max_depth = 15,scale_pos_weight=ratio)\n",
    "    #xgb_cl = xgboost.XGBClassifier(**Best_trial)\n",
    "    xgb_cl.fit(X_train_final, y_train)\n",
    "    joblib.dump(xgb_cl,\"xgboost_step3_outter\")\n",
    "\n",
    "    res_train=xgb_cl.predict(X_train_final)\n",
    "    res_test=xgb_cl.predict(X_val_final)\n",
    "\n",
    "    X_train['Pred']=res_train\n",
    "    X_val['Pred']=res_test\n",
    "   \n",
    "    \n",
    "    y_train=X_train.groupby([\"PanelID\",\"FigureID\",\"ComponentID\"])['Target'].min()\n",
    "    y_val=X_val.groupby([\"PanelID\",\"FigureID\",\"ComponentID\"])['Target'].min()\n",
    "\n",
    "\n",
    "    res_train=X_train.groupby([\"PanelID\",\"FigureID\",\"ComponentID\"])['Pred'].min()\n",
    "    res_test=X_val.groupby([\"PanelID\",\"FigureID\",\"ComponentID\"])['Pred'].min()\n",
    "\n",
    "\n",
    "\n",
    "\n",
    "    print(confusion_matrix(y_train, res_train,labels=[0,1]))\n",
    "    print(confusion_matrix(y_val,res_test,labels=[0,1]))\n",
    "\n",
    "    print(f1_score(y_train, res_train,pos_label=0))\n",
    "    print(f1_score(y_val, res_test,pos_label=0))\n",
    "\n",
    "    f1_score_list.append(f1_score(y_val, res_test,pos_label=0))"
   ]
  },
  {
   "cell_type": "code",
   "execution_count": 24,
   "id": "allied-skating",
   "metadata": {},
   "outputs": [
    {
     "data": {
      "text/plain": [
       "['Cat_boost_step3_no_fusion']"
      ]
     },
     "execution_count": 24,
     "metadata": {},
     "output_type": "execute_result"
    }
   ],
   "source": [
    "    joblib.dump(encoder,\"Cat_boost_step3_no_fusion\")\n"
   ]
  },
  {
   "cell_type": "code",
   "execution_count": 25,
   "id": "distant-louisville",
   "metadata": {},
   "outputs": [
    {
     "data": {
      "text/plain": [
       "1.0"
      ]
     },
     "execution_count": 25,
     "metadata": {},
     "output_type": "execute_result"
    }
   ],
   "source": [
    "np.mean(f1_score_list)"
   ]
  },
  {
   "cell_type": "code",
   "execution_count": 26,
   "id": "mature-tonight",
   "metadata": {},
   "outputs": [
    {
     "data": {
      "text/plain": [
       "['Shape(um)', 'PosX(mm)', 'PosY(mm)', 'SizeX', 'SizeY']"
      ]
     },
     "execution_count": 26,
     "metadata": {},
     "output_type": "execute_result"
    }
   ],
   "source": [
    "Num_features"
   ]
  },
  {
   "cell_type": "code",
   "execution_count": 27,
   "id": "supposed-watson",
   "metadata": {},
   "outputs": [],
   "source": [
    "import pandas as pd\n",
    "import numpy as np\n",
    "import matplotlib.pyplot as plt\n",
    "from scipy.stats import norm \n",
    "\n",
    "from sklearn.neighbors import KernelDensity\n",
    "import joblib\n",
    "from sklearn.metrics import roc_auc_score\n",
    "import os\n",
    "import random\n",
    "import xgboost\n",
    "import numpy as np\n",
    "import pandas as pd\n",
    "from sklearn.metrics import accuracy_score, confusion_matrix, recall_score, precision_score, f1_score\n",
    "from sklearn.preprocessing import StandardScaler\n",
    "\n",
    "from sklearn.discriminant_analysis import LinearDiscriminantAnalysis as LDA\n",
    "from sklearn.ensemble import RandomForestClassifier\n",
    "\n",
    "from sklearn.metrics import make_scorer\n",
    "import category_encoders as ce\n",
    "import optuna\n",
    "from optuna import Trial, visualization\n",
    "from optuna.samplers import TPESampler\n",
    "import logging\n",
    "from sklearn.model_selection import cross_val_score"
   ]
  },
  {
   "cell_type": "code",
   "execution_count": 28,
   "id": "canadian-gospel",
   "metadata": {},
   "outputs": [],
   "source": [
    "\n",
    "\n",
    "\n",
    "def objective(trial: Trial,X,y) -> float:\n",
    "    \n",
    "    joblib.dump(study, 'study.pkl')\n",
    "\n",
    "    param = {\n",
    "        'objective': trial.suggest_categorical('objective',['binary:logistic']), \n",
    "        'tree_method': trial.suggest_categorical('tree_method',['exact']),  # 'gpu_hist','hist'\n",
    "        'lambda': trial.suggest_loguniform('lambda',1e-3,10.0),\n",
    "        'alpha': trial.suggest_loguniform('alpha',1e-3,10.0),\n",
    "        'colsample_bytree': trial.suggest_uniform('colsample_bytree', 0.3,1.0),\n",
    "        #'subsample': trial.suggest_uniform('subsample', 0.4, 1.0),\n",
    "        'learning_rate': trial.suggest_loguniform('learning_rate', 0.001,0.1),\n",
    "        'n_estimators': trial.suggest_categorical('n_estimators', [30,40,50,70,100,150,200]),\n",
    "        'max_depth': trial.suggest_categorical('max_depth', [3,5,7,8,9,10,11,13,15,17,20]),\n",
    "        #'random_state': trial.suggest_categorical('random_state', [24,48,2020]),\n",
    "        'min_child_weight': trial.suggest_int('min_child_weight', 1,300),\n",
    "        'nthread' : -1,\n",
    "        #'feval': trial.suggest_categorical('feval',[f1_eval]),\n",
    "        'scale_pos_weight' : trial.suggest_categorical('scale_pos_weight', [ratio])\n",
    "        \n",
    "\n",
    "    }\n",
    "    \n",
    "    \n",
    "    model = xgboost.XGBClassifier(**param,feval=f1_eval)\n",
    "    \n",
    "    return cross_val_score(model, X_train_final, y_train, cv=5,scoring=make_scorer(f1_score, pos_label=0)).mean()"
   ]
  },
  {
   "cell_type": "code",
   "execution_count": 29,
   "id": "civic-investor",
   "metadata": {},
   "outputs": [],
   "source": [
    "optuna.logging.disable_default_handler()  # Stop showing logs in sys.stderr.\n",
    "from sklearn.metrics import f1_score\n",
    "import numpy as np\n",
    "\n",
    "def f1_eval(y_pred, y_true):\n",
    "    #y_true = dtrain.get_label()\n",
    "    err = f1_score(y_true,y_pred,pos_label=0)\n",
    "    return 'f1_err', err"
   ]
  },
  {
   "cell_type": "code",
   "execution_count": 30,
   "id": "swiss-eugene",
   "metadata": {},
   "outputs": [],
   "source": [
    "y_train=Train_df['Target']"
   ]
  },
  {
   "cell_type": "code",
   "execution_count": 31,
   "id": "looking-system",
   "metadata": {
    "scrolled": true
   },
   "outputs": [
    {
     "data": {
      "text/plain": [
       "1.0"
      ]
     },
     "execution_count": 31,
     "metadata": {},
     "output_type": "execute_result"
    }
   ],
   "source": [
    "study = optuna.create_study(direction='maximize')\n",
    "#study = optuna.create_study(direction='maximize', storage=\"sqlite:///xgb_optuna_home_credit.db\", study_name=\"optuna_xgb_output_8\")\n",
    "study.optimize(lambda trial : objective(trial,X_train_final,y_train),n_trials= 10)\n",
    "\n",
    "np.mean(f1_score_list)"
   ]
  },
  {
   "cell_type": "code",
   "execution_count": 32,
   "id": "expired-salem",
   "metadata": {},
   "outputs": [
    {
     "name": "stdout",
     "output_type": "stream",
     "text": [
      "Sampler is TPESampler\n"
     ]
    }
   ],
   "source": [
    "print(f\"Sampler is {study.sampler.__class__.__name__}\")\n"
   ]
  },
  {
   "cell_type": "code",
   "execution_count": 33,
   "id": "positive-variety",
   "metadata": {},
   "outputs": [],
   "source": [
    "Best_trial = study.best_trial.params"
   ]
  },
  {
   "cell_type": "code",
   "execution_count": 34,
   "id": "transsexual-bangladesh",
   "metadata": {},
   "outputs": [
    {
     "data": {
      "text/plain": [
       "{'objective': 'binary:logistic',\n",
       " 'tree_method': 'exact',\n",
       " 'lambda': 0.003563244623116407,\n",
       " 'alpha': 1.2401768953062398,\n",
       " 'colsample_bytree': 0.9333517817531323,\n",
       " 'learning_rate': 0.00216514258325159,\n",
       " 'n_estimators': 40,\n",
       " 'max_depth': 3,\n",
       " 'min_child_weight': 17,\n",
       " 'scale_pos_weight': 0.5333333333333333}"
      ]
     },
     "execution_count": 34,
     "metadata": {},
     "output_type": "execute_result"
    }
   ],
   "source": [
    "Best_trial"
   ]
  },
  {
   "cell_type": "code",
   "execution_count": 35,
   "id": "northern-visit",
   "metadata": {},
   "outputs": [],
   "source": [
    "model = xgboost.XGBClassifier(**Best_trial)"
   ]
  },
  {
   "cell_type": "code",
   "execution_count": 36,
   "id": "cleared-catering",
   "metadata": {},
   "outputs": [
    {
     "name": "stdout",
     "output_type": "stream",
     "text": [
      "[[110  10]\n",
      " [ 40 185]]\n"
     ]
    },
    {
     "data": {
      "text/plain": [
       "0.8164696417654523"
      ]
     },
     "execution_count": 36,
     "metadata": {},
     "output_type": "execute_result"
    }
   ],
   "source": [
    "model.fit(X_train_final,y_train)\n",
    "print(confusion_matrix(y_train, model.predict(X_train_final),labels=[0,1]))\n",
    "\n",
    "cross_val_score(model, X_train_final, y_train, cv=5,scoring=make_scorer(f1_score, pos_label=0)).mean()"
   ]
  },
  {
   "cell_type": "code",
   "execution_count": 34,
   "id": "swiss-latino",
   "metadata": {},
   "outputs": [
    {
     "data": {
      "text/plain": [
       "['xgboost_step3_no_fusion']"
      ]
     },
     "execution_count": 34,
     "metadata": {},
     "output_type": "execute_result"
    }
   ],
   "source": [
    "model = xgboost.XGBClassifier(**Best_trial)\n",
    "model.fit(X_train_final,y_train)\n",
    "joblib.dump(model,\"xgboost_step3_no_fusion\")\n"
   ]
  },
  {
   "cell_type": "code",
   "execution_count": 38,
   "id": "photographic-killing",
   "metadata": {},
   "outputs": [],
   "source": [
    "model.get_booster().feature_names = col_features\n"
   ]
  },
  {
   "cell_type": "code",
   "execution_count": 39,
   "id": "clear-diana",
   "metadata": {},
   "outputs": [
    {
     "data": {
      "text/plain": [
       "['Shape(um)',\n",
       " 'PosX(mm)',\n",
       " 'PosY(mm)',\n",
       " 'SizeX',\n",
       " 'SizeY',\n",
       " 'ComponentID_encoded',\n",
       " 'FigureID_ComponentID_encoded',\n",
       " 'Count_Pin',\n",
       " 'Count_Pin_Figure',\n",
       " 'Count_Pin_Panel',\n",
       " 'Coplanarity',\n",
       " 'Translated',\n",
       " 'Soldered',\n",
       " 'UnSoldered',\n",
       " 'Size',\n",
       " 'LeanSoldering',\n",
       " 'Misaligned',\n",
       " 'Missing',\n",
       " 'Jumper',\n",
       " 'Polarity',\n",
       " 'Broken',\n",
       " 'Volume(%)',\n",
       " 'Area(%)',\n",
       " 'OffsetX(%)',\n",
       " 'OffsetY(%)',\n",
       " 'MachineID']"
      ]
     },
     "execution_count": 39,
     "metadata": {},
     "output_type": "execute_result"
    }
   ],
   "source": [
    "col_features"
   ]
  },
  {
   "cell_type": "code",
   "execution_count": 41,
   "id": "photographic-healing",
   "metadata": {},
   "outputs": [
    {
     "data": {
      "image/png": "[encoded data removed]",
      "text/plain": [
       "<Figure size 1008x504 with 1 Axes>"
      ]
     },
     "metadata": {
      "needs_background": "light"
     },
     "output_type": "display_data"
    }
   ],
   "source": [
    "from xgboost import plot_importance\n",
    "import matplotlib.pyplot as plt\n",
    "\n",
    "plt.rcParams[\"figure.figsize\"] = (14, 7)\n",
    "plot_importance(booster=model)\n",
    "plt.xticks(fontsize=18)\n",
    "plt.yticks(fontsize=18)\n",
    "plt.title(\"Feature importance\", fontsize=16)\n",
    "plt.xlabel(\"F score\", fontsize=16)\n",
    "plt.ylabel(\"Features\", fontsize=16)\n",
    "plt.savefig(\"features_imp_step2_outter3\", dpi=200,bbox_inches=\"tight\")"
   ]
  },
  {
   "cell_type": "code",
   "execution_count": 52,
   "id": "systematic-injection",
   "metadata": {},
   "outputs": [
    {
     "data": {
      "text/plain": [
       "['xgboost_step3_no_fusion']"
      ]
     },
     "execution_count": 52,
     "metadata": {},
     "output_type": "execute_result"
    }
   ],
   "source": [
    "joblib.dump(model,\"xgboost_step3_no_fusion\")\n"
   ]
  },
  {
   "cell_type": "code",
   "execution_count": 48,
   "id": "adequate-philadelphia",
   "metadata": {},
   "outputs": [
    {
     "data": {
      "text/plain": [
       "(383, 27)"
      ]
     },
     "execution_count": 48,
     "metadata": {},
     "output_type": "execute_result"
    }
   ],
   "source": [
    "X_train_final.shape"
   ]
  },
  {
   "cell_type": "code",
   "execution_count": 73,
   "id": "dependent-contrast",
   "metadata": {},
   "outputs": [
    {
     "name": "stderr",
     "output_type": "stream",
     "text": [
      "/opt/anaconda3/envs/bigdatalab_cpu_202101/lib/python3.7/site-packages/ipykernel_launcher.py:1: FutureWarning: Using a non-tuple sequence for multidimensional indexing is deprecated; use `arr[tuple(seq)]` instead of `arr[seq]`. In the future this will be interpreted as an array index, `arr[np.array(seq)]`, which will result either in an error or a different result.\n",
      "  \"\"\"Entry point for launching an IPython kernel.\n"
     ]
    },
    {
     "ename": "IndexError",
     "evalue": "only integers, slices (`:`), ellipsis (`...`), numpy.newaxis (`None`) and integer or boolean arrays are valid indices",
     "output_type": "error",
     "traceback": [
      "\u001b[0;31m---------------------------------------------------------------------------\u001b[0m",
      "\u001b[0;31mIndexError\u001b[0m                                Traceback (most recent call last)",
      "\u001b[0;32m<ipython-input-73-d1b9dd82dad5>\u001b[0m in \u001b[0;36m<module>\u001b[0;34m\u001b[0m\n\u001b[0;32m----> 1\u001b[0;31m \u001b[0mX_val_final\u001b[0m\u001b[0;34m=\u001b[0m\u001b[0mX_val_final\u001b[0m\u001b[0;34m[\u001b[0m\u001b[0mcol_features\u001b[0m\u001b[0;34m]\u001b[0m\u001b[0;34m\u001b[0m\u001b[0;34m\u001b[0m\u001b[0m\n\u001b[0m",
      "\u001b[0;31mIndexError\u001b[0m: only integers, slices (`:`), ellipsis (`...`), numpy.newaxis (`None`) and integer or boolean arrays are valid indices"
     ]
    }
   ],
   "source": [
    "X_val_final=X_val_final[col_features]\n"
   ]
  },
  {
   "cell_type": "code",
   "execution_count": 85,
   "id": "dirty-motor",
   "metadata": {},
   "outputs": [],
   "source": [
    "Train_df=aoi_outter.loc[aoi_outter[\"PanelID\"].isin(Train_indice)].reset_index(drop=True)\n",
    "Test_df=aoi_outter.loc[aoi_outter[\"PanelID\"].isin(Test_indices)].reset_index(drop=True)\n",
    "X_train=Train_df\n",
    "X_val=Test_df\n",
    "y_train=Train_df['Target']\n",
    "y_val=Test_df['Target']\n",
    "y_train=Train_df['Target']\n",
    "y_train=Train_df['Target']\n",
    "y_val=Test_df['Target']\n",
    "\n",
    "for column in list_var_to_encode:\n",
    "    train_values, test_values = frequency_encoding(column, X_train, X_val)\n",
    "    X_train[column+'_counts'] = train_values\n",
    "    X_val[column+'_counts'] = test_values\n",
    "\n",
    "encoder=ce.CatBoostEncoder()\n",
    "\n",
    "AE_train=encoder.fit_transform(X_train[list_var_to_encode].copy(),y_train)\n",
    "AE_train.columns=[x+\"_encoded\" for x in AE_train.columns.tolist()]\n",
    "X_train_final=pd.concat([X_train,AE_train],axis=1)\n",
    "joblib.dump(encoder,\"Cat_boost_step3_outer\")\n",
    "\n",
    "AE_val=encoder.transform(X_val[list_var_to_encode].copy())\n",
    "AE_val.columns=[x+\"_encoded\" for x in AE_val.columns.tolist()]\n",
    "X_val_final=pd.concat([X_val,AE_val],axis=1)\n",
    "#col_features=[x for x in X_train_final.columns.tolist() if \"_encoded\" in str(x)]#+[x for x in X_train_final.columns.tolist() if \"_is_in_panel\" in str(x)]\n",
    "#col_features=col_features#+[x for x in X_train_final.columns.tolist() if '_is_in_figure' in str(x)]\n",
    "col_features=Num_features+[x+\"_encoded\" for x in list_var_to_encode]+[\"Count_Pin\",\"Count_Pin_Figure\",\"Count_Pin_Panel\"]#+[x for x in X_val_final.columns.tolist() if \"_counts\" in x]#\n",
    "#X_train_final=X_train_final.replace(np.nan,0)\n",
    "#X_val_final=X_val_final.replace(np.nan,0)\n"
   ]
  },
  {
   "cell_type": "code",
   "execution_count": 40,
   "id": "juvenile-regard",
   "metadata": {},
   "outputs": [
    {
     "data": {
      "text/plain": [
       "(73, 27)"
      ]
     },
     "execution_count": 40,
     "metadata": {},
     "output_type": "execute_result"
    }
   ],
   "source": [
    "X_val_final.shape"
   ]
  },
  {
   "cell_type": "code",
   "execution_count": 79,
   "id": "olive-hunter",
   "metadata": {},
   "outputs": [
    {
     "data": {
      "text/plain": [
       "27"
      ]
     },
     "execution_count": 79,
     "metadata": {},
     "output_type": "execute_result"
    }
   ],
   "source": [
    "len(col_features)"
   ]
  },
  {
   "cell_type": "code",
   "execution_count": 83,
   "id": "linear-sunglasses",
   "metadata": {},
   "outputs": [
    {
     "data": {
      "text/plain": [
       "(383, 29)"
      ]
     },
     "execution_count": 83,
     "metadata": {},
     "output_type": "execute_result"
    }
   ],
   "source": [
    "X_train_final.shape"
   ]
  },
  {
   "cell_type": "code",
   "execution_count": 87,
   "id": "bridal-civilization",
   "metadata": {},
   "outputs": [
    {
     "data": {
      "text/plain": [
       "Index(['Shape(um)', 'PosX(mm)', 'PosX(mm)', 'PosY(mm)', 'PosY(mm)', 'SizeX',\n",
       "       'SizeY', 'AOILabel_encoded', 'ComponentID_encoded',\n",
       "       'FigureID_ComponentID_encoded', 'Volume(%)0.1sup_encoded',\n",
       "       'Volume(%)0.1inf_encoded', 'Volume(%)1e-06sup_encoded',\n",
       "       'Volume(%)1e-06inf_encoded', 'Area(%)0.1sup_encoded',\n",
       "       'Area(%)0.1inf_encoded', 'Area(%)1e-06sup_encoded',\n",
       "       'Area(%)1e-06inf_encoded', 'OffsetX(%)0.1sup_encoded',\n",
       "       'OffsetX(%)0.1inf_encoded', 'OffsetX(%)1e-06sup_encoded',\n",
       "       'OffsetX(%)1e-06inf_encoded', 'OffsetY(%)0.1sup_encoded',\n",
       "       'OffsetY(%)0.1inf_encoded', 'OffsetY(%)1e-06sup_encoded',\n",
       "       'OffsetY(%)1e-06inf_encoded', 'Count_Pin', 'Count_Pin_Figure',\n",
       "       'Count_Pin_Panel'],\n",
       "      dtype='object')"
      ]
     },
     "execution_count": 87,
     "metadata": {},
     "output_type": "execute_result"
    }
   ],
   "source": [
    "X_train_final[col_features].columns"
   ]
  },
  {
   "cell_type": "code",
   "execution_count": 55,
   "id": "complete-sphere",
   "metadata": {},
   "outputs": [],
   "source": [
    "aa=InputAOI.groupby([\"PanelID\",\"FigureID\",\"ComponentID\"])['AOILabel'].unique().reset_index()"
   ]
  },
  {
   "cell_type": "code",
   "execution_count": 57,
   "id": "sitting-exchange",
   "metadata": {},
   "outputs": [
    {
     "ename": "AttributeError",
     "evalue": "'Series' object has no attribute 'get_dummies'",
     "output_type": "error",
     "traceback": [
      "\u001b[0;31m---------------------------------------------------------------------------\u001b[0m",
      "\u001b[0;31mAttributeError\u001b[0m                            Traceback (most recent call last)",
      "\u001b[0;32m<ipython-input-57-d9341cae6333>\u001b[0m in \u001b[0;36m<module>\u001b[0;34m\u001b[0m\n\u001b[0;32m----> 1\u001b[0;31m \u001b[0maa\u001b[0m\u001b[0;34m[\u001b[0m\u001b[0;34m'AOILabel'\u001b[0m\u001b[0;34m]\u001b[0m\u001b[0;34m.\u001b[0m\u001b[0mget_dummies\u001b[0m\u001b[0;34m(\u001b[0m\u001b[0;34m)\u001b[0m\u001b[0;34m\u001b[0m\u001b[0;34m\u001b[0m\u001b[0m\n\u001b[0m",
      "\u001b[0;32m/opt/anaconda3/envs/bigdatalab_cpu_202101/lib/python3.7/site-packages/pandas/core/generic.py\u001b[0m in \u001b[0;36m__getattr__\u001b[0;34m(self, name)\u001b[0m\n\u001b[1;32m   5134\u001b[0m             \u001b[0;32mif\u001b[0m \u001b[0mself\u001b[0m\u001b[0;34m.\u001b[0m\u001b[0m_info_axis\u001b[0m\u001b[0;34m.\u001b[0m\u001b[0m_can_hold_identifiers_and_holds_name\u001b[0m\u001b[0;34m(\u001b[0m\u001b[0mname\u001b[0m\u001b[0;34m)\u001b[0m\u001b[0;34m:\u001b[0m\u001b[0;34m\u001b[0m\u001b[0;34m\u001b[0m\u001b[0m\n\u001b[1;32m   5135\u001b[0m                 \u001b[0;32mreturn\u001b[0m \u001b[0mself\u001b[0m\u001b[0;34m[\u001b[0m\u001b[0mname\u001b[0m\u001b[0;34m]\u001b[0m\u001b[0;34m\u001b[0m\u001b[0;34m\u001b[0m\u001b[0m\n\u001b[0;32m-> 5136\u001b[0;31m             \u001b[0;32mreturn\u001b[0m \u001b[0mobject\u001b[0m\u001b[0;34m.\u001b[0m\u001b[0m__getattribute__\u001b[0m\u001b[0;34m(\u001b[0m\u001b[0mself\u001b[0m\u001b[0;34m,\u001b[0m \u001b[0mname\u001b[0m\u001b[0;34m)\u001b[0m\u001b[0;34m\u001b[0m\u001b[0;34m\u001b[0m\u001b[0m\n\u001b[0m\u001b[1;32m   5137\u001b[0m \u001b[0;34m\u001b[0m\u001b[0m\n\u001b[1;32m   5138\u001b[0m     \u001b[0;32mdef\u001b[0m \u001b[0m__setattr__\u001b[0m\u001b[0;34m(\u001b[0m\u001b[0mself\u001b[0m\u001b[0;34m,\u001b[0m \u001b[0mname\u001b[0m\u001b[0;34m:\u001b[0m \u001b[0mstr\u001b[0m\u001b[0;34m,\u001b[0m \u001b[0mvalue\u001b[0m\u001b[0;34m)\u001b[0m \u001b[0;34m->\u001b[0m \u001b[0;32mNone\u001b[0m\u001b[0;34m:\u001b[0m\u001b[0;34m\u001b[0m\u001b[0;34m\u001b[0m\u001b[0m\n",
      "\u001b[0;31mAttributeError\u001b[0m: 'Series' object has no attribute 'get_dummies'"
     ]
    }
   ],
   "source": []
  },
  {
   "cell_type": "code",
   "execution_count": null,
   "id": "illegal-tennessee",
   "metadata": {},
   "outputs": [],
   "source": []
  }
 ],
 "metadata": {
  "kernelspec": {
   "display_name": "Python 3",
   "language": "python",
   "name": "python3"
  },
  "language_info": {
   "codemirror_mode": {
    "name": "ipython",
    "version": 3
   },
   "file_extension": ".py",
   "mimetype": "text/x-python",
   "name": "python",
   "nbconvert_exporter": "python",
   "pygments_lexer": "ipython3",
   "version": "3.7.9"
  }
 },
 "nbformat": 4,
 "nbformat_minor": 5
}
